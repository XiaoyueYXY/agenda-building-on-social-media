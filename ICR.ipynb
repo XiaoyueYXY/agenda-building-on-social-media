{
 "cells": [
  {
   "cell_type": "code",
   "execution_count": 1,
   "id": "female-certification",
   "metadata": {},
   "outputs": [],
   "source": [
    "import pandas as pd\n",
    "import numpy as np\n",
    "import seaborn as sns\n",
    "import matplotlib.pyplot as plt\n",
    "%matplotlib inline\n",
    "import matplotlib.ticker as ticker\n",
    "import krippendorff"
   ]
  },
  {
   "cell_type": "markdown",
   "id": "affected-graduation",
   "metadata": {},
   "source": [
    "### Intercoder reliability"
   ]
  },
  {
   "cell_type": "code",
   "execution_count": 2,
   "id": "inner-connectivity",
   "metadata": {},
   "outputs": [
    {
     "data": {
      "text/plain": [
       "Index(['Start Date', 'End Date', 'Response Type', 'IP Address', 'Progress',\n",
       "       'Duration (in seconds)', 'Finished', 'Recorded Date', 'Response ID',\n",
       "       'Recipient Last Name', 'Recipient First Name', 'Recipient Email',\n",
       "       'External Data Reference', 'Location Latitude', 'Location Longitude',\n",
       "       'Distribution Channel', 'User Language', 'coder', 'topic', 'surprise1',\n",
       "       'controversy1', 'scope1', 'positive_consequences1',\n",
       "       'negative_consequences1', 'elite_persons1', 'surprise2', 'controversy2',\n",
       "       'scope2', 'positive_consequences2', 'negative_consequences2',\n",
       "       'elite_persons2', 'surprise3', 'controversy3', 'scope3',\n",
       "       'positive_consequences3', 'negative_consequences3', 'elite_persons3',\n",
       "       'topic_label'],\n",
       "      dtype='object')"
      ]
     },
     "execution_count": 2,
     "metadata": {},
     "output_type": "execute_result"
    }
   ],
   "source": [
    "icr = pd.read_csv(\"newsfactor_ICR.csv\", header = 1, delimiter = \",\")\n",
    "icr.columns"
   ]
  },
  {
   "cell_type": "code",
   "execution_count": 3,
   "id": "close-webcam",
   "metadata": {},
   "outputs": [
    {
     "name": "stderr",
     "output_type": "stream",
     "text": [
      "<ipython-input-3-1a2992387034>:2: SettingWithCopyWarning: \n",
      "A value is trying to be set on a copy of a slice from a DataFrame\n",
      "\n",
      "See the caveats in the documentation: https://pandas.pydata.org/pandas-docs/stable/user_guide/indexing.html#returning-a-view-versus-a-copy\n",
      "  icr1.drop(index = icr1.index[0], axis=0, inplace=True)\n",
      "<ipython-input-3-1a2992387034>:3: SettingWithCopyWarning: \n",
      "A value is trying to be set on a copy of a slice from a DataFrame\n",
      "\n",
      "See the caveats in the documentation: https://pandas.pydata.org/pandas-docs/stable/user_guide/indexing.html#returning-a-view-versus-a-copy\n",
      "  icr1.rename(columns={'surprise1': 'surprise',\n"
     ]
    }
   ],
   "source": [
    "icr1 = icr[['coder','topic','topic_label','surprise1', 'controversy1', 'scope1', 'positive_consequences1', 'negative_consequences1', 'elite_persons1']]\n",
    "icr1.drop(index = icr1.index[0], axis=0, inplace=True)\n",
    "icr1.rename(columns={'surprise1': 'surprise',\n",
    "                 'controversy1': 'controversy',\n",
    "                 'scope1': 'scope',\n",
    "                'positive_consequences1': 'positive_consequences',\n",
    "                'negative_consequences1': 'negative_consequences', \n",
    "                'elite_persons1': 'elite_persons',}, inplace=True)"
   ]
  },
  {
   "cell_type": "code",
   "execution_count": 4,
   "id": "funded-subscriber",
   "metadata": {},
   "outputs": [
    {
     "name": "stderr",
     "output_type": "stream",
     "text": [
      "<ipython-input-4-2d383417ba0d>:2: SettingWithCopyWarning: \n",
      "A value is trying to be set on a copy of a slice from a DataFrame\n",
      "\n",
      "See the caveats in the documentation: https://pandas.pydata.org/pandas-docs/stable/user_guide/indexing.html#returning-a-view-versus-a-copy\n",
      "  icr2.drop(index = icr2.index[0], axis=0, inplace=True)\n",
      "<ipython-input-4-2d383417ba0d>:3: SettingWithCopyWarning: \n",
      "A value is trying to be set on a copy of a slice from a DataFrame\n",
      "\n",
      "See the caveats in the documentation: https://pandas.pydata.org/pandas-docs/stable/user_guide/indexing.html#returning-a-view-versus-a-copy\n",
      "  icr2.rename(columns={'surprise2': 'surprise',\n"
     ]
    }
   ],
   "source": [
    "icr2 = icr[['coder','topic','topic_label','surprise2', 'controversy2', 'scope2', 'positive_consequences2', 'negative_consequences2', 'elite_persons2']]\n",
    "icr2.drop(index = icr2.index[0], axis=0, inplace=True)\n",
    "icr2.rename(columns={'surprise2': 'surprise',\n",
    "                 'controversy2': 'controversy',\n",
    "                 'scope2': 'scope',\n",
    "                'positive_consequences2': 'positive_consequences',\n",
    "                'negative_consequences2': 'negative_consequences', \n",
    "                'elite_persons2': 'elite_persons',}, inplace=True)"
   ]
  },
  {
   "cell_type": "code",
   "execution_count": 5,
   "id": "spatial-communist",
   "metadata": {},
   "outputs": [
    {
     "name": "stderr",
     "output_type": "stream",
     "text": [
      "<ipython-input-5-1b43cfe62320>:2: SettingWithCopyWarning: \n",
      "A value is trying to be set on a copy of a slice from a DataFrame\n",
      "\n",
      "See the caveats in the documentation: https://pandas.pydata.org/pandas-docs/stable/user_guide/indexing.html#returning-a-view-versus-a-copy\n",
      "  icr3.drop(index = icr3.index[0], axis=0, inplace=True)\n",
      "<ipython-input-5-1b43cfe62320>:3: SettingWithCopyWarning: \n",
      "A value is trying to be set on a copy of a slice from a DataFrame\n",
      "\n",
      "See the caveats in the documentation: https://pandas.pydata.org/pandas-docs/stable/user_guide/indexing.html#returning-a-view-versus-a-copy\n",
      "  icr3.rename(columns={'surprise3': 'surprise',\n"
     ]
    }
   ],
   "source": [
    "icr3 = icr[['coder','topic','topic_label','surprise3', 'controversy3', 'scope3', 'positive_consequences3', 'negative_consequences3', 'elite_persons3']]\n",
    "icr3.drop(index = icr3.index[0], axis=0, inplace=True)\n",
    "icr3.rename(columns={'surprise3': 'surprise',\n",
    "                 'controversy3': 'controversy',\n",
    "                 'scope3': 'scope',\n",
    "                'positive_consequences3': 'positive_consequences',\n",
    "                'negative_consequences3': 'negative_consequences', \n",
    "                'elite_persons3': 'elite_persons',}, inplace=True)"
   ]
  },
  {
   "cell_type": "code",
   "execution_count": 6,
   "id": "distinct-gentleman",
   "metadata": {},
   "outputs": [
    {
     "name": "stderr",
     "output_type": "stream",
     "text": [
      "<ipython-input-6-9045127fff14>:1: FutureWarning: The frame.append method is deprecated and will be removed from pandas in a future version. Use pandas.concat instead.\n",
      "  icr1 = icr1.append([icr2, icr3])\n"
     ]
    }
   ],
   "source": [
    "icr1 = icr1.append([icr2, icr3])"
   ]
  },
  {
   "cell_type": "code",
   "execution_count": 7,
   "id": "funky-grounds",
   "metadata": {},
   "outputs": [
    {
     "data": {
      "text/plain": [
       "coder                    object\n",
       "topic                    object\n",
       "topic_label              object\n",
       "surprise                 object\n",
       "controversy              object\n",
       "scope                    object\n",
       "positive_consequences    object\n",
       "negative_consequences    object\n",
       "elite_persons            object\n",
       "dtype: object"
      ]
     },
     "execution_count": 7,
     "metadata": {},
     "output_type": "execute_result"
    }
   ],
   "source": [
    "icr1.dtypes"
   ]
  },
  {
   "cell_type": "code",
   "execution_count": 8,
   "id": "exterior-outline",
   "metadata": {},
   "outputs": [],
   "source": [
    "icr1[['surprise', 'controversy', 'scope', 'positive_consequences', 'negative_consequences', 'elite_persons']] = icr1[['surprise', 'controversy', 'scope', 'positive_consequences', 'negative_consequences', 'elite_persons']].apply(pd.to_numeric)"
   ]
  },
  {
   "cell_type": "code",
   "execution_count": 9,
   "id": "hidden-planet",
   "metadata": {},
   "outputs": [],
   "source": [
    "coder1 = icr1[icr1['coder'] == '1']\n",
    "coder2 = icr1[icr1['coder'] == '2']"
   ]
  },
  {
   "cell_type": "code",
   "execution_count": 10,
   "id": "generous-detroit",
   "metadata": {},
   "outputs": [
    {
     "name": "stdout",
     "output_type": "stream",
     "text": [
      "surprise\n",
      "1.0\n",
      "controversy\n",
      "0.8808808808808809\n",
      "scope\n",
      "0.8016666666666666\n",
      "positive_consequences\n",
      "0.899464939453675\n",
      "negative_consequences\n",
      "1.0\n",
      "elite_persons\n",
      "0.9427609427609428\n"
     ]
    }
   ],
   "source": [
    "for c in ['surprise', 'controversy', 'scope', 'positive_consequences', 'negative_consequences', 'elite_persons']:\n",
    "        print(c)\n",
    "        k = krippendorff.alpha((coder1[c].values.tolist(), \n",
    "                        coder2[c].values.tolist()), level_of_measurement=\"ordinal\")\n",
    "        print(k)"
   ]
  }
 ],
 "metadata": {
  "kernelspec": {
   "display_name": "Python 3 (ipykernel)",
   "language": "python",
   "name": "python3"
  },
  "language_info": {
   "codemirror_mode": {
    "name": "ipython",
    "version": 3
   },
   "file_extension": ".py",
   "mimetype": "text/x-python",
   "name": "python",
   "nbconvert_exporter": "python",
   "pygments_lexer": "ipython3",
   "version": "3.9.18"
  }
 },
 "nbformat": 4,
 "nbformat_minor": 5
}
