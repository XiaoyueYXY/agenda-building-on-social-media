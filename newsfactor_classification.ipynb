{
 "cells": [
  {
   "cell_type": "code",
   "execution_count": 2,
   "id": "c7d02a2d",
   "metadata": {},
   "outputs": [],
   "source": [
    "import pandas as pd\n",
    "import numpy as np\n",
    "from tqdm import tqdm # For a progress bar\n",
    "import krippendorff\n",
    "from sklearn.metrics import precision_score, recall_score, f1_score\n",
    "import json\n",
    "import ollama"
   ]
  },
  {
   "cell_type": "markdown",
   "id": "fd22e7a8",
   "metadata": {},
   "source": [
    "#### Filter the data needed for news factor annotation"
   ]
  },
  {
   "cell_type": "code",
   "execution_count": 2,
   "id": "53606dce",
   "metadata": {},
   "outputs": [
    {
     "data": {
      "text/html": [
       "<div>\n",
       "<style scoped>\n",
       "    .dataframe tbody tr th:only-of-type {\n",
       "        vertical-align: middle;\n",
       "    }\n",
       "\n",
       "    .dataframe tbody tr th {\n",
       "        vertical-align: top;\n",
       "    }\n",
       "\n",
       "    .dataframe thead th {\n",
       "        text-align: right;\n",
       "    }\n",
       "</style>\n",
       "<table border=\"1\" class=\"dataframe\">\n",
       "  <thead>\n",
       "    <tr style=\"text-align: right;\">\n",
       "      <th></th>\n",
       "      <th>created_at</th>\n",
       "      <th>text</th>\n",
       "      <th>id</th>\n",
       "      <th>author_id</th>\n",
       "      <th>lang</th>\n",
       "      <th>username</th>\n",
       "      <th>text_clean</th>\n",
       "      <th>source_media</th>\n",
       "      <th>topic</th>\n",
       "      <th>probs</th>\n",
       "    </tr>\n",
       "  </thead>\n",
       "  <tbody>\n",
       "    <tr>\n",
       "      <th>0</th>\n",
       "      <td>2021-12-31 12:06:05</td>\n",
       "      <td>'That was not the basis of the CDC's decision'...</td>\n",
       "      <td>1476887381336801280</td>\n",
       "      <td>2836421</td>\n",
       "      <td>en</td>\n",
       "      <td>MSNBC</td>\n",
       "      <td>that was not the basis of the cdcs decision dr...</td>\n",
       "      <td>1</td>\n",
       "      <td>13</td>\n",
       "      <td>0.707392</td>\n",
       "    </tr>\n",
       "    <tr>\n",
       "      <th>1</th>\n",
       "      <td>2021-12-30 02:46:02</td>\n",
       "      <td>'That was not the basis of the CDC's decision'...</td>\n",
       "      <td>1476384051154112512</td>\n",
       "      <td>2836421</td>\n",
       "      <td>en</td>\n",
       "      <td>MSNBC</td>\n",
       "      <td>that was not the basis of the cdcs decision dr...</td>\n",
       "      <td>1</td>\n",
       "      <td>13</td>\n",
       "      <td>0.698642</td>\n",
       "    </tr>\n",
       "    <tr>\n",
       "      <th>2</th>\n",
       "      <td>2021-12-29 13:31:07</td>\n",
       "      <td>'That was not the basis of the CDC's decision'...</td>\n",
       "      <td>1476184003526938624</td>\n",
       "      <td>2836421</td>\n",
       "      <td>en</td>\n",
       "      <td>MSNBC</td>\n",
       "      <td>that was not the basis of the cdcs decision dr...</td>\n",
       "      <td>1</td>\n",
       "      <td>13</td>\n",
       "      <td>0.708475</td>\n",
       "    </tr>\n",
       "    <tr>\n",
       "      <th>3</th>\n",
       "      <td>2021-12-29 06:31:02</td>\n",
       "      <td>'That was not the basis of the CDC's decision'...</td>\n",
       "      <td>1476078288661581824</td>\n",
       "      <td>2836421</td>\n",
       "      <td>en</td>\n",
       "      <td>MSNBC</td>\n",
       "      <td>that was not the basis of the cdcs decision dr...</td>\n",
       "      <td>1</td>\n",
       "      <td>13</td>\n",
       "      <td>0.713273</td>\n",
       "    </tr>\n",
       "    <tr>\n",
       "      <th>4</th>\n",
       "      <td>2021-08-25 19:34:01</td>\n",
       "      <td>Delta Air Lines CEO tells employees that they ...</td>\n",
       "      <td>1430614459077349376</td>\n",
       "      <td>2836421</td>\n",
       "      <td>en</td>\n",
       "      <td>MSNBC</td>\n",
       "      <td>delta air lines ceo tells employees that they ...</td>\n",
       "      <td>1</td>\n",
       "      <td>13</td>\n",
       "      <td>0.600323</td>\n",
       "    </tr>\n",
       "  </tbody>\n",
       "</table>\n",
       "</div>"
      ],
      "text/plain": [
       "            created_at                                               text  \\\n",
       "0  2021-12-31 12:06:05  'That was not the basis of the CDC's decision'...   \n",
       "1  2021-12-30 02:46:02  'That was not the basis of the CDC's decision'...   \n",
       "2  2021-12-29 13:31:07  'That was not the basis of the CDC's decision'...   \n",
       "3  2021-12-29 06:31:02  'That was not the basis of the CDC's decision'...   \n",
       "4  2021-08-25 19:34:01  Delta Air Lines CEO tells employees that they ...   \n",
       "\n",
       "                    id  author_id lang username  \\\n",
       "0  1476887381336801280    2836421   en    MSNBC   \n",
       "1  1476384051154112512    2836421   en    MSNBC   \n",
       "2  1476184003526938624    2836421   en    MSNBC   \n",
       "3  1476078288661581824    2836421   en    MSNBC   \n",
       "4  1430614459077349376    2836421   en    MSNBC   \n",
       "\n",
       "                                          text_clean  source_media  topic  \\\n",
       "0  that was not the basis of the cdcs decision dr...             1     13   \n",
       "1  that was not the basis of the cdcs decision dr...             1     13   \n",
       "2  that was not the basis of the cdcs decision dr...             1     13   \n",
       "3  that was not the basis of the cdcs decision dr...             1     13   \n",
       "4  delta air lines ceo tells employees that they ...             1     13   \n",
       "\n",
       "      probs  \n",
       "0  0.707392  \n",
       "1  0.698642  \n",
       "2  0.708475  \n",
       "3  0.713273  \n",
       "4  0.600323  "
      ]
     },
     "execution_count": 2,
     "metadata": {},
     "output_type": "execute_result"
    }
   ],
   "source": [
    "df = pd.read_csv(\"all_topic.csv\")\n",
    "df.drop(labels = [\"Unnamed: 0\"], axis = 1, inplace = True)\n",
    "df.head()"
   ]
  },
  {
   "cell_type": "code",
   "execution_count": 3,
   "id": "5baeedd3",
   "metadata": {},
   "outputs": [],
   "source": [
    "df['created_at'] = pd.to_datetime(df['created_at'])\n",
    "df['month_year'] = df['created_at'].dt.to_period('M')"
   ]
  },
  {
   "cell_type": "code",
   "execution_count": 4,
   "id": "fed7c234",
   "metadata": {},
   "outputs": [],
   "source": [
    "# Sort by 'topic', 'month_year', and 'probs' in descending order\n",
    "df_sorted = df.sort_values(by=['topic', 'month_year', 'probs'], ascending=[True, True, False])\n",
    "\n",
    "# Group by 'topic' and 'month_year', and then select the top 5 rows\n",
    "results = df_sorted.groupby(['topic', 'month_year']).head(5)"
   ]
  },
  {
   "cell_type": "code",
   "execution_count": 9,
   "id": "83208e2a",
   "metadata": {},
   "outputs": [],
   "source": [
    "results = results[results['topic'] != -1]\n",
    "results.reset_index(drop=True, inplace=True)"
   ]
  },
  {
   "cell_type": "code",
   "execution_count": 10,
   "id": "bd7d42c3",
   "metadata": {
    "scrolled": true
   },
   "outputs": [
    {
     "data": {
      "text/html": [
       "<div>\n",
       "<style scoped>\n",
       "    .dataframe tbody tr th:only-of-type {\n",
       "        vertical-align: middle;\n",
       "    }\n",
       "\n",
       "    .dataframe tbody tr th {\n",
       "        vertical-align: top;\n",
       "    }\n",
       "\n",
       "    .dataframe thead th {\n",
       "        text-align: right;\n",
       "    }\n",
       "</style>\n",
       "<table border=\"1\" class=\"dataframe\">\n",
       "  <thead>\n",
       "    <tr style=\"text-align: right;\">\n",
       "      <th></th>\n",
       "      <th>created_at</th>\n",
       "      <th>text</th>\n",
       "      <th>id</th>\n",
       "      <th>author_id</th>\n",
       "      <th>lang</th>\n",
       "      <th>username</th>\n",
       "      <th>text_clean</th>\n",
       "      <th>source_media</th>\n",
       "      <th>topic</th>\n",
       "      <th>probs</th>\n",
       "      <th>month_year</th>\n",
       "    </tr>\n",
       "  </thead>\n",
       "  <tbody>\n",
       "    <tr>\n",
       "      <th>0</th>\n",
       "      <td>2021-01-31 21:20:06</td>\n",
       "      <td>A consortium of some of Canada’s largest compa...</td>\n",
       "      <td>1355989256666292224</td>\n",
       "      <td>807095</td>\n",
       "      <td>en</td>\n",
       "      <td>nytimes</td>\n",
       "      <td>a consoium of some of canada’s largest compani...</td>\n",
       "      <td>1</td>\n",
       "      <td>0</td>\n",
       "      <td>1.0</td>\n",
       "      <td>2021-01</td>\n",
       "    </tr>\n",
       "    <tr>\n",
       "      <th>1</th>\n",
       "      <td>2021-01-29 09:09:06</td>\n",
       "      <td>CORONAVIRUS LATEST: An additional 3,872 fatali...</td>\n",
       "      <td>1355080518845530112</td>\n",
       "      <td>28785486</td>\n",
       "      <td>en</td>\n",
       "      <td>ABC</td>\n",
       "      <td>coronavirus latest an additional 3872 fataliti...</td>\n",
       "      <td>1</td>\n",
       "      <td>0</td>\n",
       "      <td>1.0</td>\n",
       "      <td>2021-01</td>\n",
       "    </tr>\n",
       "    <tr>\n",
       "      <th>2</th>\n",
       "      <td>2021-01-23 18:36:23</td>\n",
       "      <td>CORONAVIRUS LATEST: Week-to-week comparisons s...</td>\n",
       "      <td>1353048953642754048</td>\n",
       "      <td>28785486</td>\n",
       "      <td>en</td>\n",
       "      <td>ABC</td>\n",
       "      <td>coronavirus latest weektoweek comparisons show...</td>\n",
       "      <td>1</td>\n",
       "      <td>0</td>\n",
       "      <td>1.0</td>\n",
       "      <td>2021-01</td>\n",
       "    </tr>\n",
       "    <tr>\n",
       "      <th>3</th>\n",
       "      <td>2021-01-22 11:04:04</td>\n",
       "      <td>CORONAVIRUS LATEST: An additional 3,955 fatali...</td>\n",
       "      <td>1352572737844371456</td>\n",
       "      <td>28785486</td>\n",
       "      <td>en</td>\n",
       "      <td>ABC</td>\n",
       "      <td>coronavirus latest an additional 3955 fataliti...</td>\n",
       "      <td>1</td>\n",
       "      <td>0</td>\n",
       "      <td>1.0</td>\n",
       "      <td>2021-01</td>\n",
       "    </tr>\n",
       "    <tr>\n",
       "      <th>4</th>\n",
       "      <td>2021-01-18 11:45:00</td>\n",
       "      <td>Groups nationwide are strategizing grassroots ...</td>\n",
       "      <td>1351133485742895104</td>\n",
       "      <td>15754281</td>\n",
       "      <td>en</td>\n",
       "      <td>USATODAY</td>\n",
       "      <td>groups nationwide are strategizing grassroots ...</td>\n",
       "      <td>1</td>\n",
       "      <td>0</td>\n",
       "      <td>1.0</td>\n",
       "      <td>2021-01</td>\n",
       "    </tr>\n",
       "    <tr>\n",
       "      <th>5</th>\n",
       "      <td>2021-02-04 00:00:00</td>\n",
       "      <td>At this time last year, the U.S. was preparing...</td>\n",
       "      <td>1357116659115425792</td>\n",
       "      <td>28785486</td>\n",
       "      <td>en</td>\n",
       "      <td>ABC</td>\n",
       "      <td>at this time last year the us was preparing fo...</td>\n",
       "      <td>1</td>\n",
       "      <td>0</td>\n",
       "      <td>1.0</td>\n",
       "      <td>2021-02</td>\n",
       "    </tr>\n",
       "    <tr>\n",
       "      <th>6</th>\n",
       "      <td>2021-02-16 12:29:32</td>\n",
       "      <td>RT @TODAYshow: “This drop is real, it’s not ju...</td>\n",
       "      <td>1361653941205938176</td>\n",
       "      <td>14173315</td>\n",
       "      <td>en</td>\n",
       "      <td>NBCNews</td>\n",
       "      <td>todayshow “this drop is real it’s not just an ...</td>\n",
       "      <td>1</td>\n",
       "      <td>0</td>\n",
       "      <td>1.0</td>\n",
       "      <td>2021-02</td>\n",
       "    </tr>\n",
       "    <tr>\n",
       "      <th>7</th>\n",
       "      <td>2021-02-26 07:46:14</td>\n",
       "      <td>🦠 Virus cases are down 30% nationwide compared...</td>\n",
       "      <td>1365206524684075008</td>\n",
       "      <td>5392522</td>\n",
       "      <td>en</td>\n",
       "      <td>NPR</td>\n",
       "      <td>virus cases are down 30 nationwide compared t...</td>\n",
       "      <td>1</td>\n",
       "      <td>0</td>\n",
       "      <td>1.0</td>\n",
       "      <td>2021-02</td>\n",
       "    </tr>\n",
       "    <tr>\n",
       "      <th>8</th>\n",
       "      <td>2021-02-23 03:57:49</td>\n",
       "      <td>🦠 Virus cases are down 40% nationwide compared...</td>\n",
       "      <td>1364061879459528704</td>\n",
       "      <td>5392522</td>\n",
       "      <td>en</td>\n",
       "      <td>NPR</td>\n",
       "      <td>virus cases are down 40 nationwide compared t...</td>\n",
       "      <td>1</td>\n",
       "      <td>0</td>\n",
       "      <td>1.0</td>\n",
       "      <td>2021-02</td>\n",
       "    </tr>\n",
       "    <tr>\n",
       "      <th>9</th>\n",
       "      <td>2021-02-20 03:40:08</td>\n",
       "      <td>🦠 Virus cases are down 44% nationwide compared...</td>\n",
       "      <td>1362970265379078144</td>\n",
       "      <td>5392522</td>\n",
       "      <td>en</td>\n",
       "      <td>NPR</td>\n",
       "      <td>virus cases are down 44 nationwide compared t...</td>\n",
       "      <td>1</td>\n",
       "      <td>0</td>\n",
       "      <td>1.0</td>\n",
       "      <td>2021-02</td>\n",
       "    </tr>\n",
       "  </tbody>\n",
       "</table>\n",
       "</div>"
      ],
      "text/plain": [
       "           created_at                                               text  \\\n",
       "0 2021-01-31 21:20:06  A consortium of some of Canada’s largest compa...   \n",
       "1 2021-01-29 09:09:06  CORONAVIRUS LATEST: An additional 3,872 fatali...   \n",
       "2 2021-01-23 18:36:23  CORONAVIRUS LATEST: Week-to-week comparisons s...   \n",
       "3 2021-01-22 11:04:04  CORONAVIRUS LATEST: An additional 3,955 fatali...   \n",
       "4 2021-01-18 11:45:00  Groups nationwide are strategizing grassroots ...   \n",
       "5 2021-02-04 00:00:00  At this time last year, the U.S. was preparing...   \n",
       "6 2021-02-16 12:29:32  RT @TODAYshow: “This drop is real, it’s not ju...   \n",
       "7 2021-02-26 07:46:14  🦠 Virus cases are down 30% nationwide compared...   \n",
       "8 2021-02-23 03:57:49  🦠 Virus cases are down 40% nationwide compared...   \n",
       "9 2021-02-20 03:40:08  🦠 Virus cases are down 44% nationwide compared...   \n",
       "\n",
       "                    id  author_id lang  username  \\\n",
       "0  1355989256666292224     807095   en   nytimes   \n",
       "1  1355080518845530112   28785486   en       ABC   \n",
       "2  1353048953642754048   28785486   en       ABC   \n",
       "3  1352572737844371456   28785486   en       ABC   \n",
       "4  1351133485742895104   15754281   en  USATODAY   \n",
       "5  1357116659115425792   28785486   en       ABC   \n",
       "6  1361653941205938176   14173315   en   NBCNews   \n",
       "7  1365206524684075008    5392522   en       NPR   \n",
       "8  1364061879459528704    5392522   en       NPR   \n",
       "9  1362970265379078144    5392522   en       NPR   \n",
       "\n",
       "                                          text_clean  source_media  topic  \\\n",
       "0  a consoium of some of canada’s largest compani...             1      0   \n",
       "1  coronavirus latest an additional 3872 fataliti...             1      0   \n",
       "2  coronavirus latest weektoweek comparisons show...             1      0   \n",
       "3  coronavirus latest an additional 3955 fataliti...             1      0   \n",
       "4  groups nationwide are strategizing grassroots ...             1      0   \n",
       "5  at this time last year the us was preparing fo...             1      0   \n",
       "6  todayshow “this drop is real it’s not just an ...             1      0   \n",
       "7   virus cases are down 30 nationwide compared t...             1      0   \n",
       "8   virus cases are down 40 nationwide compared t...             1      0   \n",
       "9   virus cases are down 44 nationwide compared t...             1      0   \n",
       "\n",
       "   probs month_year  \n",
       "0    1.0    2021-01  \n",
       "1    1.0    2021-01  \n",
       "2    1.0    2021-01  \n",
       "3    1.0    2021-01  \n",
       "4    1.0    2021-01  \n",
       "5    1.0    2021-02  \n",
       "6    1.0    2021-02  \n",
       "7    1.0    2021-02  \n",
       "8    1.0    2021-02  \n",
       "9    1.0    2021-02  "
      ]
     },
     "execution_count": 10,
     "metadata": {},
     "output_type": "execute_result"
    }
   ],
   "source": [
    "results.head(10)"
   ]
  },
  {
   "cell_type": "code",
   "execution_count": 11,
   "id": "9ff8e864",
   "metadata": {},
   "outputs": [
    {
     "data": {
      "text/plain": [
       "9610"
      ]
     },
     "execution_count": 11,
     "metadata": {},
     "output_type": "execute_result"
    }
   ],
   "source": [
    "len(results)"
   ]
  },
  {
   "cell_type": "code",
   "execution_count": 12,
   "id": "23e3a82e",
   "metadata": {},
   "outputs": [],
   "source": [
    "results.to_csv('news_factor.csv')"
   ]
  },
  {
   "cell_type": "markdown",
   "id": "e53353df-a494-485f-a1b6-eb3dbd40c3c0",
   "metadata": {},
   "source": [
    "#### Get few-shot training samples "
   ]
  },
  {
   "cell_type": "code",
   "execution_count": 9,
   "id": "bfa9945f-5b76-4114-abd4-43d143d7b4bf",
   "metadata": {},
   "outputs": [
    {
     "data": {
      "text/html": [
       "<div>\n",
       "<style scoped>\n",
       "    .dataframe tbody tr th:only-of-type {\n",
       "        vertical-align: middle;\n",
       "    }\n",
       "\n",
       "    .dataframe tbody tr th {\n",
       "        vertical-align: top;\n",
       "    }\n",
       "\n",
       "    .dataframe thead th {\n",
       "        text-align: right;\n",
       "    }\n",
       "</style>\n",
       "<table border=\"1\" class=\"dataframe\">\n",
       "  <thead>\n",
       "    <tr style=\"text-align: right;\">\n",
       "      <th></th>\n",
       "      <th>topic</th>\n",
       "      <th>topic_label</th>\n",
       "      <th>rep_doc</th>\n",
       "      <th>surprise</th>\n",
       "      <th>controversy</th>\n",
       "      <th>scope</th>\n",
       "      <th>positive_consequences</th>\n",
       "      <th>negative_consequences</th>\n",
       "      <th>elite_persons</th>\n",
       "    </tr>\n",
       "  </thead>\n",
       "  <tbody>\n",
       "    <tr>\n",
       "      <th>0</th>\n",
       "      <td>0</td>\n",
       "      <td>COVID issues</td>\n",
       "      <td>read about workplace safety from the spread of...</td>\n",
       "      <td>0</td>\n",
       "      <td>0</td>\n",
       "      <td>0</td>\n",
       "      <td>0</td>\n",
       "      <td>0</td>\n",
       "      <td>0</td>\n",
       "    </tr>\n",
       "    <tr>\n",
       "      <th>1</th>\n",
       "      <td>0</td>\n",
       "      <td>COVID issues</td>\n",
       "      <td>disha ravi a 21yearold climate activist has be...</td>\n",
       "      <td>0</td>\n",
       "      <td>1</td>\n",
       "      <td>0</td>\n",
       "      <td>0</td>\n",
       "      <td>1</td>\n",
       "      <td>1</td>\n",
       "    </tr>\n",
       "    <tr>\n",
       "      <th>2</th>\n",
       "      <td>0</td>\n",
       "      <td>COVID issues</td>\n",
       "      <td>our thoughts are with everyone in india  to he...</td>\n",
       "      <td>0</td>\n",
       "      <td>0</td>\n",
       "      <td>1</td>\n",
       "      <td>1</td>\n",
       "      <td>0</td>\n",
       "      <td>0</td>\n",
       "    </tr>\n",
       "    <tr>\n",
       "      <th>3</th>\n",
       "      <td>1</td>\n",
       "      <td>Netflix films</td>\n",
       "      <td>netflixfilm arianagrande x kidcudi just look u...</td>\n",
       "      <td>0</td>\n",
       "      <td>0</td>\n",
       "      <td>0</td>\n",
       "      <td>0</td>\n",
       "      <td>0</td>\n",
       "      <td>0</td>\n",
       "    </tr>\n",
       "    <tr>\n",
       "      <th>4</th>\n",
       "      <td>1</td>\n",
       "      <td>Netflix films</td>\n",
       "      <td>icymi judasandtheblackmessiah hits theaters an...</td>\n",
       "      <td>0</td>\n",
       "      <td>0</td>\n",
       "      <td>0</td>\n",
       "      <td>0</td>\n",
       "      <td>0</td>\n",
       "      <td>0</td>\n",
       "    </tr>\n",
       "  </tbody>\n",
       "</table>\n",
       "</div>"
      ],
      "text/plain": [
       "   topic    topic_label                                            rep_doc  \\\n",
       "0      0   COVID issues  read about workplace safety from the spread of...   \n",
       "1      0   COVID issues  disha ravi a 21yearold climate activist has be...   \n",
       "2      0   COVID issues  our thoughts are with everyone in india  to he...   \n",
       "3      1  Netflix films  netflixfilm arianagrande x kidcudi just look u...   \n",
       "4      1  Netflix films  icymi judasandtheblackmessiah hits theaters an...   \n",
       "\n",
       "   surprise  controversy  scope  positive_consequences  negative_consequences  \\\n",
       "0         0            0      0                      0                      0   \n",
       "1         0            1      0                      0                      1   \n",
       "2         0            0      1                      1                      0   \n",
       "3         0            0      0                      0                      0   \n",
       "4         0            0      0                      0                      0   \n",
       "\n",
       "   elite_persons  \n",
       "0              0  \n",
       "1              1  \n",
       "2              0  \n",
       "3              0  \n",
       "4              0  "
      ]
     },
     "execution_count": 9,
     "metadata": {},
     "output_type": "execute_result"
    }
   ],
   "source": [
    "df = pd.read_csv(\"newsfactor_coded.csv\")\n",
    "df.head()"
   ]
  },
  {
   "cell_type": "code",
   "execution_count": 10,
   "id": "8c69447b-5e81-40ae-a8a2-d5ccaf97aa98",
   "metadata": {},
   "outputs": [],
   "source": [
    "all_indices = set(df.index)\n",
    "df1_indices = set()\n",
    "df2_indices = set()"
   ]
  },
  {
   "cell_type": "code",
   "execution_count": 11,
   "id": "8a27b0b7-194b-4af4-8cf0-bce42cc4b00f",
   "metadata": {},
   "outputs": [],
   "source": [
    "news_factors = ['surprise', 'controversy', 'scope', 'positive_consequences', 'negative_consequences', 'elite_persons']"
   ]
  },
  {
   "cell_type": "code",
   "execution_count": 12,
   "id": "91895cff-bfb8-4949-85b6-0227892751ee",
   "metadata": {},
   "outputs": [
    {
     "name": "stdout",
     "output_type": "stream",
     "text": [
      "df1 created with 36 rows.\n"
     ]
    }
   ],
   "source": [
    "for factor_col in news_factors:\n",
    "    # Sample 3 '1's for the current factor_col\n",
    "    available_ones = all_indices - df1_indices # Only consider indices not yet picked for df1\n",
    "    current_col_ones_indices = df.index[(df.index.isin(available_ones)) & (df[factor_col] == 1)].tolist()\n",
    "    \n",
    "    num_to_sample_ones = min(3, len(current_col_ones_indices))\n",
    "    if num_to_sample_ones > 0:\n",
    "        sampled_ones = pd.Series(current_col_ones_indices).sample(n=num_to_sample_ones, random_state=1, replace=False).tolist()\n",
    "        df1_indices.update(sampled_ones)\n",
    "    if num_to_sample_ones < 3:\n",
    "        print(f\"Warning: For df1, could only get {num_to_sample_ones} '1's for '{factor_col}'.\")\n",
    "\n",
    "    # Sample 3 '0's for the current factor_col\n",
    "    available_zeros = all_indices - df1_indices # Update available indices (df1_indices might have grown)\n",
    "    current_col_zeros_indices = df.index[(df.index.isin(available_zeros)) & (df[factor_col] == 0)].tolist()\n",
    "\n",
    "    num_to_sample_zeros = min(3, len(current_col_zeros_indices))\n",
    "    if num_to_sample_zeros > 0:\n",
    "        sampled_zeros = pd.Series(current_col_zeros_indices).sample(n=num_to_sample_zeros, random_state=2, replace=False).tolist()\n",
    "        df1_indices.update(sampled_zeros)\n",
    "    if num_to_sample_zeros < 3:\n",
    "        print(f\"Warning: For df1, could only get {num_to_sample_zeros} '0's for '{factor_col}'.\")\n",
    "\n",
    "df1 = df.loc[list(df1_indices)].copy()\n",
    "print(f\"df1 created with {len(df1)} rows.\")"
   ]
  },
  {
   "cell_type": "code",
   "execution_count": 14,
   "id": "006bba2d-b825-47ec-8081-2be8930cc502",
   "metadata": {},
   "outputs": [],
   "source": [
    "df1.to_csv('train.csv')"
   ]
  },
  {
   "cell_type": "code",
   "execution_count": 16,
   "id": "fa98e026-8f05-47ec-8458-22e126e55b92",
   "metadata": {},
   "outputs": [
    {
     "name": "stdout",
     "output_type": "stream",
     "text": [
      "Rows remaining after df1: 480\n"
     ]
    }
   ],
   "source": [
    "remaining_indices_after_df1 = all_indices - df1_indices\n",
    "print(f\"Rows remaining after df1: {len(remaining_indices_after_df1)}\")"
   ]
  },
  {
   "cell_type": "code",
   "execution_count": 17,
   "id": "d31725c1-8827-4246-a3b2-39603b80d847",
   "metadata": {},
   "outputs": [
    {
     "name": "stdout",
     "output_type": "stream",
     "text": [
      "Warning: For df2, could only get 1 '1's for 'surprise'.\n",
      "df2 initial (guaranteed 1s) has 11 unique rows.\n"
     ]
    }
   ],
   "source": [
    "for factor_col in news_factors:\n",
    "    available_ones = remaining_indices_after_df1 - df2_indices # Only consider indices not yet picked for df2\n",
    "    current_col_ones_indices = df.index[(df.index.isin(available_ones)) & (df[factor_col] == 1)].tolist()\n",
    "\n",
    "    num_to_sample_ones = min(2, len(current_col_ones_indices))\n",
    "    if num_to_sample_ones > 0:\n",
    "        sampled_ones = pd.Series(current_col_ones_indices).sample(n=num_to_sample_ones, random_state=3, replace=False).tolist()\n",
    "        df2_indices.update(sampled_ones)\n",
    "    if num_to_sample_ones < 2:\n",
    "        print(f\"Warning: For df2, could only get {num_to_sample_ones} '1's for '{factor_col}'.\")\n",
    "\n",
    "print(f\"df2 initial (guaranteed 1s) has {len(df2_indices)} unique rows.\")"
   ]
  },
  {
   "cell_type": "code",
   "execution_count": 18,
   "id": "99d79d27-f3d0-4ecd-882d-6ece8ea1102a",
   "metadata": {},
   "outputs": [],
   "source": [
    "remaining_indices_after_df2_initial = remaining_indices_after_df1 - df2_indices"
   ]
  },
  {
   "cell_type": "code",
   "execution_count": 19,
   "id": "d18c9a58-fb1f-494b-a5ca-43cb3fa23801",
   "metadata": {},
   "outputs": [
    {
     "name": "stdout",
     "output_type": "stream",
     "text": [
      "Added 70 more rows to df2 (15% of remaining).\n",
      "df2 created with 81 rows.\n"
     ]
    }
   ],
   "source": [
    "num_additional_for_df2 = int(len(remaining_indices_after_df2_initial) * 0.15)\n",
    "\n",
    "if num_additional_for_df2 > 0:\n",
    "    additional_df2_indices = pd.Series(list(remaining_indices_after_df2_initial)).sample(n=num_additional_for_df2, random_state=4, replace=False).tolist()\n",
    "    df2_indices.update(additional_df2_indices)\n",
    "    print(f\"Added {len(additional_df2_indices)} more rows to df2 (15% of remaining).\")\n",
    "else:\n",
    "    print(\"No additional rows to add to df2 (15% was 0 or negative).\")\n",
    "\n",
    "df2 = df.loc[list(df2_indices)].copy()\n",
    "print(f\"df2 created with {len(df2)} rows.\")\n"
   ]
  },
  {
   "cell_type": "code",
   "execution_count": 20,
   "id": "d6c7e6ed-d9fc-40be-9027-77d288dc47ed",
   "metadata": {},
   "outputs": [],
   "source": [
    "df2.to_csv('val.csv')"
   ]
  },
  {
   "cell_type": "code",
   "execution_count": 21,
   "id": "42649ecc-5792-4429-80d7-6740c7ae25ad",
   "metadata": {},
   "outputs": [
    {
     "name": "stdout",
     "output_type": "stream",
     "text": [
      "Rows remaining after df2: 399\n"
     ]
    }
   ],
   "source": [
    "remaining_indices_after_df2 = all_indices - df1_indices - df2_indices\n",
    "print(f\"Rows remaining after df2: {len(remaining_indices_after_df2)}\")"
   ]
  },
  {
   "cell_type": "code",
   "execution_count": 22,
   "id": "aa780d9d-2022-4e5a-8812-f27387613afb",
   "metadata": {},
   "outputs": [
    {
     "name": "stdout",
     "output_type": "stream",
     "text": [
      "df3 created with 399 rows.\n"
     ]
    }
   ],
   "source": [
    "df3 = df.loc[list(remaining_indices_after_df2)].copy()\n",
    "print(f\"df3 created with {len(df3)} rows.\")"
   ]
  },
  {
   "cell_type": "code",
   "execution_count": 24,
   "id": "5cd77955-5795-4190-8b7c-4f1409e8ff92",
   "metadata": {},
   "outputs": [],
   "source": [
    "df3.to_csv('test.csv')"
   ]
  },
  {
   "cell_type": "markdown",
   "id": "eea5b5a2-9aaf-4499-8dba-04c8cf6c7393",
   "metadata": {},
   "source": [
    "### Elite persons"
   ]
  },
  {
   "cell_type": "markdown",
   "id": "562892e4",
   "metadata": {},
   "source": [
    "#### Prompt instruction model"
   ]
  },
  {
   "cell_type": "code",
   "execution_count": 2,
   "id": "4ca499ff-4c7d-43c8-bc8b-66134719c9ae",
   "metadata": {},
   "outputs": [
    {
     "name": "stdout",
     "output_type": "stream",
     "text": [
      "Locally available Ollama models:\n",
      "models=[Model(model='llama3.1:latest', modified_at=datetime.datetime(2025, 7, 22, 16, 29, 12, 748502, tzinfo=TzInfo(+02:00)), digest='46e0c10c039e019119339687c3c1757cc81b9da49709a3b3924863ba87ca666e', size=4920753328, details=ModelDetails(parent_model='', format='gguf', family='llama', families=['llama'], parameter_size='8.0B', quantization_level='Q4_K_M')), Model(model='deepseek-r1:latest', modified_at=datetime.datetime(2025, 7, 22, 14, 42, 30, 846205, tzinfo=TzInfo(+02:00)), digest='6995872bfe4c521a67b32da386cd21d5c6e819b6e0d62f79f64ec83be99f5763', size=5225376047, details=ModelDetails(parent_model='', format='gguf', family='qwen3', families=['qwen3'], parameter_size='8.2B', quantization_level='Q4_K_M'))]\n"
     ]
    }
   ],
   "source": [
    "# List locally available models (should show llama3 after you downloaded it)\n",
    "print(\"Locally available Ollama models:\")\n",
    "print(ollama.list())"
   ]
  },
  {
   "cell_type": "code",
   "execution_count": 9,
   "id": "662c8e64-acde-421c-809b-42325952d8fb",
   "metadata": {},
   "outputs": [
    {
     "name": "stdout",
     "output_type": "stream",
     "text": [
      "\n",
      "Model Response:\n",
      "**Prompt**\n",
      "```markdown\n",
      "Classify tweets as having an elite person mentioned or not. Elite persons are well-known individuals, such as CEOs or influential political figures like US Presidents.\n",
      "\n",
      "Given a tweet, classify whether one or more elite persons are presented in the tweet.\n",
      "\n",
      "Note that:\n",
      "\n",
      "*   Only explicit mentions of roles or identities are considered.\n",
      "*   General mentions of roles without clear pointing to specific individuals should not be coded as elite person is present.\n",
      "*   Exception: Names \"Trump\" and \"Biden\" (and other US Presidents by their last name only) are always considered explicit mentions of an elite person, regardless of further context.\n",
      "\n",
      "Definition:\n",
      "Elite Person: Mentions of well-known individuals. E.g., CEOs or influential political figures such as the U.S. President.\n",
      "\n",
      "Examples:\n",
      "\n",
      "a) former fed vice chairman donald kohn voiced concern on tuesday that the us central bank is not wellpositioned to deal with a rising threat of faster inflation\n",
      "Answer: 1 - elite person is present.\n",
      "Reasoning: The tweet mentioned donald kohn and clearly stated the person's role as former fed vice chairman.\n",
      "\n",
      "b) once you have talent offer upskilling or right skilling to help employees get better at their job or for the job they want to do pittorenatalie chief of enduring security framework national security agency womenatwork2021\n",
      "Answer: 1 - elite person is present.\n",
      "Reasoning: pittorenatalie is mentioned as chief of enduring security framework national security agency\n",
      "\n",
      "c) president jair bolsonaro of brazil wants the international community to pledge billions of dollars to pay for conservation effos but donors are skeptical under his watch deforestation in the amazon has risen to the highest level in over a decade\n",
      "Answer: 1 - elite person is present.\n",
      "Reasoning: jair bolsonaro is mentioned as the president of brazil.\n",
      "\n",
      "d) the european central bank took a step in the federal reserve’s direction with its new inflation target of 2\n",
      "Answer: 0 - elite person is not present.\n",
      "Reasoning: No elite person is mentioned explicitly.\n",
      "\n",
      "e) we’re in the customer economy a great cx is essential for growth when you have consistent values both internally and externally you can quickly adjust to satisfy your evermore sophisticated clients learn how\n",
      "Answer: 0 - elite person is not present.\n",
      "Reasoning: No elite person is mentioned explicitly.\n",
      "\n",
      "f) in focus heimana reynolds for heimana reynolds the skateboard and park become ultimate platforms of creative and athletic expression watch heimana’s film from our exclusive documentary series now on twitter rlxteamusa teamusa tokyoolympics tokyo2020 olympics\n",
      "Answer: 0 - elite person is not present.\n",
      "Reasoning: No elite person is mentioned explicitly.\n",
      "\n",
      "Output should be a JSON object with two keys:\n",
      "1. `classification`: an integer (0 or 1) representing the classification result.\n",
      "2. `cot`: a string containing the brief chain of thought/reasoning for the classification.\n",
      "\n",
      "Input your tweet here:\n",
      "\n",
      "{your_tweet_here}\n",
      "```\n",
      "\n",
      "**Chain of Thought**\n",
      "\n",
      "The prompt is designed to provide clear instructions on how to classify tweets as having an elite person mentioned or not, while also providing examples and rationales to help improve predictions. The definition of \"Elite Person\" and the exceptions for US Presidents are explicitly stated to avoid any ambiguity.\n"
     ]
    }
   ],
   "source": [
    "# Send a chat message to the model\n",
    "messages = [\n",
    "    {'role': 'user', 'content': \"\"\"You are a highly precise prompt engineer. Trying to automatize part of the manual coding.\n",
    "    Your goal is to generate a prompt that instructs an LLM to classify tweets.\n",
    "    \n",
    "    Instructions: \n",
    "        Output the prompt you generate in markdown. Output the prompt in a codeblock.   \n",
    "        I want you to write a prompt for me that directly instructs an LLM to act as a classifier. \n",
    "        The classifier gets a tweet as input and codes whether one or more elite persons are presented in the tweet. \n",
    "        The prompt that you write should work as it is and will be followed up directly by the text that should be classified.\n",
    "        Note that all coding from the classifier should be done on the basis of explicit content. Do not infer, imply, or assume identity if not explicitly stated. Thus, if a person is mentioned without it's role or identity being explicitly stated, it should not be coded as present.\n",
    "        The classifier should be cautious of “hallucinations” - do not introduce information that is not present in the text.\n",
    "        Make it clear to the classifier that the general mention of a role, e.g., this will help the presidents and military commandars, without clearly point to the speicific person should not be coded as elite person is present.\n",
    "        Exception: The names \"Trump\" and \"Biden\" (and other US presidents by their last name only) are always considered explicit mentions of an elite person, regardless of further context.\n",
    "        \n",
    "        To leverage the few shot learning feature, make sure the definition, the examples, and its corresponding answers and rationales are passed to the classification model clearly to improve predictions: \n",
    "            Definition of \"Elite Person\":Mentions of well-known individuals. E.g., CEOs or influential political figures such as the U.S. President.\n",
    "            Examples: \n",
    "            a) former fed vice chairman donald kohn voiced concern on tuesday that the us central bank is not wellpositioned to deal with a rising threat of faster inflation\n",
    "            Answer: 1 - elite person is present. The tweet mentioned donald kohn and clearly stated the person's role as former fed vice chairman\n",
    "            b) once you have talent offer upskilling or right skilling to help employees get better at their job or for the job they want to do pittorenatalie chief of enduring security framework national security agency womenatwork2021\n",
    "            Answer: 1 - elite person is present. pittorenatalie is mentioned as chief of enduring security framework national security agency\n",
    "            c) president jair bolsonaro of brazil wants the international community to pledge billions of dollars to pay for conservation effos but donors are skeptical under his watch deforestation in the amazon has risen to the highest level in over a decade\n",
    "            Answer: 1 - elite person is present. jair bolsonaro is mentioned as the president of brazil.\n",
    "            d) the european central bank took a step in the federal reserve’s direction with its new inflation target of 2\n",
    "            Answer: 0 - elite person is not present. No elite person is mentioned explicitly.\n",
    "            e) we’re in the customer economy a great cx is essential for growth when you have consistent values both internally and externally you can quickly adjust to satisfy your evermore sophisticated clients learn how\n",
    "            Answer: 0 - elite person is not present. No elite person is mentioned explicitly.\n",
    "            f) in focus heimana reynolds for heimana reynolds the skateboard and park become ultimate platforms of creative and athletic expression watch heimana’s film from our exclusive documentary series now on twitter rlxteamusa teamusa tokyoolympics tokyo2020 olympics\n",
    "            Answer: 0 - elite person is not present. No elite person is mentioned explicitly.\n",
    "    \n",
    "        The classification result MUST ONLY be a JSON object with two keys:\n",
    "        1.  `\"classification\"`: an integer (0 or 1) representing the classification result.\n",
    "        2.  `\"cot\"`: a string containing the brief chain of thought/reasoning for the classification.\n",
    "\n",
    "    Always provide your chain of thought for generating the prompts but keep it short.\n",
    "\"\"\"},\n",
    "]\n",
    "\n",
    "response = ollama.chat(model='llama3.1:latest', messages=messages)\n",
    "print(\"\\nModel Response:\")\n",
    "print(response['message']['content'])\n",
    "\n",
    "# You can also use the generate API for simple text generation\n",
    "# response_generate = ollama.generate(model='llama3', prompt='Tell me a short story about a cat.')\n",
    "# print(\"\\nGenerated Story:\")\n",
    "# print(response_generate['response'])"
   ]
  },
  {
   "cell_type": "markdown",
   "id": "0c61e2ca",
   "metadata": {},
   "source": [
    "#### Try the prompt"
   ]
  },
  {
   "cell_type": "code",
   "execution_count": 28,
   "id": "49731905",
   "metadata": {},
   "outputs": [
    {
     "name": "stdout",
     "output_type": "stream",
     "text": [
      "\n",
      "Model Response (Chat):\n",
      "{\n",
      "  \"classification\": 0,\n",
      "  \"cot\": \"No elite person is mentioned explicitly.\"\n",
      "}\n"
     ]
    }
   ],
   "source": [
    "messages = [\n",
    "    {'role': 'user', 'content': \"\"\"Given a tweet, classify whether one or more elite persons are presented in the tweet.\n",
    "\n",
    "Note that:\n",
    "*   Only explicit mentions of roles or identities are considered.\n",
    "*   Exception: The name \"Trump\" and \"Biden\" (and other US Presidents BY THEIR LAST NAME ONLY) are always considered explicit mentions of an elite person, regardless of further context.\n",
    "*   General mentions of roles, without clear pointing to specific individuals should be coded as elite person is NOT present.\n",
    "\n",
    "Definition:\n",
    "Elite Person: Mentions of well-known individuals. E.g., CEOs or influential political figures such as the U.S. President.\n",
    "\n",
    "Examples:\n",
    "a) former fed vice chairman donald kohn voiced concern on tuesday that the us central bank is not wellpositioned to deal with a rising threat of faster inflation\n",
    "Answer: 1 - elite person is present.\n",
    "Reasoning: The tweet mentioned donald kohn and clearly stated the person's role as former fed vice chairman.\n",
    "b) once you have talent offer upskilling or right skilling to help employees get better at their job or for the job they want to do pittorenatalie chief of enduring security framework national security agency womenatwork2021\n",
    "Answer: 1 - elite person is present.\n",
    "Reasoning: pittorenatalie is mentioned as chief of enduring security framework national security agency\n",
    "c) president jair bolsonaro of brazil wants the international community to pledge billions of dollars to pay for conservation effos but donors are skeptical under his watch deforestation in the amazon has risen to the highest level in over a decade\n",
    "Answer: 1 - elite person is present.\n",
    "Reasoning: jair bolsonaro is mentioned as the president of brazil.\n",
    "d) the european central bank took a step in the federal reserve’s direction with its new inflation target of 2\n",
    "Answer: 0 - elite person is not present.\n",
    "Reasoning: No elite person is mentioned explicitly.\n",
    "e) we’re in the customer economy a great cx is essential for growth when you have consistent values both internally and externally you can quickly adjust to satisfy your evermore sophisticated clients learn how\n",
    "Answer: 0 - elite person is not present.\n",
    "Reasoning: No elite person is mentioned explicitly.\n",
    "f) in focus heimana reynolds for heimana reynolds the skateboard and park become ultimate platforms of creative and athletic expression watch heimana’s film from our exclusive documentary series now on twitter rlxteamusa teamusa tokyoolympics tokyo2020 olympics\n",
    "Answer: 0 - elite person is not present.\n",
    "Reasoning: No elite person is mentioned explicitly.\n",
    "\n",
    "THE ONLY OUTPUT should be a JSON object with two keys:\n",
    "1. `classification`: an integer (0 or 1) representing the classification result.\n",
    "2. `cot`: a string containing the brief chain of thought/reasoning for the classification.\n",
    "\n",
    "Do NOT include any other text, explanations, or Markdown code block fences (like ```json or ```) in your response. Output ONLY the JSON object.\n",
    "\n",
    "Input tweet:\n",
    "moisturize skin while you bathe skinsosoft\n",
    "\"\"\"},\n",
    "]\n",
    "response = ollama.chat(model='llama3.1:latest', messages=messages)\n",
    "print(\"\\nModel Response (Chat):\")\n",
    "print(response['message']['content'])"
   ]
  },
  {
   "cell_type": "code",
   "execution_count": 29,
   "id": "daf5a530",
   "metadata": {},
   "outputs": [
    {
     "name": "stdout",
     "output_type": "stream",
     "text": [
      "\n",
      "Model Response (Chat):\n",
      "{\n",
      "  \"classification\": 0,\n",
      "  \"cot\": \"No elite person is mentioned explicitly.\"\n",
      "}\n"
     ]
    }
   ],
   "source": [
    "messages = [\n",
    "    {'role': 'user', 'content': \"\"\"Given a tweet, classify whether one or more elite persons are presented in the tweet.\n",
    "\n",
    "Note that:\n",
    "*   Only explicit mentions of roles or identities are considered.\n",
    "*   Exception: The name \"Trump\" and \"Biden\" (and other US Presidents BY THEIR LAST NAME ONLY) are always considered explicit mentions of an elite person, regardless of further context.\n",
    "*   General mentions of roles, without clear pointing to specific individuals should be coded as elite person is NOT present.\n",
    "\n",
    "Definition:\n",
    "Elite Person: Mentions of well-known individuals. E.g., CEOs or influential political figures such as the U.S. President.\n",
    "\n",
    "Examples:\n",
    "a) former fed vice chairman donald kohn voiced concern on tuesday that the us central bank is not wellpositioned to deal with a rising threat of faster inflation\n",
    "Answer: 1 - elite person is present.\n",
    "Reasoning: The tweet mentioned donald kohn and clearly stated the person's role as former fed vice chairman.\n",
    "b) once you have talent offer upskilling or right skilling to help employees get better at their job or for the job they want to do pittorenatalie chief of enduring security framework national security agency womenatwork2021\n",
    "Answer: 1 - elite person is present.\n",
    "Reasoning: pittorenatalie is mentioned as chief of enduring security framework national security agency\n",
    "c) president jair bolsonaro of brazil wants the international community to pledge billions of dollars to pay for conservation effos but donors are skeptical under his watch deforestation in the amazon has risen to the highest level in over a decade\n",
    "Answer: 1 - elite person is present.\n",
    "Reasoning: jair bolsonaro is mentioned as the president of brazil.\n",
    "d) the european central bank took a step in the federal reserve’s direction with its new inflation target of 2\n",
    "Answer: 0 - elite person is not present.\n",
    "Reasoning: No elite person is mentioned explicitly.\n",
    "e) we’re in the customer economy a great cx is essential for growth when you have consistent values both internally and externally you can quickly adjust to satisfy your evermore sophisticated clients learn how\n",
    "Answer: 0 - elite person is not present.\n",
    "Reasoning: No elite person is mentioned explicitly.\n",
    "f) in focus heimana reynolds for heimana reynolds the skateboard and park become ultimate platforms of creative and athletic expression watch heimana’s film from our exclusive documentary series now on twitter rlxteamusa teamusa tokyoolympics tokyo2020 olympics\n",
    "Answer: 0 - elite person is not present.\n",
    "Reasoning: No elite person is mentioned explicitly.\n",
    "\n",
    "THE ONLY OUTPUT should be a JSON object with two keys:\n",
    "1. `classification`: an integer (0 or 1) representing the classification result.\n",
    "2. `cot`: a string containing the brief chain of thought/reasoning for the classification.\n",
    "\n",
    "Do NOT include any other text, explanations, or Markdown code block fences (like ```json or ```) in your response. Output ONLY the JSON object.\n",
    "\n",
    "Input tweet:\n",
    "by building underground transmissions we are building a system that promotes clean and reliable energy learn more about this project in the latest episode of our plugged in podcast\n",
    "\"\"\"},\n",
    "]\n",
    "response = ollama.chat(model='llama3.1:latest', messages=messages)\n",
    "print(\"\\nModel Response (Chat):\")\n",
    "print(response['message']['content'])"
   ]
  },
  {
   "cell_type": "code",
   "execution_count": 30,
   "id": "8e905a8f",
   "metadata": {},
   "outputs": [
    {
     "name": "stdout",
     "output_type": "stream",
     "text": [
      "\n",
      "Model Response (Chat):\n",
      "{\n",
      "    \"classification\": 1,\n",
      "    \"cot\": \"the tweet mentioned top executives, which implies well-known individuals\"\n",
      "}\n"
     ]
    }
   ],
   "source": [
    "messages = [\n",
    "    {'role': 'user', 'content': \"\"\"Given a tweet, classify whether one or more elite persons are presented in the tweet.\n",
    "\n",
    "Note that:\n",
    "*   Only explicit mentions of roles or identities are considered.\n",
    "*   Exception: The name \"Trump\" and \"Biden\" (and other US Presidents BY THEIR LAST NAME ONLY) are always considered explicit mentions of an elite person, regardless of further context.\n",
    "*   General mentions of roles, without clear pointing to specific individuals should be coded as elite person is NOT present.\n",
    "\n",
    "Definition:\n",
    "Elite Person: Mentions of well-known individuals. E.g., CEOs or influential political figures such as the U.S. President.\n",
    "\n",
    "Examples:\n",
    "a) former fed vice chairman donald kohn voiced concern on tuesday that the us central bank is not wellpositioned to deal with a rising threat of faster inflation\n",
    "Answer: 1 - elite person is present.\n",
    "Reasoning: The tweet mentioned donald kohn and clearly stated the person's role as former fed vice chairman.\n",
    "b) once you have talent offer upskilling or right skilling to help employees get better at their job or for the job they want to do pittorenatalie chief of enduring security framework national security agency womenatwork2021\n",
    "Answer: 1 - elite person is present.\n",
    "Reasoning: pittorenatalie is mentioned as chief of enduring security framework national security agency\n",
    "c) president jair bolsonaro of brazil wants the international community to pledge billions of dollars to pay for conservation effos but donors are skeptical under his watch deforestation in the amazon has risen to the highest level in over a decade\n",
    "Answer: 1 - elite person is present.\n",
    "Reasoning: jair bolsonaro is mentioned as the president of brazil.\n",
    "d) the european central bank took a step in the federal reserve’s direction with its new inflation target of 2\n",
    "Answer: 0 - elite person is not present.\n",
    "Reasoning: No elite person is mentioned explicitly.\n",
    "e) we’re in the customer economy a great cx is essential for growth when you have consistent values both internally and externally you can quickly adjust to satisfy your evermore sophisticated clients learn how\n",
    "Answer: 0 - elite person is not present.\n",
    "Reasoning: No elite person is mentioned explicitly.\n",
    "f) in focus heimana reynolds for heimana reynolds the skateboard and park become ultimate platforms of creative and athletic expression watch heimana’s film from our exclusive documentary series now on twitter rlxteamusa teamusa tokyoolympics tokyo2020 olympics\n",
    "Answer: 0 - elite person is not present.\n",
    "Reasoning: No elite person is mentioned explicitly.\n",
    "\n",
    "THE ONLY OUTPUT should be a JSON object with two keys:\n",
    "1. `classification`: an integer (0 or 1) representing the classification result.\n",
    "2. `cot`: a string containing the brief chain of thought/reasoning for the classification.\n",
    "\n",
    "Do NOT include any other text, explanations, or Markdown code block fences (like ```json or ```) in your response. Output ONLY the JSON object.\n",
    "\n",
    "Input tweet:\n",
    "hong kongs prodemocracy newspaper apple daily is shutting down after 26 years the move comes after the government froze its bank accounts and arrested several top executives including the editorinchief\n",
    "\"\"\"},\n",
    "]\n",
    "response = ollama.chat(model='llama3.1:latest', messages=messages)\n",
    "print(\"\\nModel Response (Chat):\")\n",
    "print(response['message']['content'])"
   ]
  },
  {
   "cell_type": "code",
   "execution_count": 31,
   "id": "ada604aa",
   "metadata": {},
   "outputs": [
    {
     "name": "stdout",
     "output_type": "stream",
     "text": [
      "\n",
      "Model Response (Chat):\n",
      "{\n",
      "  \"classification\": 1,\n",
      "  \"cot\": \"benyt and jeff bezos are explicitly mentioned, indicating an elite person is present.\"\n",
      "}\n"
     ]
    }
   ],
   "source": [
    "messages = [\n",
    "    {'role': 'user', 'content': \"\"\"Given a tweet, classify whether one or more elite persons are presented in the tweet.\n",
    "\n",
    "Note that:\n",
    "*   Only explicit mentions of roles or identities are considered.\n",
    "*   Exception: The name \"Trump\" and \"Biden\" (and other US Presidents BY THEIR LAST NAME ONLY) are always considered explicit mentions of an elite person, regardless of further context.\n",
    "*   General mentions of roles, without clear pointing to specific individuals should be coded as elite person is NOT present.\n",
    "\n",
    "Definition:\n",
    "Elite Person: Mentions of well-known individuals. E.g., CEOs or influential political figures such as the U.S. President.\n",
    "\n",
    "Examples:\n",
    "a) former fed vice chairman donald kohn voiced concern on tuesday that the us central bank is not wellpositioned to deal with a rising threat of faster inflation\n",
    "Answer: 1 - elite person is present.\n",
    "Reasoning: The tweet mentioned donald kohn and clearly stated the person's role as former fed vice chairman.\n",
    "b) once you have talent offer upskilling or right skilling to help employees get better at their job or for the job they want to do pittorenatalie chief of enduring security framework national security agency womenatwork2021\n",
    "Answer: 1 - elite person is present.\n",
    "Reasoning: pittorenatalie is mentioned as chief of enduring security framework national security agency\n",
    "c) president jair bolsonaro of brazil wants the international community to pledge billions of dollars to pay for conservation effos but donors are skeptical under his watch deforestation in the amazon has risen to the highest level in over a decade\n",
    "Answer: 1 - elite person is present.\n",
    "Reasoning: jair bolsonaro is mentioned as the president of brazil.\n",
    "d) the european central bank took a step in the federal reserve’s direction with its new inflation target of 2\n",
    "Answer: 0 - elite person is not present.\n",
    "Reasoning: No elite person is mentioned explicitly.\n",
    "e) we’re in the customer economy a great cx is essential for growth when you have consistent values both internally and externally you can quickly adjust to satisfy your evermore sophisticated clients learn how\n",
    "Answer: 0 - elite person is not present.\n",
    "Reasoning: No elite person is mentioned explicitly.\n",
    "f) in focus heimana reynolds for heimana reynolds the skateboard and park become ultimate platforms of creative and athletic expression watch heimana’s film from our exclusive documentary series now on twitter rlxteamusa teamusa tokyoolympics tokyo2020 olympics\n",
    "Answer: 0 - elite person is not present.\n",
    "Reasoning: No elite person is mentioned explicitly.\n",
    "\n",
    "THE ONLY OUTPUT should be a JSON object with two keys:\n",
    "1. `classification`: an integer (0 or 1) representing the classification result.\n",
    "2. `cot`: a string containing the brief chain of thought/reasoning for the classification.\n",
    "\n",
    "Do NOT include any other text, explanations, or Markdown code block fences (like ```json or ```) in your response. Output ONLY the JSON object.\n",
    "\n",
    "Input tweet:\n",
    "amazon unbound by brad stone is on its surface a business book writes benyt in his review for nytimesbooks its also very much a biography of jeff bezos that makes for a dense at times juicy tour of the company bezos built\n",
    "\"\"\"},\n",
    "]\n",
    "response = ollama.chat(model='llama3.1:latest', messages=messages)\n",
    "print(\"\\nModel Response (Chat):\")\n",
    "print(response['message']['content'])"
   ]
  },
  {
   "cell_type": "markdown",
   "id": "1841add8",
   "metadata": {},
   "source": [
    "#### Validate the performance"
   ]
  },
  {
   "cell_type": "code",
   "execution_count": 57,
   "id": "8e36bc9e",
   "metadata": {},
   "outputs": [],
   "source": [
    "MESSAGE = \"\"\"Given a tweet, classify whether one or more elite persons are presented in the tweet.\n",
    "\n",
    "Note that:\n",
    "*   Only explicit mentions of roles or identities are considered. The roles and identities should have far-reaching influence or power. \n",
    "*   Do not infer, imply, or assume identity if not explicitly stated.\n",
    "*   Do not introduce information that is not present in the text.\n",
    "*   Mention of company names, even if they are well-known company, should NOT be counted elite persons.\n",
    "*   Exception: The name \"Trump\" and \"Biden\" (and other US Presidents BY THEIR LAST NAME ONLY), and Dr. Martin Luther King, Jr are always considered explicit mentions of an elite person, regardless of further context.\n",
    "\n",
    "Definition:\n",
    "Elite Person: Mentions of well-known individuals. E.g., Movie stars, CEOs, or influential political figures such as governmental officials.\n",
    "\n",
    "Examples:\n",
    "a) former fed vice chairman donald kohn voiced concern on tuesday that the us central bank is not wellpositioned to deal with a rising threat of faster inflation\n",
    "Answer: 1 - elite person is present.\n",
    "Reasoning: The tweet mentioned donald kohn and clearly stated the person's role as former fed vice chairman.\n",
    "b) once you have talent offer upskilling or right skilling to help employees get better at their job or for the job they want to do pittorenatalie chief of enduring security framework national security agency womenatwork2021\n",
    "Answer: 1 - elite person is present.\n",
    "Reasoning: pittorenatalie is mentioned as chief of enduring security framework national security agency\n",
    "c) president jair bolsonaro of brazil wants the international community to pledge billions of dollars to pay for conservation effos but donors are skeptical under his watch deforestation in the amazon has risen to the highest level in over a decade\n",
    "Answer: 1 - elite person is present.\n",
    "Reasoning: jair bolsonaro is mentioned as the president of brazil.\n",
    "d) the european central bank took a step in the federal reserve’s direction with its new inflation target of 2\n",
    "Answer: 0 - elite person is not present.\n",
    "Reasoning: No elite person is mentioned explicitly.\n",
    "e) we’re in the customer economy a great cx is essential for growth when you have consistent values both internally and externally you can quickly adjust to satisfy your evermore sophisticated clients learn how\n",
    "Answer: 0 - elite person is not present.\n",
    "Reasoning: No elite person is mentioned explicitly.\n",
    "f) in focus heimana reynolds for heimana reynolds the skateboard and park become ultimate platforms of creative and athletic expression watch heimana’s film from our exclusive documentary series now on twitter rlxteamusa teamusa tokyoolympics tokyo2020 olympics\n",
    "Answer: 0 - elite person is not present.\n",
    "Reasoning: No elite person is mentioned explicitly.\n",
    "\n",
    "THE ONLY OUTPUT should be a JSON object with two keys:\n",
    "1. `classification`: an integer (0 or 1) representing the classification result.\n",
    "2. `cot`: a string containing the brief chain of thought/reasoning for the classification.\n",
    "\n",
    "Do NOT include any other text, explanations, or Markdown code block fences (like ```json or ```) in your response. Output ONLY the JSON object.\n",
    "\n",
    "Input tweet: \n",
    "'{tweet_text}'\n",
    "\"\"\""
   ]
  },
  {
   "cell_type": "code",
   "execution_count": 63,
   "id": "1335512a-610b-484f-ab07-93603808c487",
   "metadata": {},
   "outputs": [],
   "source": [
    "val = pd.read_csv(\"val.csv\")\n",
    "val.drop(labels = [\"Unnamed: 0\"], axis = 1, inplace = True)"
   ]
  },
  {
   "cell_type": "code",
   "execution_count": 11,
   "id": "3cba1f73-2ad1-4453-9672-0bfb9e50802f",
   "metadata": {},
   "outputs": [],
   "source": [
    "def classify_tweet_with_ollama(tweet_text, model_name=\"llama3.1\"):\n",
    "    \"\"\"\n",
    "    Sends a tweet to the Ollama model for classification and extracts the result and CoT from JSON.\n",
    "    \"\"\"\n",
    "    full_prompt = MESSAGE.format(tweet_text=tweet_text)\n",
    "    try:\n",
    "        response = ollama.chat(\n",
    "            model=model_name,\n",
    "            messages=[{'role': 'user', 'content': full_prompt}],\n",
    "            options={'temperature': 0.0}\n",
    "        )\n",
    "        content = response['message']['content'].strip()\n",
    "\n",
    "        classification = np.nan\n",
    "        cot = \"\"\n",
    "\n",
    "        try:\n",
    "            parsed_json = json.loads(content)\n",
    "            # Extract values from the parsed JSON\n",
    "            if 'classification' in parsed_json:\n",
    "                classification = int(parsed_json['classification'])\n",
    "            if 'cot' in parsed_json:\n",
    "                cot = parsed_json['cot']\n",
    "            else:\n",
    "                print(f\"Warning: No JSON found in LLM output for tweet: {tweet_text[:50]}...\")\n",
    "                print(f\"LLM output (first 100 chars): {content[:100]}...\")\n",
    "                cot = content # Store full content if JSON not found\n",
    "\n",
    "        except (json.JSONDecodeError, ValueError) as e:\n",
    "            print(f\"Warning: JSON parsing/conversion error for tweet: {tweet_text[:50]}... Error: {e}\")\n",
    "            print(f\"LLM raw output: {content[:100]}...\")\n",
    "            cot = content # Store raw content if parsing failed\n",
    "\n",
    "        return classification, cot\n",
    "\n",
    "    except Exception as e:\n",
    "        print(f\"Error classifying tweet: {tweet_text[:50]}... Error: {e}\")\n",
    "        return np.nan, f\"Error during classification: {e}\""
   ]
  },
  {
   "cell_type": "code",
   "execution_count": 59,
   "id": "4fb6c710-31d7-4a10-97ed-af8de9ef0daf",
   "metadata": {},
   "outputs": [
    {
     "name": "stderr",
     "output_type": "stream",
     "text": [
      "Classifying Tweets:   0%|          | 0/81 [00:00<?, ?it/s]Classifying Tweets: 100%|██████████| 81/81 [02:58<00:00,  2.20s/it]\n"
     ]
    }
   ],
   "source": [
    "llm_results = []\n",
    "llm_cots = []\n",
    "model_to_use = \"llama3.1\" \n",
    "\n",
    "for index, row in tqdm(val.iterrows(), total=len(val), desc=\"Classifying Tweets\"):\n",
    "    tweet_text = row['rep_doc']\n",
    "    llm_classification, llm_cot = classify_tweet_with_ollama(tweet_text, model_name=model_to_use)\n",
    "    llm_results.append(llm_classification)\n",
    "    llm_cots.append(llm_cot)\n",
    "\n",
    "val['elite_persons_llm1'] = llm_results\n",
    "val['elite_persons_llm_cot1'] = llm_cots\n"
   ]
  },
  {
   "cell_type": "code",
   "execution_count": 66,
   "id": "f9658708",
   "metadata": {},
   "outputs": [
    {
     "name": "stderr",
     "output_type": "stream",
     "text": [
      "Classifying Tweets: 100%|██████████| 81/81 [02:50<00:00,  2.10s/it]\n"
     ]
    }
   ],
   "source": [
    "llm_results = []\n",
    "llm_cots = []\n",
    "model_to_use = \"llama3.1\" \n",
    "\n",
    "for index, row in tqdm(val.iterrows(), total=len(val), desc=\"Classifying Tweets\"):\n",
    "    tweet_text = row['rep_doc']\n",
    "    llm_classification, llm_cot = classify_tweet_with_ollama(tweet_text, model_name=model_to_use)\n",
    "    llm_results.append(llm_classification)\n",
    "    llm_cots.append(llm_cot)\n",
    "\n",
    "val['elite_persons_llm2'] = llm_results\n",
    "val['elite_persons_llm_cot2'] = llm_cots\n"
   ]
  },
  {
   "cell_type": "markdown",
   "id": "a4e20df6",
   "metadata": {},
   "source": [
    "Intercoder reliability between 2 runs of llm"
   ]
  },
  {
   "cell_type": "code",
   "execution_count": 67,
   "id": "654c77d6-125d-49c7-a159-0231a48f9dba",
   "metadata": {},
   "outputs": [
    {
     "data": {
      "text/plain": [
       "elite_persons_llm1  elite_persons_llm2\n",
       "0                   0                     66\n",
       "1                   1                     15\n",
       "Name: topic, dtype: int64"
      ]
     },
     "execution_count": 67,
     "metadata": {},
     "output_type": "execute_result"
    }
   ],
   "source": [
    "val.groupby(['elite_persons_llm1','elite_persons_llm2'])['topic'].count()"
   ]
  },
  {
   "cell_type": "code",
   "execution_count": 68,
   "id": "a9b7958e-9a7b-4029-9744-be373dfae1b6",
   "metadata": {},
   "outputs": [
    {
     "data": {
      "text/plain": [
       "np.float64(1.0)"
      ]
     },
     "execution_count": 68,
     "metadata": {},
     "output_type": "execute_result"
    }
   ],
   "source": [
    "krippendorff.alpha((val['elite_persons_llm1'].values.tolist(), \n",
    "                    val['elite_persons_llm2'].values.tolist()), level_of_measurement=\"nominal\")"
   ]
  },
  {
   "cell_type": "markdown",
   "id": "a2762b45",
   "metadata": {},
   "source": [
    "Compare performance between llm and human coder"
   ]
  },
  {
   "cell_type": "code",
   "execution_count": 64,
   "id": "ff651cce",
   "metadata": {},
   "outputs": [
    {
     "data": {
      "text/plain": [
       "elite_persons  elite_persons_llm1\n",
       "0              0                     65\n",
       "               1                      3\n",
       "1              0                      1\n",
       "               1                     12\n",
       "Name: topic, dtype: int64"
      ]
     },
     "execution_count": 64,
     "metadata": {},
     "output_type": "execute_result"
    }
   ],
   "source": [
    "val.groupby(['elite_persons','elite_persons_llm1'])['topic'].count()"
   ]
  },
  {
   "cell_type": "code",
   "execution_count": 75,
   "id": "86a3a193",
   "metadata": {},
   "outputs": [
    {
     "name": "stdout",
     "output_type": "stream",
     "text": [
      "Precision: 0.80\n",
      "Recall: 0.92\n",
      "F1-score: 0.86\n"
     ]
    }
   ],
   "source": [
    "precision = precision_score(val['elite_persons'], val['elite_persons_llm1'])\n",
    "recall = recall_score(val['elite_persons'], val['elite_persons_llm1'])\n",
    "f1 = f1_score(val['elite_persons'], val['elite_persons_llm1'])\n",
    "\n",
    "# Print individual scores\n",
    "print(f'Precision: {precision:.2f}')\n",
    "print(f'Recall: {recall:.2f}')\n",
    "print(f'F1-score: {f1:.2f}')"
   ]
  },
  {
   "cell_type": "code",
   "execution_count": 69,
   "id": "f72f3a26",
   "metadata": {},
   "outputs": [],
   "source": [
    "val.to_csv('val.csv')"
   ]
  },
  {
   "cell_type": "markdown",
   "id": "2a8db925",
   "metadata": {},
   "source": [
    "#### Test the final prompt"
   ]
  },
  {
   "cell_type": "code",
   "execution_count": null,
   "id": "c5942d11",
   "metadata": {},
   "outputs": [],
   "source": [
    "MESSAGE = \"\"\"Given a tweet, classify whether one or more elite persons are presented in the tweet.\n",
    "\n",
    "Note that:\n",
    "*   Only explicit mentions of roles or identities are considered. The roles and identities should have far-reaching influence or power. \n",
    "*   Do not infer, imply, or assume identity if not explicitly stated.\n",
    "*   Do not introduce information that is not present in the text.\n",
    "*   Mention of company names, even if they are well-known company, should NOT be counted elite persons.\n",
    "*   Exception: The name \"Trump\" and \"Biden\" (and other US Presidents BY THEIR LAST NAME ONLY), and Dr. Martin Luther King, Jr are always considered explicit mentions of an elite person, regardless of further context.\n",
    "\n",
    "Definition:\n",
    "Elite Person: Mentions of well-known individuals. E.g., Movie stars, CEOs, or influential political figures such as governmental officials.\n",
    "\n",
    "Examples:\n",
    "a) former fed vice chairman donald kohn voiced concern on tuesday that the us central bank is not wellpositioned to deal with a rising threat of faster inflation\n",
    "Answer: 1 - elite person is present.\n",
    "Reasoning: The tweet mentioned donald kohn and clearly stated the person's role as former fed vice chairman.\n",
    "b) once you have talent offer upskilling or right skilling to help employees get better at their job or for the job they want to do pittorenatalie chief of enduring security framework national security agency womenatwork2021\n",
    "Answer: 1 - elite person is present.\n",
    "Reasoning: pittorenatalie is mentioned as chief of enduring security framework national security agency\n",
    "c) president jair bolsonaro of brazil wants the international community to pledge billions of dollars to pay for conservation effos but donors are skeptical under his watch deforestation in the amazon has risen to the highest level in over a decade\n",
    "Answer: 1 - elite person is present.\n",
    "Reasoning: jair bolsonaro is mentioned as the president of brazil.\n",
    "d) the european central bank took a step in the federal reserve’s direction with its new inflation target of 2\n",
    "Answer: 0 - elite person is not present.\n",
    "Reasoning: No elite person is mentioned explicitly.\n",
    "e) we’re in the customer economy a great cx is essential for growth when you have consistent values both internally and externally you can quickly adjust to satisfy your evermore sophisticated clients learn how\n",
    "Answer: 0 - elite person is not present.\n",
    "Reasoning: No elite person is mentioned explicitly.\n",
    "f) in focus heimana reynolds for heimana reynolds the skateboard and park become ultimate platforms of creative and athletic expression watch heimana’s film from our exclusive documentary series now on twitter rlxteamusa teamusa tokyoolympics tokyo2020 olympics\n",
    "Answer: 0 - elite person is not present.\n",
    "Reasoning: No elite person is mentioned explicitly.\n",
    "\n",
    "THE ONLY OUTPUT should be a JSON object with two keys:\n",
    "1. `classification`: an integer (0 or 1) representing the classification result.\n",
    "2. `cot`: a string containing the brief chain of thought/reasoning for the classification.\n",
    "\n",
    "Do NOT include any other text, explanations, or Markdown code block fences (like ```json or ```) in your response. Output ONLY the JSON object.\n",
    "\n",
    "Input tweet: \n",
    "'{tweet_text}'\n",
    "\"\"\""
   ]
  },
  {
   "cell_type": "code",
   "execution_count": 53,
   "id": "35a5a636",
   "metadata": {},
   "outputs": [],
   "source": [
    "test = pd.read_csv(\"test.csv\")\n",
    "test.drop(labels = [\"Unnamed: 0\"], axis = 1, inplace = True)"
   ]
  },
  {
   "cell_type": "code",
   "execution_count": null,
   "id": "048d8d62",
   "metadata": {},
   "outputs": [],
   "source": [
    "llm_results = []\n",
    "llm_cots = []\n",
    "model_to_use = \"llama3.1\" \n",
    "\n",
    "for index, row in tqdm(test.iterrows(), total=len(test), desc=\"Classifying Tweets\"):\n",
    "    tweet_text = row['rep_doc']\n",
    "    llm_classification, llm_cot = classify_tweet_with_ollama(tweet_text, model_name=model_to_use)\n",
    "    llm_results.append(llm_classification)\n",
    "    llm_cots.append(llm_cot)\n",
    "\n",
    "test['elite_persons_llm1'] = llm_results\n",
    "test['elite_persons_llm_cot1'] = llm_cots"
   ]
  },
  {
   "cell_type": "code",
   "execution_count": null,
   "id": "87baa066",
   "metadata": {},
   "outputs": [],
   "source": [
    "llm_results = []\n",
    "llm_cots = []\n",
    "model_to_use = \"llama3.1\" \n",
    "\n",
    "for index, row in tqdm(test.iterrows(), total=len(test), desc=\"Classifying Tweets\"):\n",
    "    tweet_text = row['rep_doc']\n",
    "    llm_classification, llm_cot = classify_tweet_with_ollama(tweet_text, model_name=model_to_use)\n",
    "    llm_results.append(llm_classification)\n",
    "    llm_cots.append(llm_cot)\n",
    "\n",
    "test['elite_persons_llm2'] = llm_results\n",
    "test['elite_persons_llm_cot2'] = llm_cots"
   ]
  },
  {
   "cell_type": "code",
   "execution_count": 54,
   "id": "8f15bbfc",
   "metadata": {},
   "outputs": [
    {
     "data": {
      "text/plain": [
       "elite_persons_llm1  elite_persons_llm2\n",
       "0                   0                     332\n",
       "1                   1                      67\n",
       "Name: topic, dtype: int64"
      ]
     },
     "execution_count": 54,
     "metadata": {},
     "output_type": "execute_result"
    }
   ],
   "source": [
    "test.groupby(['elite_persons_llm1','elite_persons_llm2'])['topic'].count()"
   ]
  },
  {
   "cell_type": "code",
   "execution_count": 55,
   "id": "b3a2bdab",
   "metadata": {},
   "outputs": [
    {
     "data": {
      "text/plain": [
       "np.float64(1.0)"
      ]
     },
     "execution_count": 55,
     "metadata": {},
     "output_type": "execute_result"
    }
   ],
   "source": [
    "krippendorff.alpha((test['elite_persons_llm1'].values.tolist(), \n",
    "                    test['elite_persons_llm2'].values.tolist()), level_of_measurement=\"nominal\")"
   ]
  },
  {
   "cell_type": "code",
   "execution_count": 56,
   "id": "f4ac89b4",
   "metadata": {},
   "outputs": [
    {
     "data": {
      "text/plain": [
       "elite_persons  elite_persons_llm1\n",
       "0              0                     331\n",
       "               1                      19\n",
       "1              0                       1\n",
       "               1                      48\n",
       "Name: topic, dtype: int64"
      ]
     },
     "execution_count": 56,
     "metadata": {},
     "output_type": "execute_result"
    }
   ],
   "source": [
    "test.groupby(['elite_persons','elite_persons_llm1'])['topic'].count()"
   ]
  },
  {
   "cell_type": "code",
   "execution_count": 59,
   "id": "c372511b",
   "metadata": {},
   "outputs": [
    {
     "name": "stdout",
     "output_type": "stream",
     "text": [
      "Precision: 0.72\n",
      "Recall: 0.98\n",
      "F1-score: 0.83\n"
     ]
    }
   ],
   "source": [
    "precision = precision_score(test['elite_persons'], test['elite_persons_llm1'])\n",
    "recall = recall_score(test['elite_persons'], test['elite_persons_llm1'])\n",
    "f1 = f1_score(test['elite_persons'], test['elite_persons_llm1'])\n",
    "\n",
    "# Print individual scores\n",
    "print(f'Precision: {precision:.2f}')\n",
    "print(f'Recall: {recall:.2f}')\n",
    "print(f'F1-score: {f1:.2f}')"
   ]
  },
  {
   "cell_type": "code",
   "execution_count": null,
   "id": "6f39dc6e",
   "metadata": {},
   "outputs": [],
   "source": [
    "test.to_csv('test.csv')"
   ]
  },
  {
   "cell_type": "markdown",
   "id": "02a2eec3",
   "metadata": {},
   "source": [
    "#### Make predictions for the full dataset"
   ]
  },
  {
   "cell_type": "code",
   "execution_count": null,
   "id": "9e7cd5c7",
   "metadata": {},
   "outputs": [],
   "source": [
    "nf = pd.read_csv(\"newsfactor.csv\")\n",
    "nf.drop(labels = [\"Unnamed: 0\"], axis = 1, inplace = True)"
   ]
  },
  {
   "cell_type": "code",
   "execution_count": null,
   "id": "a11192b3",
   "metadata": {},
   "outputs": [],
   "source": [
    "MESSAGE = \"\"\"Given a tweet, classify whether one or more elite persons are presented in the tweet.\n",
    "\n",
    "Note that:\n",
    "*   Only explicit mentions of roles or identities are considered. The roles and identities should have far-reaching influence or power. \n",
    "*   Do not infer, imply, or assume identity if not explicitly stated.\n",
    "*   Do not introduce information that is not present in the text.\n",
    "*   Mention of company names, even if they are well-known company, should NOT be counted elite persons.\n",
    "*   Exception: The name \"Trump\" and \"Biden\" (and other US Presidents BY THEIR LAST NAME ONLY), and Dr. Martin Luther King, Jr are always considered explicit mentions of an elite person, regardless of further context.\n",
    "\n",
    "Definition:\n",
    "Elite Person: Mentions of well-known individuals. E.g., Movie stars, CEOs, or influential political figures such as governmental officials.\n",
    "\n",
    "Examples:\n",
    "a) former fed vice chairman donald kohn voiced concern on tuesday that the us central bank is not wellpositioned to deal with a rising threat of faster inflation\n",
    "Answer: 1 - elite person is present.\n",
    "Reasoning: The tweet mentioned donald kohn and clearly stated the person's role as former fed vice chairman.\n",
    "b) once you have talent offer upskilling or right skilling to help employees get better at their job or for the job they want to do pittorenatalie chief of enduring security framework national security agency womenatwork2021\n",
    "Answer: 1 - elite person is present.\n",
    "Reasoning: pittorenatalie is mentioned as chief of enduring security framework national security agency\n",
    "c) president jair bolsonaro of brazil wants the international community to pledge billions of dollars to pay for conservation effos but donors are skeptical under his watch deforestation in the amazon has risen to the highest level in over a decade\n",
    "Answer: 1 - elite person is present.\n",
    "Reasoning: jair bolsonaro is mentioned as the president of brazil.\n",
    "d) the european central bank took a step in the federal reserve’s direction with its new inflation target of 2\n",
    "Answer: 0 - elite person is not present.\n",
    "Reasoning: No elite person is mentioned explicitly.\n",
    "e) we’re in the customer economy a great cx is essential for growth when you have consistent values both internally and externally you can quickly adjust to satisfy your evermore sophisticated clients learn how\n",
    "Answer: 0 - elite person is not present.\n",
    "Reasoning: No elite person is mentioned explicitly.\n",
    "f) in focus heimana reynolds for heimana reynolds the skateboard and park become ultimate platforms of creative and athletic expression watch heimana’s film from our exclusive documentary series now on twitter rlxteamusa teamusa tokyoolympics tokyo2020 olympics\n",
    "Answer: 0 - elite person is not present.\n",
    "Reasoning: No elite person is mentioned explicitly.\n",
    "\n",
    "THE ONLY OUTPUT should be a JSON object with two keys:\n",
    "1. `classification`: an integer (0 or 1) representing the classification result.\n",
    "2. `cot`: a string containing the brief chain of thought/reasoning for the classification.\n",
    "\n",
    "Do NOT include any other text, explanations, or Markdown code block fences (like ```json or ```) in your response. Output ONLY the JSON object.\n",
    "\n",
    "Input tweet: \n",
    "'{tweet_text}'\n",
    "\"\"\""
   ]
  },
  {
   "cell_type": "code",
   "execution_count": null,
   "id": "56fdd692",
   "metadata": {},
   "outputs": [],
   "source": [
    "llm_results = []\n",
    "llm_cots = []\n",
    "model_to_use = \"llama3.1\" \n",
    "\n",
    "for index, row in tqdm(nf.iterrows(), total=len(nf), desc=\"Classifying Tweets\"):\n",
    "    tweet_text = row['text_clean']\n",
    "    llm_classification, llm_cot = classify_tweet_with_ollama(tweet_text, model_name=model_to_use)\n",
    "    llm_results.append(llm_classification)\n",
    "    llm_cots.append(llm_cot)\n",
    "\n",
    "nf['elite_persons_llm'] = llm_results\n",
    "nf['elite_persons_llm_cot'] = llm_cots"
   ]
  },
  {
   "cell_type": "code",
   "execution_count": null,
   "id": "d85b9d57",
   "metadata": {},
   "outputs": [],
   "source": [
    "nf.to_csv('newsfactor.csv')"
   ]
  },
  {
   "cell_type": "markdown",
   "id": "6f7de2cf",
   "metadata": {},
   "source": [
    "### Negative consequences"
   ]
  },
  {
   "cell_type": "markdown",
   "id": "f476b36a",
   "metadata": {},
   "source": [
    "#### Prompt instruction model"
   ]
  },
  {
   "cell_type": "code",
   "execution_count": 3,
   "id": "330fd98e-5f80-4221-8511-0d51648775bd",
   "metadata": {},
   "outputs": [
    {
     "name": "stdout",
     "output_type": "stream",
     "text": [
      "Locally available Ollama models:\n",
      "models=[Model(model='llama3.1:latest', modified_at=datetime.datetime(2025, 7, 22, 16, 29, 12, 748502, tzinfo=TzInfo(+02:00)), digest='46e0c10c039e019119339687c3c1757cc81b9da49709a3b3924863ba87ca666e', size=4920753328, details=ModelDetails(parent_model='', format='gguf', family='llama', families=['llama'], parameter_size='8.0B', quantization_level='Q4_K_M')), Model(model='deepseek-r1:latest', modified_at=datetime.datetime(2025, 7, 22, 14, 42, 30, 846205, tzinfo=TzInfo(+02:00)), digest='6995872bfe4c521a67b32da386cd21d5c6e819b6e0d62f79f64ec83be99f5763', size=5225376047, details=ModelDetails(parent_model='', format='gguf', family='qwen3', families=['qwen3'], parameter_size='8.2B', quantization_level='Q4_K_M'))]\n"
     ]
    }
   ],
   "source": [
    "# List locally available models (should show llama3 after you downloaded it)\n",
    "print(\"Locally available Ollama models:\")\n",
    "print(ollama.list())"
   ]
  },
  {
   "cell_type": "code",
   "execution_count": 4,
   "id": "cdbbe1ee-4999-489e-8349-8524b5473eac",
   "metadata": {},
   "outputs": [
    {
     "name": "stdout",
     "output_type": "stream",
     "text": [
      "\n",
      "Model Response:\n",
      "Here's the prompt I came up with to classify tweets based on the presence of negative consequences:\n",
      "\n",
      "\"Given a tweet, classify whether one or more negative consequences are presented in the tweet. \n",
      "\n",
      "Note that:\n",
      "*   Only explicit mentions of outcomes or events are considered. The outcomes and events should have a detrimental effect or penalty.\n",
      "*   Do not infer, imply, or assume consequence if not explicitly stated.\n",
      "*   Do not introduce information that is not present in the text.\n",
      "*   Mention of company names, even if they are well-known companies, should NOT be counted as negative consequences.\n",
      "*   Exception: The mention of damage from extreme weather events, legal penalties faced by a corporation, or financial losses should always be considered explicit mentions of a negative consequence.\n",
      "\n",
      "Definition:\n",
      "Negative Consequence: Mentions of adverse outcomes for one or more actors. E.g., damage from extreme weather or legal penalties faced by a corporation.\n",
      "\n",
      "Examples:\n",
      "\n",
      "a) president jair bolsonaro of brazil wants the international community to pledge billions of dollars to pay for conservation effos but donors are skeptical under his watch deforestation in the amazon has risen to the highest level in over a decade\n",
      "Answer: 1 - negative consequence is present.\n",
      "Reasoning: The tweet explicitly mentioned a rising deforestation in the amazon, which can be seen as negative outcomes for the environment.\n",
      "\n",
      "b) this will likely get little international media attention but it is a very very dark moment for press freedom in hk an apple daily columnist tweeted\n",
      "Answer: 1 - negative consequence is present.\n",
      "Reasoning: The tweet explicitly mentioned a very very dark moment for press freedom in hk, showing the negative consequence on the press in HK.\n",
      "\n",
      "c) texas gov abbott’s sudden decision this week to lift the mask mandate and other coronavirus restrictions has undermined the ability of private companies to enforce their own rules for protecting staffers and customers security expes say\n",
      "Answer: 1 - negative consequence is present.\n",
      "Reasoning: The tweet explicitly mentioned the sudden lift of the COVID restriction has negatively impacted the ability of private companies to protect their staffers and customers.\n",
      "\n",
      "d) the european central bank took a step in the federal reserve’s direction with its new inflation target of 2\n",
      "Answer: 0 - negative consequence is not present.\n",
      "Reasoning: No explicit mention of negative consequence.\n",
      "\n",
      "THE ONLY OUTPUT should be a JSON object with two keys:\n",
      "1. `classification`: an integer (0 or 1) representing the classification result.\n",
      "2. `cot`: a string containing the brief chain of thought/reasoning for the classification.\n",
      "\n",
      "Do NOT include any other text, explanations, or Markdown code block fences in your response. Output ONLY the JSON object.\n",
      "\n",
      "Input tweet:\n",
      "'{tweet_text}'\n",
      "\n",
      "Chain of thought: I adapted the prompt from the original one by replacing 'elite person' with 'negative consequence', updating the definition and examples to match the new variable.\n"
     ]
    }
   ],
   "source": [
    "messages = [\n",
    "    {'role': 'user', 'content': \"\"\"You are a highly precise prompt engineer. Trying to automatize part of the manual coding.\n",
    "    Your goal is to generate a prompt that instructs an LLM to classify tweets.\n",
    "    Here's a prompt you wrote for the varialbe elite persons. Now you need to adapt this prompt for the variable negative consequences.\n",
    "    \n",
    "        Given a tweet, classify whether one or more elite persons are presented in the tweet.\n",
    "\n",
    "        Note that:\n",
    "        *   Only explicit mentions of roles or identities are considered. The roles and identities should have far-reaching influence or power. \n",
    "        *   Do not infer, imply, or assume identity if not explicitly stated.\n",
    "        *   Do not introduce information that is not present in the text.\n",
    "        *   Mention of company names, even if they are well-known company, should NOT be counted elite persons.\n",
    "        *   Exception: The name \"Trump\" and \"Biden\" (and other US Presidents BY THEIR LAST NAME ONLY), and Dr. Martin Luther King, Jr are always considered explicit mentions of an elite person, regardless of further context.\n",
    "\n",
    "        Definition:\n",
    "        Elite Person: Mentions of well-known individuals. E.g., Movie stars, CEOs, or influential political figures such as governmental officials.\n",
    "\n",
    "        Examples:\n",
    "        a) former fed vice chairman donald kohn voiced concern on tuesday that the us central bank is not wellpositioned to deal with a rising threat of faster inflation\n",
    "        Answer: 1 - elite person is present.\n",
    "        Reasoning: The tweet mentioned donald kohn and clearly stated the person's role as former fed vice chairman.\n",
    "        b) once you have talent offer upskilling or right skilling to help employees get better at their job or for the job they want to do pittorenatalie chief of enduring security framework national security agency womenatwork2021\n",
    "        Answer: 1 - elite person is present.\n",
    "        Reasoning: pittorenatalie is mentioned as chief of enduring security framework national security agency\n",
    "        c) president jair bolsonaro of brazil wants the international community to pledge billions of dollars to pay for conservation effos but donors are skeptical under his watch deforestation in the amazon has risen to the highest level in over a decade\n",
    "        Answer: 1 - elite person is present.\n",
    "        Reasoning: jair bolsonaro is mentioned as the president of brazil.\n",
    "        d) the european central bank took a step in the federal reserve’s direction with its new inflation target of 2\n",
    "        Answer: 0 - elite person is not present.\n",
    "        Reasoning: No elite person is mentioned explicitly.\n",
    "        e) we’re in the customer economy a great cx is essential for growth when you have consistent values both internally and externally you can quickly adjust to satisfy your evermore sophisticated clients learn how\n",
    "        Answer: 0 - elite person is not present.\n",
    "        Reasoning: No elite person is mentioned explicitly.\n",
    "        f) in focus heimana reynolds for heimana reynolds the skateboard and park become ultimate platforms of creative and athletic expression watch heimana’s film from our exclusive documentary series now on twitter rlxteamusa teamusa tokyoolympics tokyo2020 olympics\n",
    "        Answer: 0 - elite person is not present.\n",
    "        Reasoning: No elite person is mentioned explicitly.\n",
    "\n",
    "        THE ONLY OUTPUT should be a JSON object with two keys:\n",
    "        1. `classification`: an integer (0 or 1) representing the classification result.\n",
    "        2. `cot`: a string containing the brief chain of thought/reasoning for the classification.\n",
    "\n",
    "        Do NOT include any other text, explanations, or Markdown code block fences (like ```json or ```) in your response. Output ONLY the JSON object.\n",
    "\n",
    "        Input tweet: \n",
    "        '{tweet_text}'\n",
    "    \n",
    "    Here's the definiation of the variable negative consequences: Negative outcomes for one or more actors explicitly mentioned. E.g., damage from extreme weather or legal penalties faced by a corporation.\n",
    "    Here're the examples for few shot learning:\n",
    "        a) president jair bolsonaro of brazil wants the international community to pledge billions of dollars to pay for conservation effos but donors are skeptical under his watch deforestation in the amazon has risen to the highest level in over a decade\n",
    "        Answer: 1 - negative consequence is present.\n",
    "        Reasoning: The tweet explicitly menionted a rising deforestation in the amazon, which can be seen as negative outcomes for the environment.\n",
    "        b) this will likely get little international media attention but it is a very very dark moment for press freedom in hk an apple daily columnist tweeted\n",
    "        Answer: 1 - negative consequence is present.\n",
    "        Reasoning: The tweet explicitly mentioned a very very dark moment for press freedom in hk, showing the negative consequence on the press in HK.\n",
    "        c) texas gov abbott’s sudden decision this week to lift the mask mandate and other coronavirus restrictions has undermined the ability of private companies to enforce their own rules for protecting staffers and customers security expes say\n",
    "        Answer: 1 - negative consequence is present.\n",
    "        Reasoning: The tweet explicitly mentioned the sudden lift of the COVID restriction has negatively impacted the ability of private companies to protect their staffers and customers\n",
    "        d) the european central bank took a step in the federal reserve’s direction with its new inflation target of 2\n",
    "        Answer: 0 - negative consequence is not present.\n",
    "        Reasoning: No explicit mention of negative consequence.\n",
    "        e) once you have talent offer upskilling or right skilling to help employees get better at their job or for the job they want to do pittorenatalie chief of enduring security framework national security agency womenatwork2021\n",
    "        Answer: 0 - negative consequence is not present.\n",
    "        Reasoning: No explicit mention of negative consequence.\n",
    "        f) watch the livestream of amd’s ceo dr lisa su speak at computex2021 learn what is in store for amd this year and the future of pc ecosystems\n",
    "        Answer: 0 - negative consequence is not present.\n",
    "        Reasoning: No explicit mention of negative consequence.\n",
    "    \n",
    "    Always provide your chain of thought for generating the prompts but keep it short.\n",
    "\"\"\"},\n",
    "]\n",
    "\n",
    "response = ollama.chat(model='llama3.1:latest', messages=messages)\n",
    "print(\"\\nModel Response:\")\n",
    "print(response['message']['content'])"
   ]
  },
  {
   "cell_type": "markdown",
   "id": "9c8dabce",
   "metadata": {},
   "source": [
    "#### Try the prompt"
   ]
  },
  {
   "cell_type": "code",
   "execution_count": 5,
   "id": "4aa1d67c-ef7f-441b-97f8-a29e2b64d56a",
   "metadata": {},
   "outputs": [
    {
     "name": "stdout",
     "output_type": "stream",
     "text": [
      "\n",
      "Model Response (Chat):\n",
      "{\n",
      "  \"classification\": 1,\n",
      "  \"cot\": \"The tweet explicitly mentioned a rising threat of faster inflation, which can be seen as negative outcomes for the economy.\"\n",
      "}\n"
     ]
    }
   ],
   "source": [
    "messages = [\n",
    "    {'role': 'user', 'content': \"\"\"Given a tweet, classify whether one or more negative consequences are presented in the tweet. \n",
    "\n",
    "Note that:\n",
    "*   Only explicit mentions of outcomes or events are considered. The outcomes and events should have a detrimental effect or penalty.\n",
    "*   Do not infer, imply, or assume consequence if not explicitly stated.\n",
    "*   Do not introduce information that is not present in the text.\n",
    "\n",
    "Definition:\n",
    "Negative Consequence: Mentions of adverse outcomes for one or more actors. E.g., damage from extreme weather or legal penalties faced by a corporation.\n",
    "\n",
    "Examples:\n",
    "\n",
    "a) president jair bolsonaro of brazil wants the international community to pledge billions of dollars to pay for conservation effos but donors are skeptical under his watch deforestation in the amazon has risen to the highest level in over a decade\n",
    "Answer: 1 - negative consequence is present.\n",
    "Reasoning: The tweet explicitly mentioned a rising deforestation in the amazon, which can be seen as negative outcomes for the environment.\n",
    "\n",
    "b) this will likely get little international media attention but it is a very very dark moment for press freedom in hk an apple daily columnist tweeted\n",
    "Answer: 1 - negative consequence is present.\n",
    "Reasoning: The tweet explicitly mentioned a very very dark moment for press freedom in hk, showing the negative consequence on the press in HK.\n",
    "\n",
    "c) texas gov abbott’s sudden decision this week to lift the mask mandate and other coronavirus restrictions has undermined the ability of private companies to enforce their own rules for protecting staffers and customers security expes say\n",
    "Answer: 1 - negative consequence is present.\n",
    "Reasoning: The tweet explicitly mentioned the sudden lift of the COVID restriction has negatively impacted the ability of private companies to protect their staffers and customers.\n",
    "\n",
    "d) the european central bank took a step in the federal reserve’s direction with its new inflation target of 2\n",
    "Answer: 0 - negative consequence is not present.\n",
    "Reasoning: No explicit mention of negative consequence.\n",
    "\n",
    "THE ONLY OUTPUT should be a JSON object with two keys:\n",
    "1. `classification`: an integer (0 or 1) representing the classification result.\n",
    "2. `cot`: a string containing the brief chain of thought/reasoning for the classification.\n",
    "\n",
    "Do NOT include any other text, explanations, or Markdown code block fences in your response. Output ONLY the JSON object.\n",
    "\n",
    "Input tweet:\n",
    "     former fed vice chairman donald kohn voiced concern on tuesday that the us central bank is not wellpositioned to deal with a rising threat of faster inflation\n",
    "\"\"\"},\n",
    "]\n",
    "response = ollama.chat(model='llama3.1:latest', messages=messages)\n",
    "print(\"\\nModel Response (Chat):\")\n",
    "print(response['message']['content'])"
   ]
  },
  {
   "cell_type": "code",
   "execution_count": 6,
   "id": "5ecef5f9",
   "metadata": {},
   "outputs": [
    {
     "name": "stdout",
     "output_type": "stream",
     "text": [
      "\n",
      "Model Response (Chat):\n",
      "{\n",
      "  \"classification\": 1,\n",
      "  \"cot\": \"The tweet explicitly mentioned that the online trading app Robinhood was at the mercy of the industry it had vowed to upend, showing a negative consequence for its original promise.\"\n",
      "}\n"
     ]
    }
   ],
   "source": [
    "messages = [\n",
    "    {'role': 'user', 'content': \"\"\"Given a tweet, classify whether one or more negative consequences are presented in the tweet. \n",
    "\n",
    "Note that:\n",
    "*   Only explicit mentions of outcomes or events are considered. The outcomes and events should have a detrimental effect or penalty.\n",
    "*   Do not infer, imply, or assume consequence if not explicitly stated.\n",
    "*   Do not introduce information that is not present in the text.\n",
    "\n",
    "Definition:\n",
    "Negative Consequence: Mentions of adverse outcomes for one or more actors. E.g., damage from extreme weather or legal penalties faced by a corporation.\n",
    "\n",
    "Examples:\n",
    "\n",
    "a) president jair bolsonaro of brazil wants the international community to pledge billions of dollars to pay for conservation effos but donors are skeptical under his watch deforestation in the amazon has risen to the highest level in over a decade\n",
    "Answer: 1 - negative consequence is present.\n",
    "Reasoning: The tweet explicitly mentioned a rising deforestation in the amazon, which can be seen as negative outcomes for the environment.\n",
    "\n",
    "b) this will likely get little international media attention but it is a very very dark moment for press freedom in hk an apple daily columnist tweeted\n",
    "Answer: 1 - negative consequence is present.\n",
    "Reasoning: The tweet explicitly mentioned a very very dark moment for press freedom in hk, showing the negative consequence on the press in HK.\n",
    "\n",
    "c) texas gov abbott’s sudden decision this week to lift the mask mandate and other coronavirus restrictions has undermined the ability of private companies to enforce their own rules for protecting staffers and customers security expes say\n",
    "Answer: 1 - negative consequence is present.\n",
    "Reasoning: The tweet explicitly mentioned the sudden lift of the COVID restriction has negatively impacted the ability of private companies to protect their staffers and customers.\n",
    "\n",
    "d) the european central bank took a step in the federal reserve’s direction with its new inflation target of 2\n",
    "Answer: 0 - negative consequence is not present.\n",
    "Reasoning: No explicit mention of negative consequence.\n",
    "\n",
    "THE ONLY OUTPUT should be a JSON object with two keys:\n",
    "1. `classification`: an integer (0 or 1) representing the classification result.\n",
    "2. `cot`: a string containing the brief chain of thought/reasoning for the classification.\n",
    "\n",
    "Do NOT include any other text, explanations, or Markdown code block fences in your response. Output ONLY the JSON object.\n",
    "\n",
    "Input tweet:\n",
    "    the online trading app robinhood promised to wrest the stock market away from wall street’s gatekeepers — making it as easy to put millions at risk as it is to summon an uber it turns out robinhood was at the mercy of the industry it had vowed to upend\n",
    "\"\"\"},\n",
    "]\n",
    "response = ollama.chat(model='llama3.1:latest', messages=messages)\n",
    "print(\"\\nModel Response (Chat):\")\n",
    "print(response['message']['content'])"
   ]
  },
  {
   "cell_type": "code",
   "execution_count": 7,
   "id": "c22320a0",
   "metadata": {},
   "outputs": [
    {
     "name": "stdout",
     "output_type": "stream",
     "text": [
      "\n",
      "Model Response (Chat):\n",
      "{\n",
      "  \"classification\": 0,\n",
      "  \"cot\": \"No explicit mention of negative consequence.\"\n",
      "}\n"
     ]
    }
   ],
   "source": [
    "messages = [\n",
    "    {'role': 'user', 'content': \"\"\"Given a tweet, classify whether one or more negative consequences are presented in the tweet. \n",
    "\n",
    "Note that:\n",
    "*   Only explicit mentions of outcomes or events are considered. The outcomes and events should have a detrimental effect or penalty.\n",
    "*   Do not infer, imply, or assume consequence if not explicitly stated.\n",
    "*   Do not introduce information that is not present in the text.\n",
    "\n",
    "Definition:\n",
    "Negative Consequence: Mentions of adverse outcomes for one or more actors. E.g., damage from extreme weather or legal penalties faced by a corporation.\n",
    "\n",
    "Examples:\n",
    "\n",
    "a) president jair bolsonaro of brazil wants the international community to pledge billions of dollars to pay for conservation effos but donors are skeptical under his watch deforestation in the amazon has risen to the highest level in over a decade\n",
    "Answer: 1 - negative consequence is present.\n",
    "Reasoning: The tweet explicitly mentioned a rising deforestation in the amazon, which can be seen as negative outcomes for the environment.\n",
    "\n",
    "b) this will likely get little international media attention but it is a very very dark moment for press freedom in hk an apple daily columnist tweeted\n",
    "Answer: 1 - negative consequence is present.\n",
    "Reasoning: The tweet explicitly mentioned a very very dark moment for press freedom in hk, showing the negative consequence on the press in HK.\n",
    "\n",
    "c) texas gov abbott’s sudden decision this week to lift the mask mandate and other coronavirus restrictions has undermined the ability of private companies to enforce their own rules for protecting staffers and customers security expes say\n",
    "Answer: 1 - negative consequence is present.\n",
    "Reasoning: The tweet explicitly mentioned the sudden lift of the COVID restriction has negatively impacted the ability of private companies to protect their staffers and customers.\n",
    "\n",
    "d) the european central bank took a step in the federal reserve’s direction with its new inflation target of 2\n",
    "Answer: 0 - negative consequence is not present.\n",
    "Reasoning: No explicit mention of negative consequence.\n",
    "\n",
    "THE ONLY OUTPUT should be a JSON object with two keys:\n",
    "1. `classification`: an integer (0 or 1) representing the classification result.\n",
    "2. `cot`: a string containing the brief chain of thought/reasoning for the classification.\n",
    "\n",
    "Do NOT include any other text, explanations, or Markdown code block fences in your response. Output ONLY the JSON object.\n",
    "\n",
    "Input tweet:\n",
    "    the road to global hcv elimination is possible see how working together during covid will help us eliminate hcv worldwide\n",
    "\"\"\"},\n",
    "]\n",
    "response = ollama.chat(model='llama3.1:latest', messages=messages)\n",
    "print(\"\\nModel Response (Chat):\")\n",
    "print(response['message']['content'])"
   ]
  },
  {
   "cell_type": "code",
   "execution_count": 8,
   "id": "88fb40af",
   "metadata": {},
   "outputs": [
    {
     "name": "stdout",
     "output_type": "stream",
     "text": [
      "\n",
      "Model Response (Chat):\n",
      "{\n",
      "  \"classification\": 0,\n",
      "  \"cot\": \"No explicit mention of negative consequence.\"\n",
      "}\n"
     ]
    }
   ],
   "source": [
    "messages = [\n",
    "    {'role': 'user', 'content': \"\"\"Given a tweet, classify whether one or more negative consequences are presented in the tweet. \n",
    "\n",
    "Note that:\n",
    "*   Only explicit mentions of outcomes or events are considered. The outcomes and events should have a detrimental effect or penalty.\n",
    "*   Do not infer, imply, or assume consequence if not explicitly stated.\n",
    "*   Do not introduce information that is not present in the text.\n",
    "\n",
    "Definition:\n",
    "Negative Consequence: Mentions of adverse outcomes for one or more actors. E.g., damage from extreme weather or legal penalties faced by a corporation.\n",
    "\n",
    "Examples:\n",
    "\n",
    "a) president jair bolsonaro of brazil wants the international community to pledge billions of dollars to pay for conservation effos but donors are skeptical under his watch deforestation in the amazon has risen to the highest level in over a decade\n",
    "Answer: 1 - negative consequence is present.\n",
    "Reasoning: The tweet explicitly mentioned a rising deforestation in the amazon, which can be seen as negative outcomes for the environment.\n",
    "\n",
    "b) this will likely get little international media attention but it is a very very dark moment for press freedom in hk an apple daily columnist tweeted\n",
    "Answer: 1 - negative consequence is present.\n",
    "Reasoning: The tweet explicitly mentioned a very very dark moment for press freedom in hk, showing the negative consequence on the press in HK.\n",
    "\n",
    "c) texas gov abbott’s sudden decision this week to lift the mask mandate and other coronavirus restrictions has undermined the ability of private companies to enforce their own rules for protecting staffers and customers security expes say\n",
    "Answer: 1 - negative consequence is present.\n",
    "Reasoning: The tweet explicitly mentioned the sudden lift of the COVID restriction has negatively impacted the ability of private companies to protect their staffers and customers.\n",
    "\n",
    "d) the european central bank took a step in the federal reserve’s direction with its new inflation target of 2\n",
    "Answer: 0 - negative consequence is not present.\n",
    "Reasoning: No explicit mention of negative consequence.\n",
    "\n",
    "THE ONLY OUTPUT should be a JSON object with two keys:\n",
    "1. `classification`: an integer (0 or 1) representing the classification result.\n",
    "2. `cot`: a string containing the brief chain of thought/reasoning for the classification.\n",
    "\n",
    "Do NOT include any other text, explanations, or Markdown code block fences in your response. Output ONLY the JSON object.\n",
    "\n",
    "Input tweet:\n",
    "    were calling for food justice in black communities and a hungerfree world for all we worked with wfpusa to suppo this united nations wfp amp samexhibition zero hunger mural by victor ash learn about our other food justice work at bhem\n",
    "\"\"\"},\n",
    "]\n",
    "response = ollama.chat(model='llama3.1:latest', messages=messages)\n",
    "print(\"\\nModel Response (Chat):\")\n",
    "print(response['message']['content'])"
   ]
  },
  {
   "cell_type": "markdown",
   "id": "6c1766e2",
   "metadata": {},
   "source": [
    "#### Validate the performance"
   ]
  },
  {
   "cell_type": "code",
   "execution_count": 21,
   "id": "24ef8018-7189-4696-8ba0-034d98285451",
   "metadata": {},
   "outputs": [],
   "source": [
    "MESSAGE = \"\"\"Given a tweet, classify whether one or more negative consequences are presented in the tweet. \n",
    "\n",
    "Note that:\n",
    "*   Only explicit mentions of outcomes or events are considered. The outcomes and events should have a detrimental effect or penalty.\n",
    "*   Illnesses in a SPECIFIC PERSON or a SPECIFIC GROUP OF PEOPLE, and future challenges facing a company or industry can also be considered negative consequences.\n",
    "*   Do not infer, imply, or assume consequence if not explicitly stated.\n",
    "*   Do not introduce information that is not present in the text.\n",
    "\n",
    "Definition:\n",
    "Negative Consequence: Mentions of adverse outcomes for one or more actors. E.g., damage from extreme weather or legal penalties faced by a corporation.\n",
    "\n",
    "Examples:\n",
    "\n",
    "a) president jair bolsonaro of brazil wants the international community to pledge billions of dollars to pay for conservation effos but donors are skeptical under his watch deforestation in the amazon has risen to the highest level in over a decade\n",
    "Answer: 1 - negative consequence is present.\n",
    "Reasoning: The tweet explicitly mentioned a rising deforestation in the amazon, which can be seen as negative outcomes for the environment.\n",
    "\n",
    "b) this will likely get little international media attention but it is a very very dark moment for press freedom in hk an apple daily columnist tweeted\n",
    "Answer: 1 - negative consequence is present.\n",
    "Reasoning: The tweet explicitly mentioned a very very dark moment for press freedom in hk, showing the negative consequence on the press in HK.\n",
    "\n",
    "c) texas gov abbott’s sudden decision this week to lift the mask mandate and other coronavirus restrictions has undermined the ability of private companies to enforce their own rules for protecting staffers and customers security expes say\n",
    "Answer: 1 - negative consequence is present.\n",
    "Reasoning: The tweet explicitly mentioned the sudden lift of the COVID restriction has negatively impacted the ability of private companies to protect their staffers and customers.\n",
    "\n",
    "d) the european central bank took a step in the federal reserve’s direction with its new inflation target of 2\n",
    "Answer: 0 - negative consequence is not present.\n",
    "Reasoning: No explicit mention of negative consequence.\n",
    "\n",
    "THE ONLY OUTPUT should be a JSON object with two keys:\n",
    "1. `classification`: an integer (0 or 1) representing the classification result.\n",
    "2. `cot`: a string containing the brief chain of thought/reasoning for the classification.\n",
    "\n",
    "Do NOT include any other text, explanations, or Markdown code block fences in your response. Output ONLY the JSON object.\n",
    "\n",
    "Input tweet:\n",
    "'{tweet_text}'\n",
    "\"\"\""
   ]
  },
  {
   "cell_type": "code",
   "execution_count": 26,
   "id": "e722eee6-fae3-4a82-8625-39329b2b9cf5",
   "metadata": {},
   "outputs": [],
   "source": [
    "val = pd.read_csv(\"val.csv\")\n",
    "val.drop(labels = [\"Unnamed: 0\"], axis = 1, inplace = True)"
   ]
  },
  {
   "cell_type": "code",
   "execution_count": 23,
   "id": "02a110a8-33b8-48af-851f-dc01e0617c12",
   "metadata": {},
   "outputs": [
    {
     "name": "stderr",
     "output_type": "stream",
     "text": [
      "Classifying Tweets: 100%|██████████| 81/81 [02:37<00:00,  1.94s/it]\n"
     ]
    }
   ],
   "source": [
    "llm_results = []\n",
    "llm_cots = []\n",
    "model_to_use = \"llama3.1\" \n",
    "\n",
    "for index, row in tqdm(val.iterrows(), total=len(val), desc=\"Classifying Tweets\"):\n",
    "    tweet_text = row['rep_doc']\n",
    "    llm_classification, llm_cot = classify_tweet_with_ollama(tweet_text, model_name=model_to_use)\n",
    "    llm_results.append(llm_classification)\n",
    "    llm_cots.append(llm_cot)\n",
    "\n",
    "val['negative_consequences_llm1'] = llm_results\n",
    "val['negative_consequences_llm_cot1'] = llm_cots"
   ]
  },
  {
   "cell_type": "code",
   "execution_count": 27,
   "id": "af9d9637",
   "metadata": {},
   "outputs": [
    {
     "name": "stderr",
     "output_type": "stream",
     "text": [
      "Classifying Tweets: 100%|██████████| 81/81 [02:32<00:00,  1.89s/it]\n"
     ]
    }
   ],
   "source": [
    "llm_results = []\n",
    "llm_cots = []\n",
    "model_to_use = \"llama3.1\" \n",
    "\n",
    "for index, row in tqdm(val.iterrows(), total=len(val), desc=\"Classifying Tweets\"):\n",
    "    tweet_text = row['rep_doc']\n",
    "    llm_classification, llm_cot = classify_tweet_with_ollama(tweet_text, model_name=model_to_use)\n",
    "    llm_results.append(llm_classification)\n",
    "    llm_cots.append(llm_cot)\n",
    "\n",
    "val['negative_consequences_llm2'] = llm_results\n",
    "val['negative_consequences_llm_cot2'] = llm_cots"
   ]
  },
  {
   "cell_type": "code",
   "execution_count": 28,
   "id": "96829650",
   "metadata": {},
   "outputs": [
    {
     "data": {
      "text/plain": [
       "negative_consequences_llm1  negative_consequences_llm2\n",
       "0                           0                             69\n",
       "1                           1                             12\n",
       "Name: topic, dtype: int64"
      ]
     },
     "execution_count": 28,
     "metadata": {},
     "output_type": "execute_result"
    }
   ],
   "source": [
    "val.groupby(['negative_consequences_llm1','negative_consequences_llm2'])['topic'].count()"
   ]
  },
  {
   "cell_type": "code",
   "execution_count": 29,
   "id": "8469610f",
   "metadata": {},
   "outputs": [
    {
     "data": {
      "text/plain": [
       "np.float64(1.0)"
      ]
     },
     "execution_count": 29,
     "metadata": {},
     "output_type": "execute_result"
    }
   ],
   "source": [
    "krippendorff.alpha((val['negative_consequences_llm1'].values.tolist(), \n",
    "                    val['negative_consequences_llm2'].values.tolist()), level_of_measurement=\"nominal\")"
   ]
  },
  {
   "cell_type": "code",
   "execution_count": 30,
   "id": "dff7f1db-989f-451a-9120-a18aefa70654",
   "metadata": {},
   "outputs": [
    {
     "data": {
      "text/plain": [
       "negative_consequences  negative_consequences_llm1\n",
       "0                      0                             66\n",
       "1                      0                              3\n",
       "                       1                             12\n",
       "Name: topic, dtype: int64"
      ]
     },
     "execution_count": 30,
     "metadata": {},
     "output_type": "execute_result"
    }
   ],
   "source": [
    "val.groupby(['negative_consequences','negative_consequences_llm1'])['topic'].count()"
   ]
  },
  {
   "cell_type": "code",
   "execution_count": 32,
   "id": "e7f7316a",
   "metadata": {},
   "outputs": [
    {
     "name": "stdout",
     "output_type": "stream",
     "text": [
      "Precision: 1.00\n",
      "Recall: 0.80\n",
      "F1-score: 0.89\n"
     ]
    }
   ],
   "source": [
    "precision = precision_score(val['negative_consequences'], val['negative_consequences_llm1'])\n",
    "recall = recall_score(val['negative_consequences'], val['negative_consequences_llm1'])\n",
    "f1 = f1_score(val['negative_consequences'], val['negative_consequences_llm1'])\n",
    "\n",
    "# Print individual scores\n",
    "print(f'Precision: {precision:.2f}')\n",
    "print(f'Recall: {recall:.2f}')\n",
    "print(f'F1-score: {f1:.2f}')"
   ]
  },
  {
   "cell_type": "code",
   "execution_count": 33,
   "id": "603ce005",
   "metadata": {},
   "outputs": [],
   "source": [
    "val.to_csv('val.csv')"
   ]
  },
  {
   "cell_type": "markdown",
   "id": "fc048312",
   "metadata": {},
   "source": [
    "#### Test the final prompt"
   ]
  },
  {
   "cell_type": "code",
   "execution_count": 42,
   "id": "06d30414",
   "metadata": {},
   "outputs": [],
   "source": [
    "MESSAGE = \"\"\"Given a tweet, classify whether one or more negative consequences are presented in the tweet. \n",
    "\n",
    "Note that:\n",
    "*   Only explicit mentions of outcomes or events are considered. The outcomes and events should have a detrimental effect or penalty.\n",
    "*   Illnesses in a SPECIFIC PERSON or a SPECIFIC GROUP OF PEOPLE, and future challenges facing a company or industry can also be considered negative consequences.\n",
    "*   Do not infer, imply, or assume consequence if not explicitly stated.\n",
    "*   Do not introduce information that is not present in the text.\n",
    "\n",
    "Definition:\n",
    "Negative Consequence: Mentions of adverse outcomes for one or more actors. E.g., damage from extreme weather or legal penalties faced by a corporation.\n",
    "\n",
    "Examples:\n",
    "\n",
    "a) president jair bolsonaro of brazil wants the international community to pledge billions of dollars to pay for conservation effos but donors are skeptical under his watch deforestation in the amazon has risen to the highest level in over a decade\n",
    "Answer: 1 - negative consequence is present.\n",
    "Reasoning: The tweet explicitly mentioned a rising deforestation in the amazon, which can be seen as negative outcomes for the environment.\n",
    "\n",
    "b) this will likely get little international media attention but it is a very very dark moment for press freedom in hk an apple daily columnist tweeted\n",
    "Answer: 1 - negative consequence is present.\n",
    "Reasoning: The tweet explicitly mentioned a very very dark moment for press freedom in hk, showing the negative consequence on the press in HK.\n",
    "\n",
    "c) texas gov abbott’s sudden decision this week to lift the mask mandate and other coronavirus restrictions has undermined the ability of private companies to enforce their own rules for protecting staffers and customers security expes say\n",
    "Answer: 1 - negative consequence is present.\n",
    "Reasoning: The tweet explicitly mentioned the sudden lift of the COVID restriction has negatively impacted the ability of private companies to protect their staffers and customers.\n",
    "\n",
    "d) the european central bank took a step in the federal reserve’s direction with its new inflation target of 2\n",
    "Answer: 0 - negative consequence is not present.\n",
    "Reasoning: No explicit mention of negative consequence.\n",
    "\n",
    "THE ONLY OUTPUT should be a JSON object with two keys:\n",
    "1. `classification`: an integer (0 or 1) representing the classification result.\n",
    "2. `cot`: a string containing the brief chain of thought/reasoning for the classification.\n",
    "\n",
    "Do NOT include any other text, explanations, or Markdown code block fences in your response. Output ONLY the JSON object.\n",
    "\n",
    "Input tweet:\n",
    "'{tweet_text}'\n",
    "\"\"\""
   ]
  },
  {
   "cell_type": "code",
   "execution_count": 43,
   "id": "a668924d",
   "metadata": {},
   "outputs": [],
   "source": [
    "test = pd.read_csv(\"test.csv\")\n",
    "test.drop(labels = [\"Unnamed: 0\"], axis = 1, inplace = True)"
   ]
  },
  {
   "cell_type": "code",
   "execution_count": null,
   "id": "695b1dbc",
   "metadata": {},
   "outputs": [],
   "source": [
    "llm_results = []\n",
    "llm_cots = []\n",
    "model_to_use = \"llama3.1\" \n",
    "\n",
    "for index, row in tqdm(test.iterrows(), total=len(test), desc=\"Classifying Tweets\"):\n",
    "    tweet_text = row['rep_doc']\n",
    "    llm_classification, llm_cot = classify_tweet_with_ollama(tweet_text, model_name=model_to_use)\n",
    "    llm_results.append(llm_classification)\n",
    "    llm_cots.append(llm_cot)\n",
    "\n",
    "test['negative_consequences_llm1'] = llm_results\n",
    "test['negative_consequences_llm_cot1'] = llm_cots"
   ]
  },
  {
   "cell_type": "code",
   "execution_count": 46,
   "id": "a1c38812",
   "metadata": {},
   "outputs": [
    {
     "name": "stderr",
     "output_type": "stream",
     "text": [
      "Classifying Tweets: 100%|██████████| 399/399 [11:54<00:00,  1.79s/it]\n"
     ]
    }
   ],
   "source": [
    "llm_results = []\n",
    "llm_cots = []\n",
    "model_to_use = \"llama3.1\" \n",
    "\n",
    "for index, row in tqdm(test.iterrows(), total=len(test), desc=\"Classifying Tweets\"):\n",
    "    tweet_text = row['rep_doc']\n",
    "    llm_classification, llm_cot = classify_tweet_with_ollama(tweet_text, model_name=model_to_use)\n",
    "    llm_results.append(llm_classification)\n",
    "    llm_cots.append(llm_cot)\n",
    "\n",
    "test['negative_consequences_llm2'] = llm_results\n",
    "test['negative_consequences_llm_cot2'] = llm_cots"
   ]
  },
  {
   "cell_type": "code",
   "execution_count": 47,
   "id": "74cf1648",
   "metadata": {},
   "outputs": [
    {
     "data": {
      "text/plain": [
       "negative_consequences_llm1  negative_consequences_llm2\n",
       "0                           0                             350\n",
       "1                           1                              49\n",
       "Name: topic, dtype: int64"
      ]
     },
     "execution_count": 47,
     "metadata": {},
     "output_type": "execute_result"
    }
   ],
   "source": [
    "test.groupby(['negative_consequences_llm1','negative_consequences_llm2'])['topic'].count()"
   ]
  },
  {
   "cell_type": "code",
   "execution_count": 48,
   "id": "bf26fb1e",
   "metadata": {},
   "outputs": [
    {
     "data": {
      "text/plain": [
       "np.float64(1.0)"
      ]
     },
     "execution_count": 48,
     "metadata": {},
     "output_type": "execute_result"
    }
   ],
   "source": [
    "krippendorff.alpha((test['negative_consequences_llm1'].values.tolist(), \n",
    "                    test['negative_consequences_llm2'].values.tolist()), level_of_measurement=\"nominal\")"
   ]
  },
  {
   "cell_type": "code",
   "execution_count": 49,
   "id": "67042313",
   "metadata": {},
   "outputs": [
    {
     "data": {
      "text/plain": [
       "negative_consequences  negative_consequences_llm1\n",
       "0                      0                             348\n",
       "                       1                               6\n",
       "1                      0                               2\n",
       "                       1                              43\n",
       "Name: topic, dtype: int64"
      ]
     },
     "execution_count": 49,
     "metadata": {},
     "output_type": "execute_result"
    }
   ],
   "source": [
    "test.groupby(['negative_consequences','negative_consequences_llm1'])['topic'].count()"
   ]
  },
  {
   "cell_type": "code",
   "execution_count": 51,
   "id": "6684a666",
   "metadata": {},
   "outputs": [
    {
     "name": "stdout",
     "output_type": "stream",
     "text": [
      "Precision: 0.88\n",
      "Recall: 0.96\n",
      "F1-score: 0.91\n"
     ]
    }
   ],
   "source": [
    "precision = precision_score(test['negative_consequences'], test['negative_consequences_llm1'])\n",
    "recall = recall_score(test['negative_consequences'], test['negative_consequences_llm1'])\n",
    "f1 = f1_score(test['negative_consequences'], test['negative_consequences_llm1'])\n",
    "\n",
    "# Print individual scores\n",
    "print(f'Precision: {precision:.2f}')\n",
    "print(f'Recall: {recall:.2f}')\n",
    "print(f'F1-score: {f1:.2f}')"
   ]
  },
  {
   "cell_type": "code",
   "execution_count": 52,
   "id": "9508f40e",
   "metadata": {},
   "outputs": [],
   "source": [
    "test.to_csv('test.csv')"
   ]
  },
  {
   "cell_type": "markdown",
   "id": "c3b26c6d",
   "metadata": {},
   "source": [
    "#### Make predictions for the full dataset"
   ]
  },
  {
   "cell_type": "code",
   "execution_count": 60,
   "id": "cb766135",
   "metadata": {},
   "outputs": [],
   "source": [
    "nf = pd.read_csv(\"newsfactor.csv\")\n",
    "nf.drop(labels = [\"Unnamed: 0\"], axis = 1, inplace = True)"
   ]
  },
  {
   "cell_type": "code",
   "execution_count": 62,
   "id": "cfc40dcf",
   "metadata": {},
   "outputs": [],
   "source": [
    "MESSAGE = \"\"\"Given a tweet, classify whether one or more negative consequences are presented in the tweet. \n",
    "\n",
    "Note that:\n",
    "*   Only explicit mentions of outcomes or events are considered. The outcomes and events should have a detrimental effect or penalty.\n",
    "*   Illnesses in a SPECIFIC PERSON or a SPECIFIC GROUP OF PEOPLE, and future challenges facing a company or industry can also be considered negative consequences.\n",
    "*   Do not infer, imply, or assume consequence if not explicitly stated.\n",
    "*   Do not introduce information that is not present in the text.\n",
    "\n",
    "Definition:\n",
    "Negative Consequence: Mentions of adverse outcomes for one or more actors. E.g., damage from extreme weather or legal penalties faced by a corporation.\n",
    "\n",
    "Examples:\n",
    "\n",
    "a) president jair bolsonaro of brazil wants the international community to pledge billions of dollars to pay for conservation effos but donors are skeptical under his watch deforestation in the amazon has risen to the highest level in over a decade\n",
    "Answer: 1 - negative consequence is present.\n",
    "Reasoning: The tweet explicitly mentioned a rising deforestation in the amazon, which can be seen as negative outcomes for the environment.\n",
    "\n",
    "b) this will likely get little international media attention but it is a very very dark moment for press freedom in hk an apple daily columnist tweeted\n",
    "Answer: 1 - negative consequence is present.\n",
    "Reasoning: The tweet explicitly mentioned a very very dark moment for press freedom in hk, showing the negative consequence on the press in HK.\n",
    "\n",
    "c) texas gov abbott’s sudden decision this week to lift the mask mandate and other coronavirus restrictions has undermined the ability of private companies to enforce their own rules for protecting staffers and customers security expes say\n",
    "Answer: 1 - negative consequence is present.\n",
    "Reasoning: The tweet explicitly mentioned the sudden lift of the COVID restriction has negatively impacted the ability of private companies to protect their staffers and customers.\n",
    "\n",
    "d) the european central bank took a step in the federal reserve’s direction with its new inflation target of 2\n",
    "Answer: 0 - negative consequence is not present.\n",
    "Reasoning: No explicit mention of negative consequence.\n",
    "\n",
    "THE ONLY OUTPUT should be a JSON object with two keys:\n",
    "1. `classification`: an integer (0 or 1) representing the classification result.\n",
    "2. `cot`: a string containing the brief chain of thought/reasoning for the classification.\n",
    "\n",
    "Do NOT include any other text, explanations, or Markdown code block fences in your response. Output ONLY the JSON object.\n",
    "\n",
    "Input tweet:\n",
    "'{tweet_text}'\n",
    "\"\"\""
   ]
  },
  {
   "cell_type": "code",
   "execution_count": 63,
   "id": "8e4711d9",
   "metadata": {},
   "outputs": [
    {
     "name": "stderr",
     "output_type": "stream",
     "text": [
      "Classifying Tweets: 100%|██████████| 9610/9610 [4:51:19<00:00,  1.82s/it]  \n"
     ]
    }
   ],
   "source": [
    "llm_results = []\n",
    "llm_cots = []\n",
    "model_to_use = \"llama3.1\" \n",
    "\n",
    "for index, row in tqdm(nf.iterrows(), total=len(nf), desc=\"Classifying Tweets\"):\n",
    "    tweet_text = row['text_clean']\n",
    "    llm_classification, llm_cot = classify_tweet_with_ollama(tweet_text, model_name=model_to_use)\n",
    "    llm_results.append(llm_classification)\n",
    "    llm_cots.append(llm_cot)\n",
    "\n",
    "nf['negative_consequences'] = llm_results\n",
    "nf['negative_consequences_cot'] = llm_cots"
   ]
  },
  {
   "cell_type": "code",
   "execution_count": 64,
   "id": "c05f0941",
   "metadata": {},
   "outputs": [],
   "source": [
    "nf.to_csv('newsfactor.csv')"
   ]
  },
  {
   "cell_type": "markdown",
   "id": "282040e0",
   "metadata": {},
   "source": [
    "### Positive consequences"
   ]
  },
  {
   "cell_type": "markdown",
   "id": "d4a8390f",
   "metadata": {},
   "source": [
    "#### Prompt instruction model"
   ]
  },
  {
   "cell_type": "code",
   "execution_count": 8,
   "id": "4b9370d7",
   "metadata": {},
   "outputs": [
    {
     "name": "stdout",
     "output_type": "stream",
     "text": [
      "Locally available Ollama models:\n",
      "models=[Model(model='llama3.1:latest', modified_at=datetime.datetime(2025, 7, 22, 16, 29, 12, 748502, tzinfo=TzInfo(+02:00)), digest='46e0c10c039e019119339687c3c1757cc81b9da49709a3b3924863ba87ca666e', size=4920753328, details=ModelDetails(parent_model='', format='gguf', family='llama', families=['llama'], parameter_size='8.0B', quantization_level='Q4_K_M')), Model(model='deepseek-r1:latest', modified_at=datetime.datetime(2025, 7, 22, 14, 42, 30, 846205, tzinfo=TzInfo(+02:00)), digest='6995872bfe4c521a67b32da386cd21d5c6e819b6e0d62f79f64ec83be99f5763', size=5225376047, details=ModelDetails(parent_model='', format='gguf', family='qwen3', families=['qwen3'], parameter_size='8.2B', quantization_level='Q4_K_M'))]\n"
     ]
    }
   ],
   "source": [
    "print(\"Locally available Ollama models:\")\n",
    "print(ollama.list())"
   ]
  },
  {
   "cell_type": "code",
   "execution_count": 5,
   "id": "a4b8074f",
   "metadata": {},
   "outputs": [
    {
     "name": "stdout",
     "output_type": "stream",
     "text": [
      "\n",
      "Model Response:\n",
      "Here's the adapted prompt for classifying variable positive consequences:\n",
      "\n",
      "```\n",
      "Given a tweet, classify whether one or more positive consequences are presented in the tweet.\n",
      "\n",
      "Note that:\n",
      "*   Only explicit mentions of outcomes or events are considered. The outcomes and events should have a beneficial effect or gain.\n",
      "*   Corporate success, consumer gains, and other favorable outcomes can be considered positive consequences.\n",
      "*   Do not infer, imply, or assume consequence if not explicitly stated.\n",
      "*   Do not introduce information that is not present in the text.\n",
      "\n",
      "Definition:\n",
      "Positive Consequence: Mentions of favorable outcomes for one or more actors. E.g., Corporate success or consumer gains.\n",
      "\n",
      "Examples:\n",
      "\n",
      "a) by building underground transmissions we are building a system that promotes clean and reliable energy learn more about this project in the latest episode of our plugged in podcast\n",
      "Answer: 1 - positive consequence is present.\n",
      "Reasoning: The tweet explicitly mentioned the system could promote clean and reliable energy, which can be seen as positive outcomes of the system.\n",
      "\n",
      "b) learn about two different withdrawal strategies that can be used to efficiently manage your taxes in retirement\n",
      "Answer: 1 - positive consequence is present.\n",
      "Reasoning: The tweet explicitly mentioned the strategies that can efficiently manage taxes in retirement, showing the positive consequence of the strategy.\n",
      "\n",
      "c) us and allied warfighters can explore multiple defensive plans in a matter of seconds with the command control battle management and communications system learn how c2bmc informs all levels of decision makers from the president to combatant commanders\n",
      "Answer: 1 - positive consequence is present.\n",
      "Reasoning: The tweet explicitly mentioned the system could inform decision makers in a fast and efficient way, which shows the positive outcome of the system.\n",
      "\n",
      "d) the european central bank took a step in the federal reserve’s direction with its new inflation target of 2\n",
      "Answer: 0 - positive consequence is not present.\n",
      "Reasoning: No explicit mention of positive consequence.\n",
      "\n",
      "THE ONLY OUTPUT should be a JSON object with two keys:\n",
      "1. `classification`: an integer (0 or 1) representing the classification result.\n",
      "2. `cot`: a string containing the brief chain of thought/reasoning for the classification.\n",
      "\n",
      "Do NOT include any other text, explanations, or Markdown code block fences in your response. Output ONLY the JSON object.\n",
      "\n",
      "Input tweet:\n",
      "'{tweet_text}'\n",
      "```\n",
      "\n",
      "Chain of Thought: I adapted the original prompt by replacing the definition and examples to focus on positive consequences instead of negative ones. I also kept the same structure and formatting as the original prompt to ensure consistency.\n"
     ]
    }
   ],
   "source": [
    "messages = [\n",
    "    {'role': 'user', 'content': \"\"\"You are a highly precise prompt engineer. Trying to automatize part of the manual coding.\n",
    "    Your goal is to generate a prompt that instructs an LLM to classify tweets.\n",
    "    Below is a prompt you wrote for the varialbe negative consequences. Now you need to adapt this prompt for the variable positive consequences.\n",
    "    \n",
    "     Prompt:   \n",
    "        Given a tweet, classify whether one or more negative consequences are presented in the tweet. \n",
    "\n",
    "        Note that:\n",
    "        *   Only explicit mentions of outcomes or events are considered. The outcomes and events should have a detrimental effect or penalty.\n",
    "        *   Illnesses in a SPECIFIC PERSON or a SPECIFIC GROUP OF PEOPLE, and future challenges facing a company or industry can also be considered negative consequences.\n",
    "        *   Do not infer, imply, or assume consequence if not explicitly stated.\n",
    "        *   Do not introduce information that is not present in the text.\n",
    "\n",
    "        Definition:\n",
    "        Negative Consequence: Mentions of adverse outcomes for one or more actors. E.g., damage from extreme weather or legal penalties faced by a corporation.\n",
    "\n",
    "        Examples:\n",
    "\n",
    "        a) president jair bolsonaro of brazil wants the international community to pledge billions of dollars to pay for conservation effos but donors are skeptical under his watch deforestation in the amazon has risen to the highest level in over a decade\n",
    "        Answer: 1 - negative consequence is present.\n",
    "        Reasoning: The tweet explicitly mentioned a rising deforestation in the amazon, which can be seen as negative outcomes for the environment.\n",
    "\n",
    "        b) this will likely get little international media attention but it is a very very dark moment for press freedom in hk an apple daily columnist tweeted\n",
    "        Answer: 1 - negative consequence is present.\n",
    "        Reasoning: The tweet explicitly mentioned a very very dark moment for press freedom in hk, showing the negative consequence on the press in HK.\n",
    "\n",
    "        c) texas gov abbott’s sudden decision this week to lift the mask mandate and other coronavirus restrictions has undermined the ability of private companies to enforce their own rules for protecting staffers and customers security expes say\n",
    "        Answer: 1 - negative consequence is present.\n",
    "        Reasoning: The tweet explicitly mentioned the sudden lift of the COVID restriction has negatively impacted the ability of private companies to protect their staffers and customers.\n",
    "\n",
    "        d) the european central bank took a step in the federal reserve’s direction with its new inflation target of 2\n",
    "        Answer: 0 - negative consequence is not present.\n",
    "        Reasoning: No explicit mention of negative consequence.\n",
    "\n",
    "        THE ONLY OUTPUT should be a JSON object with two keys:\n",
    "        1. `classification`: an integer (0 or 1) representing the classification result.\n",
    "        2. `cot`: a string containing the brief chain of thought/reasoning for the classification.\n",
    "\n",
    "        Do NOT include any other text, explanations, or Markdown code block fences in your response. Output ONLY the JSON object.\n",
    "\n",
    "        Input tweet:\n",
    "        '{tweet_text}'\n",
    "    \n",
    "    Here's the definiation of the variable positive consequences: Positive outcomes for one or more actors explicitly mentioned. E.g., Corporate success or consumer gains.\n",
    "    Here're the examples for few shot learning:\n",
    "        a) by building underground transmissions we are building a system that promotes clean and reliable energy learn more about this project in the latest episode of our plugged in podcast\n",
    "        Answer: 1 - positive consequence is present.\n",
    "        Reasoning: The tweet explicitly menionted the system could promote clean and reliable energy, which can be seen as positive outcomes of the system.\n",
    "        b) learn about two different withdrawal strategies that can be used to efficiently manage your taxes in retirement\n",
    "        Answer: 1 - positive consequence is present.\n",
    "        Reasoning: The tweet explicitly mentioned the strategies that can efficiently manage taxes in retirement, showing the positive consequence of the strategy.\n",
    "        c) us and allied warfighters can explore multiple defensive plans in a matter of seconds with the command control battle management and communications system learn how c2bmc informs all levels of decision makers from the president to combatant commanders\n",
    "        Answer: 1 - positive consequence is present.\n",
    "        Reasoning: The tweet explicitly mentioned the system could inform decision makers in a fast and efficient way, which shows the positive outcome of the system.\n",
    "        d) the european central bank took a step in the federal reserve’s direction with its new inflation target of 2\n",
    "        Answer: 0 - positive consequence is not present.\n",
    "        Reasoning: No explicit mention of positive consequence.\n",
    "        e) president jair bolsonaro of brazil wants the international community to pledge billions of dollars to pay for conservation effos but donors are skeptical under his watch deforestation in the amazon has risen to the highest level in over a decade\n",
    "        Answer: 0 - positive consequence is not present.\n",
    "        Reasoning: No explicit mention of positive consequence.\n",
    "        f) watch the livestream of amd’s ceo dr lisa su speak at computex2021 learn what is in store for amd this year and the future of pc ecosystems\n",
    "        Answer: 0 - positive consequence is not present.\n",
    "        Reasoning: No explicit mention of positive consequence.\n",
    "    \n",
    "    Always provide your chain of thought for generating the prompts but keep it short.\n",
    "\"\"\"},\n",
    "]\n",
    "\n",
    "response = ollama.chat(model='llama3.1:latest', messages=messages)\n",
    "print(\"\\nModel Response:\")\n",
    "print(response['message']['content'])"
   ]
  },
  {
   "cell_type": "markdown",
   "id": "93ed3fa4",
   "metadata": {},
   "source": [
    "#### Try the prompt"
   ]
  },
  {
   "cell_type": "code",
   "execution_count": 6,
   "id": "c12aabe4",
   "metadata": {},
   "outputs": [
    {
     "name": "stdout",
     "output_type": "stream",
     "text": [
      "\n",
      "Model Response (Chat):\n",
      "{\n",
      "  \"classification\": 1,\n",
      "  \"cot\": \"The tweet explicitly mentioned that upskilling or right skilling can help employees get better at their job or for the job they want to do, showing a positive consequence of offering these opportunities.\"\n",
      "}\n"
     ]
    }
   ],
   "source": [
    "messages = [\n",
    "    {'role': 'user', 'content': \"\"\"Given a tweet, classify whether one or more positive consequences are presented in the tweet.\n",
    "\n",
    "Note that:\n",
    "*   Only explicit mentions of outcomes or events are considered. The outcomes and events should have a beneficial effect or gain.\n",
    "*   Do not infer, imply, or assume consequence if not explicitly stated.\n",
    "*   Do not introduce information that is not present in the text.\n",
    "\n",
    "Definition:\n",
    "Positive Consequence: Mentions of favorable outcomes for one or more actors. E.g., Corporate success or consumer gains.\n",
    "\n",
    "Examples:\n",
    "\n",
    "a) by building underground transmissions we are building a system that promotes clean and reliable energy learn more about this project in the latest episode of our plugged in podcast\n",
    "Answer: 1 - positive consequence is present.\n",
    "Reasoning: The tweet explicitly mentioned the system could promote clean and reliable energy, which can be seen as positive outcomes of the system.\n",
    "\n",
    "b) learn about two different withdrawal strategies that can be used to efficiently manage your taxes in retirement\n",
    "Answer: 1 - positive consequence is present.\n",
    "Reasoning: The tweet explicitly mentioned the strategies that can efficiently manage taxes in retirement, showing the positive consequence of the strategy.\n",
    "\n",
    "c) us and allied warfighters can explore multiple defensive plans in a matter of seconds with the command control battle management and communications system learn how c2bmc informs all levels of decision makers from the president to combatant commanders\n",
    "Answer: 1 - positive consequence is present.\n",
    "Reasoning: The tweet explicitly mentioned the system could inform decision makers in a fast and efficient way, which shows the positive outcome of the system.\n",
    "\n",
    "d) the european central bank took a step in the federal reserve’s direction with its new inflation target of 2\n",
    "Answer: 0 - positive consequence is not present.\n",
    "Reasoning: No explicit mention of positive consequence.\n",
    "\n",
    "THE ONLY OUTPUT should be a JSON object with two keys:\n",
    "1. `classification`: an integer (0 or 1) representing the classification result.\n",
    "2. `cot`: a string containing the brief chain of thought/reasoning for the classification.\n",
    "\n",
    "Do NOT include any other text, explanations, or Markdown code block fences in your response. Output ONLY the JSON object.\n",
    "\n",
    "Input tweet:\n",
    "once you have talent offer upskilling or right skilling to help employees get better at their job or for the job they want to do pittorenatalie chief of enduring security framework national security agency womenatwork2021\n",
    "\"\"\"},\n",
    "]\n",
    "response = ollama.chat(model='llama3.1:latest', messages=messages)\n",
    "print(\"\\nModel Response (Chat):\")\n",
    "print(response['message']['content'])"
   ]
  },
  {
   "cell_type": "code",
   "execution_count": 7,
   "id": "83d73472",
   "metadata": {},
   "outputs": [
    {
     "name": "stdout",
     "output_type": "stream",
     "text": [
      "\n",
      "Model Response (Chat):\n",
      "{\n",
      "    \"classification\": 1,\n",
      "    \"cot\": \"The tweet explicitly mentioned the skateboard and park can become ultimate platforms of creative and athletic expression, which can be seen as positive outcomes for Heimana Reynolds.\"\n",
      "}\n"
     ]
    }
   ],
   "source": [
    "messages = [\n",
    "    {'role': 'user', 'content': \"\"\"Given a tweet, classify whether one or more positive consequences are presented in the tweet.\n",
    "\n",
    "Note that:\n",
    "*   Only explicit mentions of outcomes or events are considered. The outcomes and events should have a beneficial effect or gain.\n",
    "*   Do not infer, imply, or assume consequence if not explicitly stated.\n",
    "*   Do not introduce information that is not present in the text.\n",
    "\n",
    "Definition:\n",
    "Positive Consequence: Mentions of favorable outcomes for one or more actors. E.g., Corporate success or consumer gains.\n",
    "\n",
    "Examples:\n",
    "\n",
    "a) by building underground transmissions we are building a system that promotes clean and reliable energy learn more about this project in the latest episode of our plugged in podcast\n",
    "Answer: 1 - positive consequence is present.\n",
    "Reasoning: The tweet explicitly mentioned the system could promote clean and reliable energy, which can be seen as positive outcomes of the system.\n",
    "\n",
    "b) learn about two different withdrawal strategies that can be used to efficiently manage your taxes in retirement\n",
    "Answer: 1 - positive consequence is present.\n",
    "Reasoning: The tweet explicitly mentioned the strategies that can efficiently manage taxes in retirement, showing the positive consequence of the strategy.\n",
    "\n",
    "c) us and allied warfighters can explore multiple defensive plans in a matter of seconds with the command control battle management and communications system learn how c2bmc informs all levels of decision makers from the president to combatant commanders\n",
    "Answer: 1 - positive consequence is present.\n",
    "Reasoning: The tweet explicitly mentioned the system could inform decision makers in a fast and efficient way, which shows the positive outcome of the system.\n",
    "\n",
    "d) the european central bank took a step in the federal reserve’s direction with its new inflation target of 2\n",
    "Answer: 0 - positive consequence is not present.\n",
    "Reasoning: No explicit mention of positive consequence.\n",
    "\n",
    "THE ONLY OUTPUT should be a JSON object with two keys:\n",
    "1. `classification`: an integer (0 or 1) representing the classification result.\n",
    "2. `cot`: a string containing the brief chain of thought/reasoning for the classification.\n",
    "\n",
    "Do NOT include any other text, explanations, or Markdown code block fences in your response. Output ONLY the JSON object.\n",
    "\n",
    "Input tweet:\n",
    "in focus heimana reynolds for heimana reynolds the skateboard and park become ultimate platforms of creative and athletic expression watch heimana’s film from our exclusive documentary series now on twitter rlxteamusa teamusa tokyoolympics tokyo2020 olympics\n",
    "\"\"\"},\n",
    "]\n",
    "response = ollama.chat(model='llama3.1:latest', messages=messages)\n",
    "print(\"\\nModel Response (Chat):\")\n",
    "print(response['message']['content'])"
   ]
  },
  {
   "cell_type": "code",
   "execution_count": 8,
   "id": "372505a1",
   "metadata": {},
   "outputs": [
    {
     "name": "stdout",
     "output_type": "stream",
     "text": [
      "\n",
      "Model Response (Chat):\n",
      "{\n",
      "  \"classification\": 0,\n",
      "  \"cot\": \"No explicit mention of positive consequence.\"\n",
      "}\n"
     ]
    }
   ],
   "source": [
    "messages = [\n",
    "    {'role': 'user', 'content': \"\"\"Given a tweet, classify whether one or more positive consequences are presented in the tweet.\n",
    "\n",
    "Note that:\n",
    "*   Only explicit mentions of outcomes or events are considered. The outcomes and events should have a beneficial effect or gain.\n",
    "*   Do not infer, imply, or assume consequence if not explicitly stated.\n",
    "*   Do not introduce information that is not present in the text.\n",
    "\n",
    "Definition:\n",
    "Positive Consequence: Mentions of favorable outcomes for one or more actors. E.g., Corporate success or consumer gains.\n",
    "\n",
    "Examples:\n",
    "\n",
    "a) by building underground transmissions we are building a system that promotes clean and reliable energy learn more about this project in the latest episode of our plugged in podcast\n",
    "Answer: 1 - positive consequence is present.\n",
    "Reasoning: The tweet explicitly mentioned the system could promote clean and reliable energy, which can be seen as positive outcomes of the system.\n",
    "\n",
    "b) learn about two different withdrawal strategies that can be used to efficiently manage your taxes in retirement\n",
    "Answer: 1 - positive consequence is present.\n",
    "Reasoning: The tweet explicitly mentioned the strategies that can efficiently manage taxes in retirement, showing the positive consequence of the strategy.\n",
    "\n",
    "c) us and allied warfighters can explore multiple defensive plans in a matter of seconds with the command control battle management and communications system learn how c2bmc informs all levels of decision makers from the president to combatant commanders\n",
    "Answer: 1 - positive consequence is present.\n",
    "Reasoning: The tweet explicitly mentioned the system could inform decision makers in a fast and efficient way, which shows the positive outcome of the system.\n",
    "\n",
    "d) the european central bank took a step in the federal reserve’s direction with its new inflation target of 2\n",
    "Answer: 0 - positive consequence is not present.\n",
    "Reasoning: No explicit mention of positive consequence.\n",
    "\n",
    "THE ONLY OUTPUT should be a JSON object with two keys:\n",
    "1. `classification`: an integer (0 or 1) representing the classification result.\n",
    "2. `cot`: a string containing the brief chain of thought/reasoning for the classification.\n",
    "\n",
    "Do NOT include any other text, explanations, or Markdown code block fences in your response. Output ONLY the JSON object.\n",
    "\n",
    "Input tweet:\n",
    "the online trading app robinhood promised to wrest the stock market away from wall street’s gatekeepers — making it as easy to put millions at risk as it is to summon an uber it turns out robinhood was at the mercy of the industry it had vowed to upend\n",
    "\"\"\"},\n",
    "]\n",
    "response = ollama.chat(model='llama3.1:latest', messages=messages)\n",
    "print(\"\\nModel Response (Chat):\")\n",
    "print(response['message']['content'])"
   ]
  },
  {
   "cell_type": "code",
   "execution_count": 9,
   "id": "56a9061e",
   "metadata": {},
   "outputs": [
    {
     "name": "stdout",
     "output_type": "stream",
     "text": [
      "\n",
      "Model Response (Chat):\n",
      "{\n",
      "  \"classification\": 0,\n",
      "  \"cot\": \"No explicit mention of positive consequence, the tweet only mentions protests and controversy.\"\n",
      "}\n"
     ]
    }
   ],
   "source": [
    "messages = [\n",
    "    {'role': 'user', 'content': \"\"\"Given a tweet, classify whether one or more positive consequences are presented in the tweet.\n",
    "\n",
    "Note that:\n",
    "*   Only explicit mentions of outcomes or events are considered. The outcomes and events should have a beneficial effect or gain.\n",
    "*   Do not infer, imply, or assume consequence if not explicitly stated.\n",
    "*   Do not introduce information that is not present in the text.\n",
    "\n",
    "Definition:\n",
    "Positive Consequence: Mentions of favorable outcomes for one or more actors. E.g., Corporate success or consumer gains.\n",
    "\n",
    "Examples:\n",
    "\n",
    "a) by building underground transmissions we are building a system that promotes clean and reliable energy learn more about this project in the latest episode of our plugged in podcast\n",
    "Answer: 1 - positive consequence is present.\n",
    "Reasoning: The tweet explicitly mentioned the system could promote clean and reliable energy, which can be seen as positive outcomes of the system.\n",
    "\n",
    "b) learn about two different withdrawal strategies that can be used to efficiently manage your taxes in retirement\n",
    "Answer: 1 - positive consequence is present.\n",
    "Reasoning: The tweet explicitly mentioned the strategies that can efficiently manage taxes in retirement, showing the positive consequence of the strategy.\n",
    "\n",
    "c) us and allied warfighters can explore multiple defensive plans in a matter of seconds with the command control battle management and communications system learn how c2bmc informs all levels of decision makers from the president to combatant commanders\n",
    "Answer: 1 - positive consequence is present.\n",
    "Reasoning: The tweet explicitly mentioned the system could inform decision makers in a fast and efficient way, which shows the positive outcome of the system.\n",
    "\n",
    "d) the european central bank took a step in the federal reserve’s direction with its new inflation target of 2\n",
    "Answer: 0 - positive consequence is not present.\n",
    "Reasoning: No explicit mention of positive consequence.\n",
    "\n",
    "THE ONLY OUTPUT should be a JSON object with two keys:\n",
    "1. `classification`: an integer (0 or 1) representing the classification result.\n",
    "2. `cot`: a string containing the brief chain of thought/reasoning for the classification.\n",
    "\n",
    "Do NOT include any other text, explanations, or Markdown code block fences in your response. Output ONLY the JSON object.\n",
    "\n",
    "Input tweet:\n",
    "hundreds of netflix employees and suppoers are expected to take pa in a demonstration on wednesday to protest the streaming giants handling of the controversy surrounding dave chappelles recent comedy special the closer\n",
    "\"\"\"},\n",
    "]\n",
    "response = ollama.chat(model='llama3.1:latest', messages=messages)\n",
    "print(\"\\nModel Response (Chat):\")\n",
    "print(response['message']['content'])"
   ]
  },
  {
   "cell_type": "markdown",
   "id": "277c89ae",
   "metadata": {},
   "source": [
    "#### Validate the performance"
   ]
  },
  {
   "cell_type": "code",
   "execution_count": 2,
   "id": "cc8c47f1",
   "metadata": {},
   "outputs": [],
   "source": [
    "from ollama_classification import classify_tweet_with_ollama"
   ]
  },
  {
   "cell_type": "code",
   "execution_count": 51,
   "id": "8a91829e",
   "metadata": {},
   "outputs": [],
   "source": [
    "MESSAGE = \"\"\"Given a tweet, classify whether one or more positive consequences are presented in the tweet.\n",
    "\n",
    "Note that:\n",
    "*   Only explicit mentions of outcomes or events that have a beneficial effect or gain are considered.\n",
    "*   Do not classify positive consequences based solely on positive words or general sentiment: E.g., \"happy birthday,\" \"wish you a great day.\" These are not positive consequences.\n",
    "*   Do not infer, imply, or assume consequence if not explicitly stated.\n",
    "*   Do not introduce information that is not present in the text.\n",
    "\n",
    "Definition:\n",
    "Positive Consequences: Mentions of favorable outcomes for one or more actors. E.g., Corporate success, consumer's needs are fulfilled, someone has won an award.\n",
    "\n",
    "Examples:\n",
    "\n",
    "a) by building underground transmissions we are building a system that promotes clean and reliable energy learn more about this project in the latest episode of our plugged in podcast\n",
    "Answer: 1 - positive consequence is present.\n",
    "Reasoning: The tweet explicitly mentioned the system could promote clean and reliable energy, which can be seen as positive outcomes of the system.\n",
    "\n",
    "b) learn about two different withdrawal strategies that can be used to efficiently manage your taxes in retirement\n",
    "Answer: 1 - positive consequence is present.\n",
    "Reasoning: The tweet explicitly mentioned the strategies that can efficiently manage taxes in retirement, showing the positive consequence of the strategy.\n",
    "\n",
    "c) us and allied warfighters can explore multiple defensive plans in a matter of seconds with the command control battle management and communications system learn how c2bmc informs all levels of decision makers from the president to combatant commanders\n",
    "Answer: 1 - positive consequence is present.\n",
    "Reasoning: The tweet explicitly mentioned the system could inform decision makers in a fast and efficient way, which shows the positive outcome of the system.\n",
    "\n",
    "d) the european central bank took a step in the federal reserve’s direction with its new inflation target of 2\n",
    "Answer: 0 - positive consequence is not present.\n",
    "Reasoning: No explicit mention of positive consequence.\n",
    "\n",
    "THE ONLY OUTPUT should be a JSON object with two keys:\n",
    "1. `classification`: an integer (0 or 1) representing the classification result.\n",
    "2. `cot`: a string containing the brief chain of thought/reasoning for the classification.\n",
    "\n",
    "Do NOT include any other text, explanations, or Markdown code block fences (like ```json or ```) in your response. Output ONLY the JSON object.\n",
    "\n",
    "Input tweet:\n",
    "'{tweet_text}'\n",
    "\"\"\""
   ]
  },
  {
   "cell_type": "code",
   "execution_count": 52,
   "id": "e309b20d",
   "metadata": {},
   "outputs": [],
   "source": [
    "val = pd.read_csv(\"val.csv\")\n",
    "val.drop(labels = [\"Unnamed: 0\"], axis = 1, inplace = True)"
   ]
  },
  {
   "cell_type": "code",
   "execution_count": 53,
   "id": "0415a69c",
   "metadata": {},
   "outputs": [
    {
     "name": "stderr",
     "output_type": "stream",
     "text": [
      "Classifying Tweets: 100%|██████████| 81/81 [03:12<00:00,  2.38s/it]\n"
     ]
    }
   ],
   "source": [
    "llm_results = []\n",
    "llm_cots = []\n",
    "\n",
    "for index, row in tqdm(val.iterrows(), total=len(val), desc=\"Classifying Tweets\"):\n",
    "    tweet = row['rep_doc']\n",
    "    llm_classification, llm_cot = classify_tweet_with_ollama(text=tweet, model=\"llama3.1\", message=MESSAGE)\n",
    "    llm_results.append(llm_classification)\n",
    "    llm_cots.append(llm_cot)\n",
    "\n",
    "val['positive_consequences_llm1'] = llm_results\n",
    "val['positive_consequences_llm_cot1'] = llm_cots"
   ]
  },
  {
   "cell_type": "code",
   "execution_count": 58,
   "id": "3bc531c9",
   "metadata": {},
   "outputs": [
    {
     "name": "stderr",
     "output_type": "stream",
     "text": [
      "Classifying Tweets: 100%|██████████| 81/81 [03:09<00:00,  2.35s/it]\n"
     ]
    }
   ],
   "source": [
    "llm_results = []\n",
    "llm_cots = []\n",
    "\n",
    "for index, row in tqdm(val.iterrows(), total=len(val), desc=\"Classifying Tweets\"):\n",
    "    tweet = row['rep_doc']\n",
    "    llm_classification, llm_cot = classify_tweet_with_ollama(text=tweet, model=\"llama3.1\", message=MESSAGE)\n",
    "    llm_results.append(llm_classification)\n",
    "    llm_cots.append(llm_cot)\n",
    "\n",
    "val['positive_consequences_llm2'] = llm_results\n",
    "val['positive_consequences_llm_cot2'] = llm_cots"
   ]
  },
  {
   "cell_type": "code",
   "execution_count": 59,
   "id": "63c9046e",
   "metadata": {},
   "outputs": [
    {
     "data": {
      "text/plain": [
       "positive_consequences_llm1  positive_consequences_llm2\n",
       "0                           0                             43\n",
       "1                           1                             38\n",
       "Name: topic, dtype: int64"
      ]
     },
     "execution_count": 59,
     "metadata": {},
     "output_type": "execute_result"
    }
   ],
   "source": [
    "val.groupby(['positive_consequences_llm1','positive_consequences_llm2'])['topic'].count()"
   ]
  },
  {
   "cell_type": "code",
   "execution_count": 60,
   "id": "9944e340",
   "metadata": {},
   "outputs": [
    {
     "data": {
      "text/plain": [
       "np.float64(1.0)"
      ]
     },
     "execution_count": 60,
     "metadata": {},
     "output_type": "execute_result"
    }
   ],
   "source": [
    "krippendorff.alpha((val['positive_consequences_llm1'].values.tolist(), \n",
    "                    val['positive_consequences_llm2'].values.tolist()), level_of_measurement=\"nominal\")"
   ]
  },
  {
   "cell_type": "code",
   "execution_count": 61,
   "id": "762e8673",
   "metadata": {},
   "outputs": [
    {
     "data": {
      "text/plain": [
       "positive_consequences  positive_consequences_llm1\n",
       "0                      0                             37\n",
       "                       1                              8\n",
       "1                      0                              6\n",
       "                       1                             30\n",
       "Name: topic, dtype: int64"
      ]
     },
     "execution_count": 61,
     "metadata": {},
     "output_type": "execute_result"
    }
   ],
   "source": [
    "val.groupby(['positive_consequences','positive_consequences_llm1'])['topic'].count()"
   ]
  },
  {
   "cell_type": "code",
   "execution_count": 62,
   "id": "381ea98b",
   "metadata": {},
   "outputs": [
    {
     "name": "stdout",
     "output_type": "stream",
     "text": [
      "Precision: 0.79\n",
      "Recall: 0.83\n",
      "F1-score: 0.81\n"
     ]
    }
   ],
   "source": [
    "precision = precision_score(val['positive_consequences'], val['positive_consequences_llm1'])\n",
    "recall = recall_score(val['positive_consequences'], val['positive_consequences_llm1'])\n",
    "f1 = f1_score(val['positive_consequences'], val['positive_consequences_llm1'])\n",
    "\n",
    "# Print individual scores\n",
    "print(f'Precision: {precision:.2f}')\n",
    "print(f'Recall: {recall:.2f}')\n",
    "print(f'F1-score: {f1:.2f}')"
   ]
  },
  {
   "cell_type": "code",
   "execution_count": 63,
   "id": "3811065d",
   "metadata": {},
   "outputs": [],
   "source": [
    "val.to_csv('val.csv')"
   ]
  },
  {
   "cell_type": "markdown",
   "id": "09a08b9f",
   "metadata": {},
   "source": [
    "#### Test the final prompt"
   ]
  },
  {
   "cell_type": "code",
   "execution_count": null,
   "id": "aca037a8",
   "metadata": {},
   "outputs": [],
   "source": [
    "MESSAGE = \"\"\"Given a tweet, classify whether one or more positive consequences are presented in the tweet.\n",
    "\n",
    "Note that:\n",
    "*   Only explicit mentions of outcomes or events that have a beneficial effect or gain are considered.\n",
    "*   Do not classify positive consequences based solely on positive words or general sentiment: E.g., \"happy birthday,\" \"wish you a great day.\" These are not positive consequences.\n",
    "*   Do not infer, imply, or assume consequence if not explicitly stated.\n",
    "*   Do not introduce information that is not present in the text.\n",
    "\n",
    "Definition:\n",
    "Positive Consequences: Mentions of favorable outcomes for one or more actors. E.g., Corporate success, consumer's needs are fulfilled, someone has won an award.\n",
    "\n",
    "Examples:\n",
    "\n",
    "a) by building underground transmissions we are building a system that promotes clean and reliable energy learn more about this project in the latest episode of our plugged in podcast\n",
    "Answer: 1 - positive consequence is present.\n",
    "Reasoning: The tweet explicitly mentioned the system could promote clean and reliable energy, which can be seen as positive outcomes of the system.\n",
    "\n",
    "b) learn about two different withdrawal strategies that can be used to efficiently manage your taxes in retirement\n",
    "Answer: 1 - positive consequence is present.\n",
    "Reasoning: The tweet explicitly mentioned the strategies that can efficiently manage taxes in retirement, showing the positive consequence of the strategy.\n",
    "\n",
    "c) us and allied warfighters can explore multiple defensive plans in a matter of seconds with the command control battle management and communications system learn how c2bmc informs all levels of decision makers from the president to combatant commanders\n",
    "Answer: 1 - positive consequence is present.\n",
    "Reasoning: The tweet explicitly mentioned the system could inform decision makers in a fast and efficient way, which shows the positive outcome of the system.\n",
    "\n",
    "d) the european central bank took a step in the federal reserve’s direction with its new inflation target of 2\n",
    "Answer: 0 - positive consequence is not present.\n",
    "Reasoning: No explicit mention of positive consequence.\n",
    "\n",
    "THE ONLY OUTPUT should be a JSON object with two keys:\n",
    "1. `classification`: an integer (0 or 1) representing the classification result.\n",
    "2. `cot`: a string containing the brief chain of thought/reasoning for the classification.\n",
    "\n",
    "Do NOT include any other text, explanations, or Markdown code block fences (like ```json or ```) in your response. Output ONLY the JSON object.\n",
    "\n",
    "Input tweet:\n",
    "'{tweet_text}'\n",
    "\"\"\""
   ]
  },
  {
   "cell_type": "code",
   "execution_count": 64,
   "id": "25e3d92a",
   "metadata": {},
   "outputs": [],
   "source": [
    "test = pd.read_csv(\"test.csv\")\n",
    "test.drop(labels = [\"Unnamed: 0\"], axis = 1, inplace = True)"
   ]
  },
  {
   "cell_type": "code",
   "execution_count": null,
   "id": "5552d852",
   "metadata": {},
   "outputs": [],
   "source": [
    "llm_results = []\n",
    "llm_cots = []\n",
    "\n",
    "for index, row in tqdm(test.iterrows(), total=len(test), desc=\"Classifying Tweets\"):\n",
    "    tweet = row['rep_doc']\n",
    "    llm_classification, llm_cot = classify_tweet_with_ollama(text=tweet, model=\"llama3.1\", message=MESSAGE)\n",
    "    llm_results.append(llm_classification)\n",
    "    llm_cots.append(llm_cot)\n",
    "\n",
    "test['positive_consequences_llm1'] = llm_results\n",
    "test['positive_consequences_llm_cot1'] = llm_cots"
   ]
  },
  {
   "cell_type": "code",
   "execution_count": null,
   "id": "f1f863fd",
   "metadata": {},
   "outputs": [],
   "source": [
    "llm_results = []\n",
    "llm_cots = []\n",
    "\n",
    "for index, row in tqdm(test.iterrows(), total=len(test), desc=\"Classifying Tweets\"):\n",
    "    tweet = row['rep_doc']\n",
    "    llm_classification, llm_cot = classify_tweet_with_ollama(text=tweet, model=\"llama3.1\", message=MESSAGE)\n",
    "    llm_results.append(llm_classification)\n",
    "    llm_cots.append(llm_cot)\n",
    "\n",
    "test['positive_consequences_llm2'] = llm_results\n",
    "test['positive_consequences_llm_cot2'] = llm_cots"
   ]
  },
  {
   "cell_type": "code",
   "execution_count": 65,
   "id": "1d62ce70",
   "metadata": {},
   "outputs": [
    {
     "data": {
      "text/plain": [
       "positive_consequences_llm1  positive_consequences_llm2\n",
       "0                           0                             218\n",
       "1                           1                             181\n",
       "Name: topic, dtype: int64"
      ]
     },
     "execution_count": 65,
     "metadata": {},
     "output_type": "execute_result"
    }
   ],
   "source": [
    "test.groupby(['positive_consequences_llm1','positive_consequences_llm2'])['topic'].count()"
   ]
  },
  {
   "cell_type": "code",
   "execution_count": 66,
   "id": "7b4d33ca",
   "metadata": {},
   "outputs": [
    {
     "data": {
      "text/plain": [
       "np.float64(1.0)"
      ]
     },
     "execution_count": 66,
     "metadata": {},
     "output_type": "execute_result"
    }
   ],
   "source": [
    "krippendorff.alpha((test['positive_consequences_llm1'].values.tolist(), \n",
    "                    test['positive_consequences_llm2'].values.tolist()), level_of_measurement=\"nominal\")"
   ]
  },
  {
   "cell_type": "code",
   "execution_count": 67,
   "id": "aac58696",
   "metadata": {},
   "outputs": [
    {
     "data": {
      "text/plain": [
       "positive_consequences  positive_consequences_llm1\n",
       "0                      0                             202\n",
       "                       1                              45\n",
       "1                      0                              16\n",
       "                       1                             136\n",
       "Name: topic, dtype: int64"
      ]
     },
     "execution_count": 67,
     "metadata": {},
     "output_type": "execute_result"
    }
   ],
   "source": [
    "test.groupby(['positive_consequences','positive_consequences_llm1'])['topic'].count()"
   ]
  },
  {
   "cell_type": "code",
   "execution_count": 68,
   "id": "ced6eeab",
   "metadata": {},
   "outputs": [
    {
     "name": "stdout",
     "output_type": "stream",
     "text": [
      "Precision: 0.75\n",
      "Recall: 0.89\n",
      "F1-score: 0.82\n"
     ]
    }
   ],
   "source": [
    "precision = precision_score(test['positive_consequences'], test['positive_consequences_llm1'])\n",
    "recall = recall_score(test['positive_consequences'], test['positive_consequences_llm1'])\n",
    "f1 = f1_score(test['positive_consequences'], test['positive_consequences_llm1'])\n",
    "\n",
    "# Print individual scores\n",
    "print(f'Precision: {precision:.2f}')\n",
    "print(f'Recall: {recall:.2f}')\n",
    "print(f'F1-score: {f1:.2f}')"
   ]
  },
  {
   "cell_type": "code",
   "execution_count": null,
   "id": "ca37b42e",
   "metadata": {},
   "outputs": [],
   "source": [
    "test.to_csv('test.csv')"
   ]
  },
  {
   "cell_type": "markdown",
   "id": "695a2c34",
   "metadata": {},
   "source": [
    "#### Make predictions for the full dataset"
   ]
  },
  {
   "cell_type": "code",
   "execution_count": 69,
   "id": "049dae6b",
   "metadata": {},
   "outputs": [],
   "source": [
    "nf = pd.read_csv(\"newsfactor.csv\")\n",
    "nf.drop(labels = [\"Unnamed: 0\"], axis = 1, inplace = True)"
   ]
  },
  {
   "cell_type": "code",
   "execution_count": 71,
   "id": "0d4c61df",
   "metadata": {},
   "outputs": [
    {
     "name": "stderr",
     "output_type": "stream",
     "text": [
      "Classifying Tweets:  99%|█████████▉| 9498/9610 [6:01:45<05:11,  2.78s/it]  "
     ]
    },
    {
     "name": "stdout",
     "output_type": "stream",
     "text": [
      "Warning: JSON parsing/conversion error for tweet: as droughtstricken california braces for a potenti... Error: Invalid \\escape: line 3 column 49 (char 73)\n",
      "LLM raw output: {\n",
      "  \"classification\": 1,\n",
      "  \"cot\": \"The tweet explicitly mentioned that PG\\&E is better positioned to...\n"
     ]
    },
    {
     "name": "stderr",
     "output_type": "stream",
     "text": [
      "Classifying Tweets: 100%|██████████| 9610/9610 [6:06:28<00:00,  2.29s/it]\n"
     ]
    }
   ],
   "source": [
    "llm_results = []\n",
    "llm_cots = []\n",
    "\n",
    "for index, row in tqdm(nf.iterrows(), total=len(nf), desc=\"Classifying Tweets\"):\n",
    "    tweet = row['text_clean']\n",
    "    llm_classification, llm_cot = classify_tweet_with_ollama(text=tweet, model=\"llama3.1\", message=MESSAGE)\n",
    "    llm_results.append(llm_classification)\n",
    "    llm_cots.append(llm_cot)\n",
    "\n",
    "nf['positive_consequences_llm'] = llm_results\n",
    "nf['positive_consequences_llm_cot'] = llm_cots"
   ]
  },
  {
   "cell_type": "code",
   "execution_count": 79,
   "id": "28855832",
   "metadata": {},
   "outputs": [],
   "source": [
    "nf.to_csv('newsfactor.csv')"
   ]
  },
  {
   "cell_type": "markdown",
   "id": "bcf7c997",
   "metadata": {},
   "source": [
    "### Scope"
   ]
  },
  {
   "cell_type": "markdown",
   "id": "35e8f66d",
   "metadata": {},
   "source": [
    "#### Prompt instruction model"
   ]
  },
  {
   "cell_type": "code",
   "execution_count": 80,
   "id": "b5554c63",
   "metadata": {},
   "outputs": [
    {
     "name": "stdout",
     "output_type": "stream",
     "text": [
      "Locally available Ollama models:\n",
      "models=[Model(model='llama3.1:latest', modified_at=datetime.datetime(2025, 7, 22, 16, 29, 12, 748502, tzinfo=TzInfo(+02:00)), digest='46e0c10c039e019119339687c3c1757cc81b9da49709a3b3924863ba87ca666e', size=4920753328, details=ModelDetails(parent_model='', format='gguf', family='llama', families=['llama'], parameter_size='8.0B', quantization_level='Q4_K_M')), Model(model='deepseek-r1:latest', modified_at=datetime.datetime(2025, 7, 22, 14, 42, 30, 846205, tzinfo=TzInfo(+02:00)), digest='6995872bfe4c521a67b32da386cd21d5c6e819b6e0d62f79f64ec83be99f5763', size=5225376047, details=ModelDetails(parent_model='', format='gguf', family='qwen3', families=['qwen3'], parameter_size='8.2B', quantization_level='Q4_K_M'))]\n"
     ]
    }
   ],
   "source": [
    "print(\"Locally available Ollama models:\")\n",
    "print(ollama.list())"
   ]
  },
  {
   "cell_type": "code",
   "execution_count": 81,
   "id": "02a081e1",
   "metadata": {},
   "outputs": [
    {
     "name": "stdout",
     "output_type": "stream",
     "text": [
      "\n",
      "Model Response:\n",
      "**Prompt for Variable Scope**\n",
      "\n",
      "Here's the adapted prompt for variable scope:\n",
      "\n",
      "Given a tweet, classify whether one or more scopes are presented in the tweet.\n",
      "\n",
      "Note that:\n",
      "*   Only explicit mentions of relevance or impact on individuals, companies, regions, or countries are considered.\n",
      "*   Do not infer, imply, or assume scope if not explicitly stated.\n",
      "*   Do not introduce information that is not present in the text.\n",
      "\n",
      "Definition:\n",
      "Scope: Explicit references to the number of people, organizations, or regions involved or affected. This includes literal numbers mentioned with a verifiable source (e.g., “thousands of people”) as well as figurative speeches of a group of people or company (e.g., “all Netflix-viewers”, “Every woman living in Germany”, etc.).\n",
      "\n",
      "Examples:\n",
      "\n",
      "a) were calling for food justice in black communities and a hungerfree world for all we worked with wfpusa to suppo this united nations wfp amp samexhibition zero hunger mural by victor ash learn about our other food justice work at bhem\n",
      "Answer: 1 - scope is present.\n",
      "Reasoning: The tweet explicitly mentioned \"black communities\" as a figurative scope.\n",
      "\n",
      "b) why the netflix hit squid game is resonating around the world\n",
      "Answer: 1 - scope is present.\n",
      "Reasoning: The tweet explicitly mentioned \"around the world\" as a figurative scope.\n",
      "\n",
      "c) a recent survey by the brennan center for justice found 1 in 3 election officials nationwide feels unsafe at work nearly 1 in 5 called threats to their lives a jobrelated concern\n",
      "Answer: 1 - scope is present.\n",
      "Reasoning: The tweet explicitly mentioned \"1 in 3 election officials nationwide\" and \"1 in 5\", showing scope with literal numbers.\n",
      "\n",
      "d) learn about two different withdrawal strategies that can be used to efficiently manage your taxes in retirement\n",
      "Answer: 0 - scope is not present.\n",
      "Reasoning: No explicit mention of scope.\n",
      "\n",
      "THE ONLY OUTPUT should be a JSON object with two keys:\n",
      "1. `classification`: an integer (0 or 1) representing the classification result.\n",
      "2. `cot`: a string containing the brief chain of thought/reasoning for the classification.\n",
      "\n",
      "Do NOT include any other text, explanations, or Markdown code block fences (like ``json or ```) in your response. Output ONLY the JSON object.\n",
      "\n",
      "Input tweet:\n",
      "'{tweet_text}'\n",
      "\n",
      "**Chain of Thought**\n",
      "\n",
      "I adapted the original prompt by changing the definition and examples to focus on scope instead of positive consequences. I also updated the note section to reflect the new definition and added more specific guidance on what constitutes a scope. The rest of the prompt remains similar, with only minor adjustments for the change in topic.\n"
     ]
    }
   ],
   "source": [
    "messages = [\n",
    "    {'role': 'user', 'content': \"\"\"You are a highly precise prompt engineer. Trying to automatize part of the manual coding.\n",
    "    Your goal is to generate a prompt that instructs an LLM to classify tweets.\n",
    "    Below is a prompt you wrote for the varialbe positive consequences. Now you need to adapt this prompt for the variable scope.\n",
    "    \n",
    "     Prompt:   \n",
    "        Given a tweet, classify whether one or more positive consequences are presented in the tweet.\n",
    "\n",
    "        Note that:\n",
    "        *   Only explicit mentions of outcomes or events that have a beneficial effect or gain are considered.\n",
    "        *   Do not classify positive consequences based solely on positive words or general sentiment: E.g., \"happy birthday,\" \"wish you a great day.\" These are not positive consequences.\n",
    "        *   Do not infer, imply, or assume consequence if not explicitly stated.\n",
    "        *   Do not introduce information that is not present in the text.\n",
    "\n",
    "        Definition:\n",
    "        Positive Consequences: Mentions of favorable outcomes for one or more actors. E.g., Corporate success, consumer's needs are fulfilled, someone has won an award.\n",
    "\n",
    "        Examples:\n",
    "\n",
    "        a) by building underground transmissions we are building a system that promotes clean and reliable energy learn more about this project in the latest episode of our plugged in podcast\n",
    "        Answer: 1 - positive consequence is present.\n",
    "        Reasoning: The tweet explicitly mentioned the system could promote clean and reliable energy, which can be seen as positive outcomes of the system.\n",
    "\n",
    "        b) learn about two different withdrawal strategies that can be used to efficiently manage your taxes in retirement\n",
    "        Answer: 1 - positive consequence is present.\n",
    "        Reasoning: The tweet explicitly mentioned the strategies that can efficiently manage taxes in retirement, showing the positive consequence of the strategy.\n",
    "\n",
    "        c) us and allied warfighters can explore multiple defensive plans in a matter of seconds with the command control battle management and communications system learn how c2bmc informs all levels of decision makers from the president to combatant commanders\n",
    "        Answer: 1 - positive consequence is present.\n",
    "        Reasoning: The tweet explicitly mentioned the system could inform decision makers in a fast and efficient way, which shows the positive outcome of the system.\n",
    "\n",
    "        d) the european central bank took a step in the federal reserve’s direction with its new inflation target of 2\n",
    "        Answer: 0 - positive consequence is not present.\n",
    "        Reasoning: No explicit mention of positive consequence.\n",
    "\n",
    "        THE ONLY OUTPUT should be a JSON object with two keys:\n",
    "        1. `classification`: an integer (0 or 1) representing the classification result.\n",
    "        2. `cot`: a string containing the brief chain of thought/reasoning for the classification.\n",
    "\n",
    "        Do NOT include any other text, explanations, or Markdown code block fences (like ```json or ```) in your response. Output ONLY the JSON object.\n",
    "\n",
    "        Input tweet:\n",
    "        '{tweet_text}'\n",
    "    \n",
    "    Here's the definiation of the variable scope: Scope refers to the number of people, organizations, or regions involved or affected. Does the tweet explicitly refer to the relevance of a topic on individuals, companies, regions, or countries?\n",
    "    Note. This includes both literal numbers mentioned with a verifiable source, e.g., “thousands of people”, or a single person or company, as well as figurative speeches of a group of people or company, such as “all Netflix-viewers”, “Every woman living in Germany”, “Germany”, or \"the whole smart phone industry\". \n",
    "    Here're the examples for few shot learning:\n",
    "        a) were calling for food justice in black communities and a hungerfree world for all we worked with wfpusa to suppo this united nations wfp amp samexhibition zero hunger mural by victor ash learn about our other food justice work at bhem\n",
    "        Answer: 1 - scope is present.\n",
    "        Reasoning: The tweet explicitly menionted \"black communities\" and \"a hungerfree world for all\" as figerative scope.\n",
    "        b) why the netflix hit squid game is resonating around the world\n",
    "        Answer: 1 - scope is present.\n",
    "        Reasoning: The tweet explicitly mentioned \"around the world\" as a figerative scope.\n",
    "        c) a recent survey by the brennan center for justice found 1 in 3 election officials nationwide feels unsafe at work nearly 1 in 5 called threats to their lives a jobrelated concern\n",
    "        Answer: 1 - scope is present.\n",
    "        Reasoning: The tweet explicitly mentioned \"1 in 3 election officials nationwide\" and \"1 in 5\", showing scope with literal numbers.\n",
    "        d) learn about two different withdrawal strategies that can be used to efficiently manage your taxes in retirement\n",
    "        Answer: 0 - scope is not present.\n",
    "        Reasoning: No explicit mention of scope. Just mentioning \"you\" without explicitly show how the person is involved or affected by anything\n",
    "        e) watch the livestream of amd’s ceo dr lisa su speak at computex2021 learn what is in store for amd this year and the future of pc ecosystems\n",
    "        Answer: 0 - scope is not present.\n",
    "        Reasoning: Although a person \"ceo dr lisa su\" is mentioned, the tweet did not explicitly show she is involved or affected by anything.\n",
    "        f) moisturize skin while you bathe skinsosoft\n",
    "        Answer: 0 - scope is not present.\n",
    "        Reasoning: No explicit mention of scope.\n",
    "    \n",
    "    Always provide your chain of thought for generating the prompts but keep it short.\n",
    "\"\"\"},\n",
    "]\n",
    "\n",
    "response = ollama.chat(model='llama3.1:latest', messages=messages)\n",
    "print(\"\\nModel Response:\")\n",
    "print(response['message']['content'])"
   ]
  },
  {
   "cell_type": "markdown",
   "id": "0145596a",
   "metadata": {},
   "source": [
    "#### Try the prompt"
   ]
  },
  {
   "cell_type": "code",
   "execution_count": 83,
   "id": "5fd494f0",
   "metadata": {},
   "outputs": [
    {
     "name": "stdout",
     "output_type": "stream",
     "text": [
      "\n",
      "Model Response (Chat):\n",
      "{\n",
      "  \"classification\": 0,\n",
      "  \"cot\": \"No explicit mention of scope. Mentioning 'our' could be seen as a figurative speech, but it doesn't explicitly show customers are involved or affected by anything.\"\n",
      "}\n"
     ]
    }
   ],
   "source": [
    "messages = [\n",
    "    {'role': 'user', 'content': \"\"\"Given a tweet, classify whether the scope of an issue or event is presented in the tweet.\n",
    "\n",
    "Note that:\n",
    "*   Only explicit mentions of relevance or impact on individuals, companies, regions, or countries are considered.\n",
    "*   Do not infer, imply, or assume scope if not explicitly stated.\n",
    "*   Do not introduce information that is not present in the text.\n",
    "\n",
    "Definition:\n",
    "Scope: Explicit references to the number of people, organizations, or regions involved or affected. This includes literal numbers mentioned with a verifiable source (e.g., “thousands of people”) as well as figurative speeches of a group of people or company (e.g., “all Netflix-viewers”, “Every woman living in Germany”, etc.).\n",
    "\n",
    "Examples:\n",
    "\n",
    "a) were calling for food justice in black communities and a hungerfree world for all we worked with wfpusa to suppo this united nations wfp amp samexhibition zero hunger mural by victor ash learn about our other food justice work at bhem\n",
    "Answer: 1 - scope is present.\n",
    "Reasoning: The tweet explicitly mentioned \"black communities\" as a figurative scope.\n",
    "\n",
    "b) why the netflix hit squid game is resonating around the world\n",
    "Answer: 1 - scope is present.\n",
    "Reasoning: The tweet explicitly mentioned \"around the world\" as a figurative scope.\n",
    "\n",
    "c) a recent survey by the brennan center for justice found 1 in 3 election officials nationwide feels unsafe at work nearly 1 in 5 called threats to their lives a jobrelated concern\n",
    "Answer: 1 - scope is present.\n",
    "Reasoning: The tweet explicitly mentioned \"1 in 3 election officials nationwide\" and \"1 in 5\", showing scope with literal numbers.\n",
    "\n",
    "d) learn about two different withdrawal strategies that can be used to efficiently manage your taxes in retirement\n",
    "Answer: 0 - scope is not present.\n",
    "Reasoning: No explicit mention of scope. Just mentioning \"you\" without explicitly show how the person is involved or affected by anything\n",
    "\n",
    "e) watch the livestream of amd’s ceo dr lisa su speak at computex2021 learn what is in store for amd this year and the future of pc ecosystems\n",
    "Answer: 0 - scope is not present.\n",
    "Reasoning: Although a person \"ceo dr lisa su\" is mentioned, the tweet did not explicitly show she is involved or affected by anything.\n",
    "\n",
    "THE ONLY OUTPUT should be a JSON object with two keys:\n",
    "1. `classification`: an integer (0 or 1) representing the classification result.\n",
    "2. `cot`: a string containing the brief chain of thought/reasoning for the classification.\n",
    "\n",
    "Do NOT include any other text, explanations, or Markdown code block fences (like ``json or ```) in your response. Output ONLY the JSON object.\n",
    "\n",
    "Input tweet:\n",
    "why are customers switching to our cloud applications stevenrmiranda discusses with leaders from kroger mdlz and ttxcompany at oraclelive\n",
    "\"\"\"},\n",
    "]\n",
    "response = ollama.chat(model='llama3.1:latest', messages=messages)\n",
    "print(\"\\nModel Response (Chat):\")\n",
    "print(response['message']['content'])"
   ]
  },
  {
   "cell_type": "code",
   "execution_count": 84,
   "id": "b6fb28c9",
   "metadata": {},
   "outputs": [
    {
     "name": "stdout",
     "output_type": "stream",
     "text": [
      "\n",
      "Model Response (Chat):\n",
      "```json\n",
      "{\n",
      "  \"classification\": 0,\n",
      "  \"cot\": \"No explicit mention of scope. The tweet only mentions 'your' without explicitly showing how the person is involved or affected by anything\"\n",
      "}\n",
      "```\n"
     ]
    }
   ],
   "source": [
    "messages = [\n",
    "    {'role': 'user', 'content': \"\"\"Given a tweet, classify whether the scope of an issue or event is presented in the tweet.\n",
    "\n",
    "Note that:\n",
    "*   Only explicit mentions of relevance or impact on individuals, companies, regions, or countries are considered.\n",
    "*   Do not infer, imply, or assume scope if not explicitly stated.\n",
    "*   Do not introduce information that is not present in the text.\n",
    "\n",
    "Definition:\n",
    "Scope: Explicit references to the number of people, organizations, or regions involved or affected. This includes literal numbers mentioned with a verifiable source (e.g., “thousands of people”) as well as figurative speeches of a group of people or company (e.g., “all Netflix-viewers”, “Every woman living in Germany”, etc.).\n",
    "\n",
    "Examples:\n",
    "\n",
    "a) were calling for food justice in black communities and a hungerfree world for all we worked with wfpusa to suppo this united nations wfp amp samexhibition zero hunger mural by victor ash learn about our other food justice work at bhem\n",
    "Answer: 1 - scope is present.\n",
    "Reasoning: The tweet explicitly mentioned \"black communities\" as a figurative scope.\n",
    "\n",
    "b) why the netflix hit squid game is resonating around the world\n",
    "Answer: 1 - scope is present.\n",
    "Reasoning: The tweet explicitly mentioned \"around the world\" as a figurative scope.\n",
    "\n",
    "c) a recent survey by the brennan center for justice found 1 in 3 election officials nationwide feels unsafe at work nearly 1 in 5 called threats to their lives a jobrelated concern\n",
    "Answer: 1 - scope is present.\n",
    "Reasoning: The tweet explicitly mentioned \"1 in 3 election officials nationwide\" and \"1 in 5\", showing scope with literal numbers.\n",
    "\n",
    "d) learn about two different withdrawal strategies that can be used to efficiently manage your taxes in retirement\n",
    "Answer: 0 - scope is not present.\n",
    "Reasoning: No explicit mention of scope. Just mentioning \"you\" without explicitly show how the person is involved or affected by anything\n",
    "\n",
    "e) watch the livestream of amd’s ceo dr lisa su speak at computex2021 learn what is in store for amd this year and the future of pc ecosystems\n",
    "Answer: 0 - scope is not present.\n",
    "Reasoning: Although a person \"ceo dr lisa su\" is mentioned, the tweet did not explicitly show she is involved or affected by anything.\n",
    "\n",
    "THE ONLY OUTPUT should be a JSON object with two keys:\n",
    "1. `classification`: an integer (0 or 1) representing the classification result.\n",
    "2. `cot`: a string containing the brief chain of thought/reasoning for the classification.\n",
    "\n",
    "Do NOT include any other text, explanations, or Markdown code block fences (like ``json or ```) in your response. Output ONLY the JSON object.\n",
    "\n",
    "Input tweet:\n",
    "the newest crop of iot devices to take up residence in your home those that put healthcare in your hands   heres why careostech fluolabsllc medwand miiskinapp cologuard\n",
    "\"\"\"},\n",
    "]\n",
    "response = ollama.chat(model='llama3.1:latest', messages=messages)\n",
    "print(\"\\nModel Response (Chat):\")\n",
    "print(response['message']['content'])"
   ]
  },
  {
   "cell_type": "code",
   "execution_count": 85,
   "id": "4a0e52db",
   "metadata": {},
   "outputs": [
    {
     "name": "stdout",
     "output_type": "stream",
     "text": [
      "\n",
      "Model Response (Chat):\n",
      "{\n",
      "  \"classification\": 1,\n",
      "  \"cot\": \"The tweet explicitly mentioned 'brazil' and implicitly, the international community which implies billions of dollars, showing scope with literal numbers.\"\n",
      "}\n"
     ]
    }
   ],
   "source": [
    "messages = [\n",
    "    {'role': 'user', 'content': \"\"\"Given a tweet, classify whether the scope of an issue or event is presented in the tweet.\n",
    "\n",
    "Note that:\n",
    "*   Only explicit mentions of relevance or impact on individuals, companies, regions, or countries are considered.\n",
    "*   Do not infer, imply, or assume scope if not explicitly stated.\n",
    "*   Do not introduce information that is not present in the text.\n",
    "\n",
    "Definition:\n",
    "Scope: Explicit references to the number of people, organizations, or regions involved or affected. This includes literal numbers mentioned with a verifiable source (e.g., “thousands of people”) as well as figurative speeches of a group of people or company (e.g., “all Netflix-viewers”, “Every woman living in Germany”, etc.).\n",
    "\n",
    "Examples:\n",
    "\n",
    "a) were calling for food justice in black communities and a hungerfree world for all we worked with wfpusa to suppo this united nations wfp amp samexhibition zero hunger mural by victor ash learn about our other food justice work at bhem\n",
    "Answer: 1 - scope is present.\n",
    "Reasoning: The tweet explicitly mentioned \"black communities\" as a figurative scope.\n",
    "\n",
    "b) why the netflix hit squid game is resonating around the world\n",
    "Answer: 1 - scope is present.\n",
    "Reasoning: The tweet explicitly mentioned \"around the world\" as a figurative scope.\n",
    "\n",
    "c) a recent survey by the brennan center for justice found 1 in 3 election officials nationwide feels unsafe at work nearly 1 in 5 called threats to their lives a jobrelated concern\n",
    "Answer: 1 - scope is present.\n",
    "Reasoning: The tweet explicitly mentioned \"1 in 3 election officials nationwide\" and \"1 in 5\", showing scope with literal numbers.\n",
    "\n",
    "d) learn about two different withdrawal strategies that can be used to efficiently manage your taxes in retirement\n",
    "Answer: 0 - scope is not present.\n",
    "Reasoning: No explicit mention of scope. Just mentioning \"you\" without explicitly show how the person is involved or affected by anything\n",
    "\n",
    "e) watch the livestream of amd’s ceo dr lisa su speak at computex2021 learn what is in store for amd this year and the future of pc ecosystems\n",
    "Answer: 0 - scope is not present.\n",
    "Reasoning: Although a person \"ceo dr lisa su\" is mentioned, the tweet did not explicitly show she is involved or affected by anything.\n",
    "\n",
    "THE ONLY OUTPUT should be a JSON object with two keys:\n",
    "1. `classification`: an integer (0 or 1) representing the classification result.\n",
    "2. `cot`: a string containing the brief chain of thought/reasoning for the classification.\n",
    "\n",
    "Do NOT include any other text, explanations, or Markdown code block fences (like ``json or ```) in your response. Output ONLY the JSON object.\n",
    "\n",
    "Input tweet:\n",
    "president jair bolsonaro of brazil wants the international community to pledge billions of dollars to pay for conservation effos but donors are skeptical under his watch deforestation in the amazon has risen to the highest level in over a decade\n",
    "\"\"\"},\n",
    "]\n",
    "response = ollama.chat(model='llama3.1:latest', messages=messages)\n",
    "print(\"\\nModel Response (Chat):\")\n",
    "print(response['message']['content'])"
   ]
  },
  {
   "cell_type": "code",
   "execution_count": 86,
   "id": "9875a536",
   "metadata": {},
   "outputs": [
    {
     "name": "stdout",
     "output_type": "stream",
     "text": [
      "\n",
      "Model Response (Chat):\n",
      "{\n",
      "  \"classification\": 1,\n",
      "  \"cot\": \"The tweet explicitly mentioned 'hundreds of netflix employees and supporters' as a literal number, showing scope.\"\n",
      "}\n"
     ]
    }
   ],
   "source": [
    "messages = [\n",
    "    {'role': 'user', 'content': \"\"\"Given a tweet, classify whether the scope of an issue or event is presented in the tweet.\n",
    "\n",
    "Note that:\n",
    "*   Only explicit mentions of relevance or impact on individuals, companies, regions, or countries are considered.\n",
    "*   Do not infer, imply, or assume scope if not explicitly stated.\n",
    "*   Do not introduce information that is not present in the text.\n",
    "\n",
    "Definition:\n",
    "Scope: Explicit references to the number of people, organizations, or regions involved or affected. This includes literal numbers mentioned with a verifiable source (e.g., “thousands of people”) as well as figurative speeches of a group of people or company (e.g., “all Netflix-viewers”, “Every woman living in Germany”, etc.).\n",
    "\n",
    "Examples:\n",
    "\n",
    "a) were calling for food justice in black communities and a hungerfree world for all we worked with wfpusa to suppo this united nations wfp amp samexhibition zero hunger mural by victor ash learn about our other food justice work at bhem\n",
    "Answer: 1 - scope is present.\n",
    "Reasoning: The tweet explicitly mentioned \"black communities\" as a figurative scope.\n",
    "\n",
    "b) why the netflix hit squid game is resonating around the world\n",
    "Answer: 1 - scope is present.\n",
    "Reasoning: The tweet explicitly mentioned \"around the world\" as a figurative scope.\n",
    "\n",
    "c) a recent survey by the brennan center for justice found 1 in 3 election officials nationwide feels unsafe at work nearly 1 in 5 called threats to their lives a jobrelated concern\n",
    "Answer: 1 - scope is present.\n",
    "Reasoning: The tweet explicitly mentioned \"1 in 3 election officials nationwide\" and \"1 in 5\", showing scope with literal numbers.\n",
    "\n",
    "d) learn about two different withdrawal strategies that can be used to efficiently manage your taxes in retirement\n",
    "Answer: 0 - scope is not present.\n",
    "Reasoning: No explicit mention of scope. Just mentioning \"you\" without explicitly show how the person is involved or affected by anything\n",
    "\n",
    "e) watch the livestream of amd’s ceo dr lisa su speak at computex2021 learn what is in store for amd this year and the future of pc ecosystems\n",
    "Answer: 0 - scope is not present.\n",
    "Reasoning: Although a person \"ceo dr lisa su\" is mentioned, the tweet did not explicitly show she is involved or affected by anything.\n",
    "\n",
    "THE ONLY OUTPUT should be a JSON object with two keys:\n",
    "1. `classification`: an integer (0 or 1) representing the classification result.\n",
    "2. `cot`: a string containing the brief chain of thought/reasoning for the classification.\n",
    "\n",
    "Do NOT include any other text, explanations, or Markdown code block fences (like ``json or ```) in your response. Output ONLY the JSON object.\n",
    "\n",
    "Input tweet:\n",
    "hundreds of netflix employees and suppoers are expected to take pa in a demonstration on wednesday to protest the streaming giants handling of the controversy surrounding dave chappelles recent comedy special the closer\n",
    "\"\"\"},\n",
    "]\n",
    "response = ollama.chat(model='llama3.1:latest', messages=messages)\n",
    "print(\"\\nModel Response (Chat):\")\n",
    "print(response['message']['content'])"
   ]
  },
  {
   "cell_type": "markdown",
   "id": "b33dd647",
   "metadata": {},
   "source": [
    "#### Validate the performance"
   ]
  },
  {
   "cell_type": "code",
   "execution_count": 87,
   "id": "85318dbd",
   "metadata": {},
   "outputs": [],
   "source": [
    "from ollama_classification import classify_tweet_with_ollama"
   ]
  },
  {
   "cell_type": "code",
   "execution_count": 107,
   "id": "fcb8b402",
   "metadata": {},
   "outputs": [],
   "source": [
    "MESSAGE = \"\"\"Given a tweet, classify whether the scope of an issue or event is presented in the tweet.\n",
    "\n",
    "Note that:\n",
    "*   Only explicit mentions of relevance or impact on individuals, companies, regions, or countries are considered. The time range of an issue or event, e.g., \"the future of\", \"the month of\", \"a week\", are not scope.\n",
    "*   Do not infer, imply, or assume scope if not explicitly stated.\n",
    "*   Do not introduce information that is not present in the text.\n",
    "\n",
    "Definition:\n",
    "Scope: Explicit references to the number of people, organizations, or regions involved or affected. This includes literal numbers mentioned with a verifiable source (e.g., “thousands of people”) as well as figurative speeches of a group of people or company (e.g., “all Netflix-viewers”, “Every woman living in Germany”, etc.).\n",
    "\n",
    "Examples:\n",
    "\n",
    "a) were calling for food justice in black communities and a hungerfree world for all we worked with wfpusa to suppo this united nations wfp amp samexhibition zero hunger mural by victor ash learn about our other food justice work at bhem\n",
    "Answer: 1 - scope is present.\n",
    "Reasoning: The tweet explicitly mentioned \"black communities\" as a figurative scope of the food justice issue.\n",
    "\n",
    "b) why the netflix hit squid game is resonating around the world\n",
    "Answer: 1 - scope is present.\n",
    "Reasoning: The tweet explicitly mentioned \"resonating around the world\" as a figurative scope of squid game.\n",
    "\n",
    "c) a recent survey by the brennan center for justice found 1 in 3 election officials nationwide feels unsafe at work nearly 1 in 5 called threats to their lives a jobrelated concern\n",
    "Answer: 1 - scope is present.\n",
    "Reasoning: The tweet explicitly mentioned \"1 in 3 election officials nationwide\" and \"1 in 5\", showing scope with literal numbers.\n",
    "\n",
    "d) learn about two different withdrawal strategies that can be used to efficiently manage your taxes in retirement\n",
    "Answer: 0 - scope is not present.\n",
    "Reasoning: No explicit mention of scope. Just mentioning \"you\" without explicitly show how the person is involved or affected by anything\n",
    "\n",
    "e) watch the livestream of amd’s ceo dr lisa su speak at computex2021 learn what is in store for amd this year and the future of pc ecosystems\n",
    "Answer: 0 - scope is not present.\n",
    "Reasoning: Although a person \"ceo dr lisa su\" is mentioned, the tweet did not explicitly show she is involved or affected by anything.\n",
    "\n",
    "THE ONLY OUTPUT should be a JSON object with two keys:\n",
    "1. `classification`: an integer (0 or 1) representing the classification result.\n",
    "2. `cot`: a string containing the brief chain of thought/reasoning for the classification.\n",
    "\n",
    "Do NOT include any other text, explanations, or Markdown code block fences (like ```json or ```) in your response. Output ONLY the JSON object.\n",
    "\n",
    "Input tweet:\n",
    "'{tweet_text}'\n",
    "\"\"\""
   ]
  },
  {
   "cell_type": "code",
   "execution_count": 113,
   "id": "6775a867",
   "metadata": {},
   "outputs": [],
   "source": [
    "val = pd.read_csv(\"val.csv\")\n",
    "val.drop(labels = [\"Unnamed: 0\"], axis = 1, inplace = True)"
   ]
  },
  {
   "cell_type": "code",
   "execution_count": 109,
   "id": "23b1ac1f",
   "metadata": {},
   "outputs": [
    {
     "name": "stderr",
     "output_type": "stream",
     "text": [
      "Classifying Tweets: 100%|██████████| 81/81 [03:49<00:00,  2.83s/it]\n"
     ]
    }
   ],
   "source": [
    "llm_results = []\n",
    "llm_cots = []\n",
    "\n",
    "for index, row in tqdm(val.iterrows(), total=len(val), desc=\"Classifying Tweets\"):\n",
    "    tweet = row['rep_doc']\n",
    "    llm_classification, llm_cot = classify_tweet_with_ollama(text=tweet, model=\"llama3.1\", message=MESSAGE)\n",
    "    llm_results.append(llm_classification)\n",
    "    llm_cots.append(llm_cot)\n",
    "\n",
    "val['scope_llm1'] = llm_results\n",
    "val['scope_llm_cot1'] = llm_cots"
   ]
  },
  {
   "cell_type": "code",
   "execution_count": 116,
   "id": "ccf7e128",
   "metadata": {},
   "outputs": [
    {
     "name": "stderr",
     "output_type": "stream",
     "text": [
      "Classifying Tweets: 100%|██████████| 81/81 [03:46<00:00,  2.80s/it]\n"
     ]
    }
   ],
   "source": [
    "llm_results = []\n",
    "llm_cots = []\n",
    "\n",
    "for index, row in tqdm(val.iterrows(), total=len(val), desc=\"Classifying Tweets\"):\n",
    "    tweet = row['rep_doc']\n",
    "    llm_classification, llm_cot = classify_tweet_with_ollama(text=tweet, model=\"llama3.1\", message=MESSAGE)\n",
    "    llm_results.append(llm_classification)\n",
    "    llm_cots.append(llm_cot)\n",
    "\n",
    "val['scope_llm2'] = llm_results\n",
    "val['scope_llm_cot2'] = llm_cots"
   ]
  },
  {
   "cell_type": "code",
   "execution_count": 117,
   "id": "29af78b2",
   "metadata": {},
   "outputs": [
    {
     "data": {
      "text/plain": [
       "scope_llm1  scope_llm2\n",
       "0           0             51\n",
       "1           1             30\n",
       "Name: topic, dtype: int64"
      ]
     },
     "execution_count": 117,
     "metadata": {},
     "output_type": "execute_result"
    }
   ],
   "source": [
    "val.groupby(['scope_llm1','scope_llm2'])['topic'].count()"
   ]
  },
  {
   "cell_type": "code",
   "execution_count": 118,
   "id": "2a0fff65",
   "metadata": {},
   "outputs": [
    {
     "data": {
      "text/plain": [
       "np.float64(1.0)"
      ]
     },
     "execution_count": 118,
     "metadata": {},
     "output_type": "execute_result"
    }
   ],
   "source": [
    "krippendorff.alpha((val['scope_llm1'].values.tolist(), \n",
    "                    val['scope_llm2'].values.tolist()), level_of_measurement=\"nominal\")"
   ]
  },
  {
   "cell_type": "code",
   "execution_count": 119,
   "id": "263ea472",
   "metadata": {},
   "outputs": [
    {
     "data": {
      "text/plain": [
       "scope  scope_llm1\n",
       "0      0             45\n",
       "       1              4\n",
       "1      0              6\n",
       "       1             26\n",
       "Name: topic, dtype: int64"
      ]
     },
     "execution_count": 119,
     "metadata": {},
     "output_type": "execute_result"
    }
   ],
   "source": [
    "val.groupby(['scope','scope_llm1'])['topic'].count()"
   ]
  },
  {
   "cell_type": "code",
   "execution_count": 120,
   "id": "fc6883ae",
   "metadata": {},
   "outputs": [
    {
     "name": "stdout",
     "output_type": "stream",
     "text": [
      "Precision: 0.87\n",
      "Recall: 0.81\n",
      "F1-score: 0.84\n"
     ]
    }
   ],
   "source": [
    "precision = precision_score(val['scope'], val['scope_llm1'])\n",
    "recall = recall_score(val['scope'], val['scope_llm1'])\n",
    "f1 = f1_score(val['scope'], val['scope_llm1'])\n",
    "\n",
    "# Print individual scores\n",
    "print(f'Precision: {precision:.2f}')\n",
    "print(f'Recall: {recall:.2f}')\n",
    "print(f'F1-score: {f1:.2f}')"
   ]
  },
  {
   "cell_type": "code",
   "execution_count": 121,
   "id": "dfdff66b",
   "metadata": {},
   "outputs": [],
   "source": [
    "val.to_csv('val.csv')"
   ]
  },
  {
   "cell_type": "markdown",
   "id": "3208a562",
   "metadata": {},
   "source": [
    "#### Test the final prompt"
   ]
  },
  {
   "cell_type": "code",
   "execution_count": null,
   "id": "818e9434",
   "metadata": {},
   "outputs": [],
   "source": [
    "MESSAGE = \"\"\"Given a tweet, classify whether the scope of an issue or event is presented in the tweet.\n",
    "\n",
    "Note that:\n",
    "*   Only explicit mentions of relevance or impact on individuals, companies, regions, or countries are considered. The time range of an issue or event, e.g., \"the future of\", \"the month of\", \"a week\", are not scope.\n",
    "*   Do not infer, imply, or assume scope if not explicitly stated.\n",
    "*   Do not introduce information that is not present in the text.\n",
    "\n",
    "Definition:\n",
    "Scope: Explicit references to the number of people, organizations, or regions involved or affected. This includes literal numbers mentioned with a verifiable source (e.g., “thousands of people”) as well as figurative speeches of a group of people or company (e.g., “all Netflix-viewers”, “Every woman living in Germany”, etc.).\n",
    "\n",
    "Examples:\n",
    "\n",
    "a) were calling for food justice in black communities and a hungerfree world for all we worked with wfpusa to suppo this united nations wfp amp samexhibition zero hunger mural by victor ash learn about our other food justice work at bhem\n",
    "Answer: 1 - scope is present.\n",
    "Reasoning: The tweet explicitly mentioned \"black communities\" as a figurative scope of the food justice issue.\n",
    "\n",
    "b) why the netflix hit squid game is resonating around the world\n",
    "Answer: 1 - scope is present.\n",
    "Reasoning: The tweet explicitly mentioned \"resonating around the world\" as a figurative scope of squid game.\n",
    "\n",
    "c) a recent survey by the brennan center for justice found 1 in 3 election officials nationwide feels unsafe at work nearly 1 in 5 called threats to their lives a jobrelated concern\n",
    "Answer: 1 - scope is present.\n",
    "Reasoning: The tweet explicitly mentioned \"1 in 3 election officials nationwide\" and \"1 in 5\", showing scope with literal numbers.\n",
    "\n",
    "d) learn about two different withdrawal strategies that can be used to efficiently manage your taxes in retirement\n",
    "Answer: 0 - scope is not present.\n",
    "Reasoning: No explicit mention of scope. Just mentioning \"you\" without explicitly show how the person is involved or affected by anything\n",
    "\n",
    "e) watch the livestream of amd’s ceo dr lisa su speak at computex2021 learn what is in store for amd this year and the future of pc ecosystems\n",
    "Answer: 0 - scope is not present.\n",
    "Reasoning: Although a person \"ceo dr lisa su\" is mentioned, the tweet did not explicitly show she is involved or affected by anything.\n",
    "\n",
    "THE ONLY OUTPUT should be a JSON object with two keys:\n",
    "1. `classification`: an integer (0 or 1) representing the classification result.\n",
    "2. `cot`: a string containing the brief chain of thought/reasoning for the classification.\n",
    "\n",
    "Do NOT include any other text, explanations, or Markdown code block fences (like ```json or ```) in your response. Output ONLY the JSON object.\n",
    "\n",
    "Input tweet:\n",
    "'{tweet_text}'\n",
    "\"\"\""
   ]
  },
  {
   "cell_type": "code",
   "execution_count": 122,
   "id": "4c3c0de7",
   "metadata": {},
   "outputs": [],
   "source": [
    "test = pd.read_csv(\"test.csv\")\n",
    "test.drop(labels = [\"Unnamed: 0\"], axis = 1, inplace = True)"
   ]
  },
  {
   "cell_type": "code",
   "execution_count": null,
   "id": "3f602b41",
   "metadata": {},
   "outputs": [],
   "source": [
    "llm_results = []\n",
    "llm_cots = []\n",
    "\n",
    "for index, row in tqdm(test.iterrows(), total=len(test), desc=\"Classifying Tweets\"):\n",
    "    tweet = row['rep_doc']\n",
    "    llm_classification, llm_cot = classify_tweet_with_ollama(text=tweet, model=\"llama3.1\", message=MESSAGE)\n",
    "    llm_results.append(llm_classification)\n",
    "    llm_cots.append(llm_cot)\n",
    "\n",
    "test['scope_llm1'] = llm_results\n",
    "test['scope_llm_cot1'] = llm_cots"
   ]
  },
  {
   "cell_type": "code",
   "execution_count": null,
   "id": "085abc49",
   "metadata": {},
   "outputs": [],
   "source": [
    "llm_results = []\n",
    "llm_cots = []\n",
    "\n",
    "for index, row in tqdm(test.iterrows(), total=len(test), desc=\"Classifying Tweets\"):\n",
    "    tweet = row['rep_doc']\n",
    "    llm_classification, llm_cot = classify_tweet_with_ollama(text=tweet, model=\"llama3.1\", message=MESSAGE)\n",
    "    llm_results.append(llm_classification)\n",
    "    llm_cots.append(llm_cot)\n",
    "\n",
    "test['scope_llm2'] = llm_results\n",
    "test['scope_llm_cot2'] = llm_cots"
   ]
  },
  {
   "cell_type": "code",
   "execution_count": 123,
   "id": "1413ad5d",
   "metadata": {},
   "outputs": [
    {
     "data": {
      "text/plain": [
       "scope_llm1  scope_llm2\n",
       "0           0             235\n",
       "1           1             164\n",
       "Name: topic, dtype: int64"
      ]
     },
     "execution_count": 123,
     "metadata": {},
     "output_type": "execute_result"
    }
   ],
   "source": [
    "test.groupby(['scope_llm1','scope_llm2'])['topic'].count()"
   ]
  },
  {
   "cell_type": "code",
   "execution_count": 124,
   "id": "549416e6",
   "metadata": {},
   "outputs": [
    {
     "data": {
      "text/plain": [
       "np.float64(1.0)"
      ]
     },
     "execution_count": 124,
     "metadata": {},
     "output_type": "execute_result"
    }
   ],
   "source": [
    "krippendorff.alpha((test['scope_llm1'].values.tolist(), \n",
    "                    test['scope_llm2'].values.tolist()), level_of_measurement=\"nominal\")"
   ]
  },
  {
   "cell_type": "code",
   "execution_count": 125,
   "id": "7fe62438",
   "metadata": {},
   "outputs": [
    {
     "data": {
      "text/plain": [
       "scope  scope_llm1\n",
       "0      0             220\n",
       "       1              30\n",
       "1      0              15\n",
       "       1             134\n",
       "Name: topic, dtype: int64"
      ]
     },
     "execution_count": 125,
     "metadata": {},
     "output_type": "execute_result"
    }
   ],
   "source": [
    "test.groupby(['scope','scope_llm1'])['topic'].count()"
   ]
  },
  {
   "cell_type": "code",
   "execution_count": 126,
   "id": "1eb7cdf9",
   "metadata": {},
   "outputs": [
    {
     "name": "stdout",
     "output_type": "stream",
     "text": [
      "Precision: 0.82\n",
      "Recall: 0.90\n",
      "F1-score: 0.86\n"
     ]
    }
   ],
   "source": [
    "precision = precision_score(test['scope'], test['scope_llm1'])\n",
    "recall = recall_score(test['scope'], test['scope_llm1'])\n",
    "f1 = f1_score(test['scope'], test['scope_llm1'])\n",
    "\n",
    "# Print individual scores\n",
    "print(f'Precision: {precision:.2f}')\n",
    "print(f'Recall: {recall:.2f}')\n",
    "print(f'F1-score: {f1:.2f}')"
   ]
  },
  {
   "cell_type": "code",
   "execution_count": null,
   "id": "e6a64e41",
   "metadata": {},
   "outputs": [],
   "source": [
    "test.to_csv('test.csv')"
   ]
  },
  {
   "cell_type": "markdown",
   "id": "b2cba2cc",
   "metadata": {},
   "source": [
    "#### Make predictions for the full dataset"
   ]
  },
  {
   "cell_type": "code",
   "execution_count": 127,
   "id": "1eb4d2a7",
   "metadata": {},
   "outputs": [],
   "source": [
    "nf = pd.read_csv(\"newsfactor.csv\")\n",
    "nf.drop(labels = [\"Unnamed: 0\"], axis = 1, inplace = True)"
   ]
  },
  {
   "cell_type": "code",
   "execution_count": 128,
   "id": "2f257825",
   "metadata": {},
   "outputs": [],
   "source": [
    "MESSAGE = \"\"\"Given a tweet, classify whether the scope of an issue or event is presented in the tweet.\n",
    "\n",
    "Note that:\n",
    "*   Only explicit mentions of relevance or impact on individuals, companies, regions, or countries are considered. The time range of an issue or event, e.g., \"the future of\", \"the month of\", \"a week\", are not scope.\n",
    "*   Do not infer, imply, or assume scope if not explicitly stated.\n",
    "*   Do not introduce information that is not present in the text.\n",
    "\n",
    "Definition:\n",
    "Scope: Explicit references to the number of people, organizations, or regions involved or affected. This includes literal numbers mentioned with a verifiable source (e.g., “thousands of people”) as well as figurative speeches of a group of people or company (e.g., “all Netflix-viewers”, “Every woman living in Germany”, etc.).\n",
    "\n",
    "Examples:\n",
    "\n",
    "a) were calling for food justice in black communities and a hungerfree world for all we worked with wfpusa to suppo this united nations wfp amp samexhibition zero hunger mural by victor ash learn about our other food justice work at bhem\n",
    "Answer: 1 - scope is present.\n",
    "Reasoning: The tweet explicitly mentioned \"black communities\" as a figurative scope of the food justice issue.\n",
    "\n",
    "b) why the netflix hit squid game is resonating around the world\n",
    "Answer: 1 - scope is present.\n",
    "Reasoning: The tweet explicitly mentioned \"resonating around the world\" as a figurative scope of squid game.\n",
    "\n",
    "c) a recent survey by the brennan center for justice found 1 in 3 election officials nationwide feels unsafe at work nearly 1 in 5 called threats to their lives a jobrelated concern\n",
    "Answer: 1 - scope is present.\n",
    "Reasoning: The tweet explicitly mentioned \"1 in 3 election officials nationwide\" and \"1 in 5\", showing scope with literal numbers.\n",
    "\n",
    "d) learn about two different withdrawal strategies that can be used to efficiently manage your taxes in retirement\n",
    "Answer: 0 - scope is not present.\n",
    "Reasoning: No explicit mention of scope. Just mentioning \"you\" without explicitly show how the person is involved or affected by anything\n",
    "\n",
    "e) watch the livestream of amd’s ceo dr lisa su speak at computex2021 learn what is in store for amd this year and the future of pc ecosystems\n",
    "Answer: 0 - scope is not present.\n",
    "Reasoning: Although a person \"ceo dr lisa su\" is mentioned, the tweet did not explicitly show she is involved or affected by anything.\n",
    "\n",
    "THE ONLY OUTPUT should be a JSON object with two keys:\n",
    "1. `classification`: an integer (0 or 1) representing the classification result.\n",
    "2. `cot`: a string containing the brief chain of thought/reasoning for the classification.\n",
    "\n",
    "Do NOT include any other text, explanations, or Markdown code block fences (like ```json or ```) in your response. Output ONLY the JSON object.\n",
    "\n",
    "Input tweet:\n",
    "'{tweet_text}'\n",
    "\"\"\""
   ]
  },
  {
   "cell_type": "code",
   "execution_count": 129,
   "id": "5a7334d2",
   "metadata": {},
   "outputs": [
    {
     "name": "stderr",
     "output_type": "stream",
     "text": [
      "Classifying Tweets:  24%|██▍       | 2334/9610 [1:48:47<6:17:50,  3.12s/it]"
     ]
    },
    {
     "name": "stdout",
     "output_type": "stream",
     "text": [
      "Warning: JSON parsing/conversion error for tweet: nasa has pushed a planned moon return to 2025 the ... Error: Expecting ',' delimiter: line 3 column 50 (char 76)\n",
      "LLM raw output: {\n",
      "    \"classification\": 1,\n",
      "    \"cot\": \"The tweet explicitly mentioned 'the \"trump administration tar...\n"
     ]
    },
    {
     "name": "stderr",
     "output_type": "stream",
     "text": [
      "Classifying Tweets:  72%|███████▏  | 6933/9610 [5:23:24<2:00:21,  2.70s/it]"
     ]
    },
    {
     "name": "stdout",
     "output_type": "stream",
     "text": [
      "Warning: JSON parsing/conversion error for tweet: govlaurakelly kansas’ meatpacking workers kept our... Error: Invalid \\escape: line 3 column 49 (char 73)\n",
      "LLM raw output: {\n",
      "  \"classification\": 1,\n",
      "  \"cot\": \"The tweet explicitly mentioned 'Kansas\\' meatpacking workers', sh...\n"
     ]
    },
    {
     "name": "stderr",
     "output_type": "stream",
     "text": [
      "Classifying Tweets: 100%|██████████| 9610/9610 [7:26:43<00:00,  2.79s/it]  \n"
     ]
    }
   ],
   "source": [
    "llm_results = []\n",
    "llm_cots = []\n",
    "\n",
    "for index, row in tqdm(nf.iterrows(), total=len(nf), desc=\"Classifying Tweets\"):\n",
    "    tweet = row['text_clean']\n",
    "    llm_classification, llm_cot = classify_tweet_with_ollama(text=tweet, model=\"llama3.1\", message=MESSAGE)\n",
    "    llm_results.append(llm_classification)\n",
    "    llm_cots.append(llm_cot)\n",
    "\n",
    "nf['scope_llm'] = llm_results\n",
    "nf['scope_llm_cot'] = llm_cots"
   ]
  },
  {
   "cell_type": "code",
   "execution_count": 130,
   "id": "b302571e",
   "metadata": {},
   "outputs": [],
   "source": [
    "nf.to_csv('newsfactor.csv')"
   ]
  },
  {
   "cell_type": "markdown",
   "id": "43566eb3",
   "metadata": {},
   "source": [
    "### Controversy"
   ]
  },
  {
   "cell_type": "markdown",
   "id": "73c19024",
   "metadata": {},
   "source": [
    "#### Prompt instruction model"
   ]
  },
  {
   "cell_type": "code",
   "execution_count": 3,
   "id": "8898d6ad",
   "metadata": {},
   "outputs": [
    {
     "name": "stdout",
     "output_type": "stream",
     "text": [
      "Locally available Ollama models:\n",
      "models=[Model(model='llama3.1:latest', modified_at=datetime.datetime(2025, 7, 22, 16, 29, 12, 748502, tzinfo=TzInfo(+02:00)), digest='46e0c10c039e019119339687c3c1757cc81b9da49709a3b3924863ba87ca666e', size=4920753328, details=ModelDetails(parent_model='', format='gguf', family='llama', families=['llama'], parameter_size='8.0B', quantization_level='Q4_K_M')), Model(model='deepseek-r1:latest', modified_at=datetime.datetime(2025, 7, 22, 14, 42, 30, 846205, tzinfo=TzInfo(+02:00)), digest='6995872bfe4c521a67b32da386cd21d5c6e819b6e0d62f79f64ec83be99f5763', size=5225376047, details=ModelDetails(parent_model='', format='gguf', family='qwen3', families=['qwen3'], parameter_size='8.2B', quantization_level='Q4_K_M'))]\n"
     ]
    }
   ],
   "source": [
    "print(\"Locally available Ollama models:\")\n",
    "print(ollama.list())"
   ]
  },
  {
   "cell_type": "code",
   "execution_count": 4,
   "id": "91b65626",
   "metadata": {},
   "outputs": [
    {
     "name": "stdout",
     "output_type": "stream",
     "text": [
      "\n",
      "Model Response:\n",
      "Here's the adapted prompt for the variable \"controversy\":\n",
      "\n",
      "```\n",
      "Given a tweet, classify whether the controversy of an issue or event is presented in the tweet.\n",
      "\n",
      "Note that:\n",
      "*   Only explicit mentions of opposing opinions, debates, or disputes are considered. E.g., a debate about a lawsuit, disagreement with a policy.\n",
      "*   Do not infer, imply, or assume controversy if not explicitly stated.\n",
      "*   Do not introduce information that is not present in the text.\n",
      "\n",
      "Definition:\n",
      "Controversy: Explicit presentation of opposing opinions, debates, or disputes. E.g., a debate about a lawsuit, disagreement with a policy.\n",
      "\n",
      "Examples:\n",
      "\n",
      "a) president jair bolsonaro of brazil wants the international community to pledge billions of dollars to pay for conservation efforts but donors are skeptical under his watch deforestation in the amazon has risen to the highest level in over a decade\n",
      "Answer: 1 - controversy is present.\n",
      "Reasoning: The tweet explicitly mentioned opposing opinions between the president's request and the donors' skepticism.\n",
      "\n",
      "b) hundreds of netflix employees and supporters are expected to take part in a demonstration on wednesday to protest the streaming giant's handling of the controversy surrounding dave chappelle's recent comedy special\n",
      "Answer: 1 - controversy is present.\n",
      "Reasoning: The tweet explicitly mentioned opposing opinions between Netflix and its employees/ supporters.\n",
      "\n",
      "c) the online trading app robinhood promised to wrest the stock market away from wall street’s gatekeepers — making it as easy to put millions at risk as it is to summon an uber it turns out robinhood was at the mercy of the industry it had vowed to upend\n",
      "Answer: 1 - controversy is present.\n",
      "Reasoning: The tweet highlights opposing opinions between Robinhood's mission and reality.\n",
      "\n",
      "d) learn about two different withdrawal strategies that can be used to efficiently manage your taxes in retirement\n",
      "Answer: 0 - controversy is not present.\n",
      "Reasoning: No explicit mention of opposing opinions and disputes.\n",
      "\n",
      "THE ONLY OUTPUT should be a JSON object with two keys:\n",
      "1. `classification`: an integer (0 or 1) representing the classification result.\n",
      "2. `cot`: a string containing the brief chain of thought/reasoning for the classification.\n",
      "\n",
      "Input tweet:\n",
      "'{tweet_text}'\n",
      "```\n",
      "\n",
      "**Chain of Thought:**\n",
      "\n",
      "*   Modified the prompt's title and note to focus on \"controversy\" instead of \"scope\".\n",
      "*   Updated the definition to reflect the new variable.\n",
      "*   Changed the examples to demonstrate explicit presentation of opposing opinions, debates, or disputes.\n",
      "*   Retained the rest of the structure and formatting from the original prompt.\n"
     ]
    }
   ],
   "source": [
    "messages = [\n",
    "    {'role': 'user', 'content': \"\"\"You are a highly precise prompt engineer. Trying to automatize part of the manual coding.\n",
    "    Your goal is to generate a prompt that instructs an LLM to classify tweets.\n",
    "    Below is a prompt you wrote for the varialbe scope. Now you need to adapt this prompt for the variable controversy.\n",
    "    \n",
    "     Prompt:   \n",
    "        Given a tweet, classify whether the scope of an issue or event is presented in the tweet.\n",
    "\n",
    "        Note that:\n",
    "        *   Only explicit mentions of relevance or impact on individuals, companies, regions, or countries are considered. The time range of an issue or event, e.g., \"the future of\", \"the month of\", \"a week\", are not scope.\n",
    "        *   Do not infer, imply, or assume scope if not explicitly stated.\n",
    "        *   Do not introduce information that is not present in the text.\n",
    "\n",
    "        Definition:\n",
    "        Scope: Explicit references to the number of people, organizations, or regions involved or affected. This includes literal numbers mentioned with a verifiable source (e.g., “thousands of people”) as well as figurative speeches of a group of people or company (e.g., “all Netflix-viewers”, “Every woman living in Germany”, etc.).\n",
    "\n",
    "        Examples:\n",
    "\n",
    "        a) were calling for food justice in black communities and a hungerfree world for all we worked with wfpusa to suppo this united nations wfp amp samexhibition zero hunger mural by victor ash learn about our other food justice work at bhem\n",
    "        Answer: 1 - scope is present.\n",
    "        Reasoning: The tweet explicitly mentioned \"black communities\" as a figurative scope of the food justice issue.\n",
    "\n",
    "        b) why the netflix hit squid game is resonating around the world\n",
    "        Answer: 1 - scope is present.\n",
    "        Reasoning: The tweet explicitly mentioned \"resonating around the world\" as a figurative scope of squid game.\n",
    "\n",
    "        c) a recent survey by the brennan center for justice found 1 in 3 election officials nationwide feels unsafe at work nearly 1 in 5 called threats to their lives a jobrelated concern\n",
    "        Answer: 1 - scope is present.\n",
    "        Reasoning: The tweet explicitly mentioned \"1 in 3 election officials nationwide\" and \"1 in 5\", showing scope with literal numbers.\n",
    "\n",
    "        d) learn about two different withdrawal strategies that can be used to efficiently manage your taxes in retirement\n",
    "        Answer: 0 - scope is not present.\n",
    "        Reasoning: No explicit mention of scope. Just mentioning \"you\" without explicitly show how the person is involved or affected by anything\n",
    "\n",
    "        e) watch the livestream of amd’s ceo dr lisa su speak at computex2021 learn what is in store for amd this year and the future of pc ecosystems\n",
    "        Answer: 0 - scope is not present.\n",
    "        Reasoning: Although a person \"ceo dr lisa su\" is mentioned, the tweet did not explicitly show she is involved or affected by anything.\n",
    "\n",
    "        THE ONLY OUTPUT should be a JSON object with two keys:\n",
    "        1. `classification`: an integer (0 or 1) representing the classification result.\n",
    "        2. `cot`: a string containing the brief chain of thought/reasoning for the classification.\n",
    "\n",
    "        Do NOT include any other text, explanations, or Markdown code block fences (like ```json or ```) in your response. Output ONLY the JSON object.\n",
    "\n",
    "        Input tweet:\n",
    "        '{tweet_text}'\n",
    "    \n",
    "    Here's the definiation of the variable controversy: Controversy refers to the explicit presentation of opposing opinions, debates, or disputes. E.g., a debate about a lawsuit, disagreement with a policy.\n",
    "    Note. This includes arguments, splits, strikes, fights, insurrections, and warfare. The key question to ask is: Is the focus of the story on the conflict or controversy? \n",
    "    Here're the examples for few shot learning:\n",
    "        a) president jair bolsonaro of brazil wants the international community to pledge billions of dollars to pay for conservation effos but donors are skeptical under his watch deforestation in the amazon has risen to the highest level in over a decade\n",
    "        Answer: 1 - controversy is present.\n",
    "        Reasoning: The tweet explicitly menionted the president jair bolsonaro wants the international community to pledge billions of dollars but the the donors are skeptical. These are two opposing opinions, which means controversy is present.\n",
    "        b) hundreds of netflix employees and suppoers are expected to take pa in a demonstration on wednesday to protest the streaming giants handling of the controversy surrounding dave chappelles recent comedy special the closer\n",
    "        Answer: 1 - controversy is present.\n",
    "        Reasoning: The tweet explicitly mentioned employees are suppoters are taking part in a demonstration to protest against Netflix, which clearly shows the conflict.\n",
    "        c) the online trading app robinhood promised to wrest the stock market away from wall street’s gatekeepers — making it as easy to put millions at risk as it is to summon an uber it turns out robinhood was at the mercy of the industry it had vowed to upend\n",
    "        Answer: 1 - controversy is present.\n",
    "        Reasoning: The tweet highlights Robinhood’s promise to challenge Wall Street's dominance but reveals its dependence on the very system it aimed to disrupt, clearly showing the conflict between its mission and reality.\n",
    "        d) learn about two different withdrawal strategies that can be used to efficiently manage your taxes in retirement\n",
    "        Answer: 0 - controversy is not present.\n",
    "        Reasoning: No explicit mention of opposing opinions and disputes.\n",
    "        e) hong kongs prodemocracy newspaper apple daily is shutting down after 26 years the move comes after the government froze its bank accounts and arrested several top executives including the editorinchief\n",
    "        Answer: 0 - controversy is not present.\n",
    "        Reasoning: No explicit mention of opposing opinions and disputes.\n",
    "        f) learn about two different withdrawal strategies that can be used to efficiently manage your taxes in retirement\n",
    "        Answer: 0 - controversy is not present.\n",
    "        Reasoning: No explicit mention of opposing opinions and disputes.\n",
    "    \n",
    "    Always provide your chain of thought for generating the prompts but keep it short.\n",
    "\"\"\"},\n",
    "]\n",
    "\n",
    "response = ollama.chat(model='llama3.1:latest', messages=messages)\n",
    "print(\"\\nModel Response:\")\n",
    "print(response['message']['content'])"
   ]
  },
  {
   "cell_type": "markdown",
   "id": "bd40c450",
   "metadata": {},
   "source": [
    "#### Try the prompt"
   ]
  },
  {
   "cell_type": "code",
   "execution_count": 6,
   "id": "80753b64",
   "metadata": {},
   "outputs": [
    {
     "name": "stdout",
     "output_type": "stream",
     "text": [
      "\n",
      "Model Response (Chat):\n",
      "{\n",
      "  \"classification\": 0,\n",
      "  \"cot\": \"No explicit mention of opposing opinions, debates, or disputes\"\n",
      "}\n"
     ]
    }
   ],
   "source": [
    "messages = [\n",
    "    {'role': 'user', 'content': \"\"\"Given a tweet, classify whether the controversy of an issue or event is presented in the tweet.\n",
    "\n",
    "Note that:\n",
    "*   Only explicit mentions of opposing opinions, debates, or disputes are considered. E.g., a debate about a lawsuit, disagreement with a policy.\n",
    "*   Do not infer, imply, or assume controversy if not explicitly stated.\n",
    "*   Do not introduce information that is not present in the text.\n",
    "\n",
    "Definition:\n",
    "Controversy: Explicit presentation of opposing opinions, debates, or disputes. E.g., a debate about a lawsuit, disagreement with a policy.\n",
    "\n",
    "Examples:\n",
    "a) president jair bolsonaro of brazil wants the international community to pledge billions of dollars to pay for conservation efforts but donors are skeptical under his watch deforestation in the amazon has risen to the highest level in over a decade\n",
    "Answer: 1 - controversy is present.\n",
    "Reasoning: The tweet explicitly mentioned opposing opinions between the president's request and the donors' skepticism.\n",
    "\n",
    "b) hundreds of netflix employees and supporters are expected to take part in a demonstration on wednesday to protest the streaming giant's handling of the controversy surrounding dave chappelle's recent comedy special\n",
    "Answer: 1 - controversy is present.\n",
    "Reasoning: The tweet explicitly mentioned opposing opinions between Netflix and its employees/ supporters with the demonstration and protest.\n",
    "\n",
    "c) the online trading app robinhood promised to wrest the stock market away from wall street’s gatekeepers — making it as easy to put millions at risk as it is to summon an uber it turns out robinhood was at the mercy of the industry it had vowed to upend\n",
    "Answer: 1 - controversy is present.\n",
    "Reasoning: The tweet highlights Robinhood’s promise to challenge Wall Street's dominance but reveals its dependence on the very system it aimed to disrupt, showing conflicts between Robinhood's mission and reality.\n",
    "\n",
    "d) learn about two different withdrawal strategies that can be used to efficiently manage your taxes in retirement\n",
    "Answer: 0 - controversy is not present.\n",
    "Reasoning: No explicit mention of opposing opinions and disputes.\n",
    "\n",
    "THE ONLY OUTPUT should be a JSON object with two keys:\n",
    "1. `classification`: an integer (0 or 1) representing the classification result.\n",
    "2. `cot`: a string containing the brief chain of thought/reasoning for the classification.\n",
    "\n",
    "DO NOT include any other text, explanations, or Markdown code block fences (like ```json or ```) in your response. Output ONLY the JSON object.\n",
    "\n",
    "Input tweet:\n",
    "why are customers switching to our cloud applications stevenrmiranda discusses with leaders from kroger mdlz and ttxcompany at oraclelive\n",
    "\"\"\"},\n",
    "]\n",
    "response = ollama.chat(model='llama3.1:latest', messages=messages)\n",
    "print(\"\\nModel Response (Chat):\")\n",
    "print(response['message']['content'])"
   ]
  },
  {
   "cell_type": "code",
   "execution_count": 7,
   "id": "38e44a34",
   "metadata": {},
   "outputs": [
    {
     "name": "stdout",
     "output_type": "stream",
     "text": [
      "\n",
      "Model Response (Chat):\n",
      "```json\n",
      "{\n",
      "  \"classification\": 1,\n",
      "  \"cot\": \"The tweet explicitly mentioned a disagreement between former Fed Vice Chairman Donald Kohn and the US Central Bank regarding their preparedness for faster inflation.\"\n",
      "}\n",
      "```\n"
     ]
    }
   ],
   "source": [
    "messages = [\n",
    "    {'role': 'user', 'content': \"\"\"Given a tweet, classify whether the controversy of an issue or event is presented in the tweet.\n",
    "\n",
    "Note that:\n",
    "*   Only explicit mentions of opposing opinions, debates, or disputes are considered. E.g., a debate about a lawsuit, disagreement with a policy.\n",
    "*   Do not infer, imply, or assume controversy if not explicitly stated.\n",
    "*   Do not introduce information that is not present in the text.\n",
    "\n",
    "Definition:\n",
    "Controversy: Explicit presentation of opposing opinions, debates, or disputes. E.g., a debate about a lawsuit, disagreement with a policy.\n",
    "\n",
    "Examples:\n",
    "a) president jair bolsonaro of brazil wants the international community to pledge billions of dollars to pay for conservation efforts but donors are skeptical under his watch deforestation in the amazon has risen to the highest level in over a decade\n",
    "Answer: 1 - controversy is present.\n",
    "Reasoning: The tweet explicitly mentioned opposing opinions between the president's request and the donors' skepticism.\n",
    "\n",
    "b) hundreds of netflix employees and supporters are expected to take part in a demonstration on wednesday to protest the streaming giant's handling of the controversy surrounding dave chappelle's recent comedy special\n",
    "Answer: 1 - controversy is present.\n",
    "Reasoning: The tweet explicitly mentioned opposing opinions between Netflix and its employees/ supporters with the demonstration and protest.\n",
    "\n",
    "c) the online trading app robinhood promised to wrest the stock market away from wall street’s gatekeepers — making it as easy to put millions at risk as it is to summon an uber it turns out robinhood was at the mercy of the industry it had vowed to upend\n",
    "Answer: 1 - controversy is present.\n",
    "Reasoning: The tweet highlights Robinhood’s promise to challenge Wall Street's dominance but reveals its dependence on the very system it aimed to disrupt, showing conflicts between Robinhood's mission and reality.\n",
    "\n",
    "d) learn about two different withdrawal strategies that can be used to efficiently manage your taxes in retirement\n",
    "Answer: 0 - controversy is not present.\n",
    "Reasoning: No explicit mention of opposing opinions and disputes.\n",
    "\n",
    "THE ONLY OUTPUT should be a JSON object with two keys:\n",
    "1. `classification`: an integer (0 or 1) representing the classification result.\n",
    "2. `cot`: a string containing the brief chain of thought/reasoning for the classification.\n",
    "\n",
    "Do NOT include any other text, explanations, or Markdown code block fences (like ```json or ```) in your response. Output ONLY the JSON object.\n",
    "\n",
    "Input tweet:\n",
    "former fed vice chairman donald kohn voiced concern on tuesday that the us central bank is not wellpositioned to deal with a rising threat of faster inflation\n",
    "\"\"\"},\n",
    "]\n",
    "response = ollama.chat(model='llama3.1:latest', messages=messages)\n",
    "print(\"\\nModel Response (Chat):\")\n",
    "print(response['message']['content'])"
   ]
  },
  {
   "cell_type": "markdown",
   "id": "d4cfbde5",
   "metadata": {},
   "source": [
    "#### Validate the performance"
   ]
  },
  {
   "cell_type": "code",
   "execution_count": 8,
   "id": "4cc19344",
   "metadata": {},
   "outputs": [],
   "source": [
    "from ollama_classification import classify_tweet_with_ollama"
   ]
  },
  {
   "cell_type": "code",
   "execution_count": 9,
   "id": "36904078",
   "metadata": {},
   "outputs": [],
   "source": [
    "MESSAGE = \"\"\"Given a tweet, classify whether the controversy of an issue or event is presented in the tweet.\n",
    "\n",
    "Note that:\n",
    "*   Only explicit mentions of opposing opinions, debates, or disputes are considered. E.g., a debate about a lawsuit, disagreement with a policy.\n",
    "*   Do not infer, imply, or assume controversy if not explicitly stated.\n",
    "*   Do not introduce information that is not present in the text.\n",
    "\n",
    "Definition:\n",
    "Controversy: Explicit presentation of opposing opinions, debates, or disputes. E.g., a debate about a lawsuit, disagreement with a policy.\n",
    "\n",
    "Examples:\n",
    "a) president jair bolsonaro of brazil wants the international community to pledge billions of dollars to pay for conservation efforts but donors are skeptical under his watch deforestation in the amazon has risen to the highest level in over a decade\n",
    "Answer: 1 - controversy is present.\n",
    "Reasoning: The tweet explicitly mentioned opposing opinions between the president's request and the donors' skepticism.\n",
    "\n",
    "b) hundreds of netflix employees and supporters are expected to take part in a demonstration on wednesday to protest the streaming giant's handling of the controversy surrounding dave chappelle's recent comedy special\n",
    "Answer: 1 - controversy is present.\n",
    "Reasoning: The tweet explicitly mentioned opposing opinions between Netflix and its employees/ supporters with the demonstration and protest.\n",
    "\n",
    "c) the online trading app robinhood promised to wrest the stock market away from wall street’s gatekeepers — making it as easy to put millions at risk as it is to summon an uber it turns out robinhood was at the mercy of the industry it had vowed to upend\n",
    "Answer: 1 - controversy is present.\n",
    "Reasoning: The tweet highlights Robinhood’s promise to challenge Wall Street's dominance but reveals its dependence on the very system it aimed to disrupt, showing conflicts between Robinhood's mission and reality.\n",
    "\n",
    "d) learn about two different withdrawal strategies that can be used to efficiently manage your taxes in retirement\n",
    "Answer: 0 - controversy is not present.\n",
    "Reasoning: No explicit mention of opposing opinions and disputes.\n",
    "\n",
    "THE ONLY OUTPUT should be a JSON object with two keys:\n",
    "1. `classification`: an integer (0 or 1) representing the classification result.\n",
    "2. `cot`: a string containing the brief chain of thought/reasoning for the classification.\n",
    "\n",
    "Do NOT include any other text, explanations, or Markdown code block fences (like ```json or ```) in your response. Output ONLY the JSON object.\n",
    "\n",
    "Input tweet:\n",
    "'{tweet_text}'\n",
    "\"\"\""
   ]
  },
  {
   "cell_type": "code",
   "execution_count": 15,
   "id": "634d38b9",
   "metadata": {},
   "outputs": [],
   "source": [
    "val = pd.read_csv(\"val.csv\")\n",
    "val.drop(labels = [\"Unnamed: 0\"], axis = 1, inplace = True)"
   ]
  },
  {
   "cell_type": "code",
   "execution_count": 11,
   "id": "abd8e517",
   "metadata": {},
   "outputs": [
    {
     "name": "stderr",
     "output_type": "stream",
     "text": [
      "Classifying Tweets: 100%|██████████| 81/81 [02:36<00:00,  1.93s/it]\n"
     ]
    }
   ],
   "source": [
    "llm_results = []\n",
    "llm_cots = []\n",
    "\n",
    "for index, row in tqdm(val.iterrows(), total=len(val), desc=\"Classifying Tweets\"):\n",
    "    tweet = row['rep_doc']\n",
    "    llm_classification, llm_cot = classify_tweet_with_ollama(text=tweet, model=\"llama3.1\", message=MESSAGE)\n",
    "    llm_results.append(llm_classification)\n",
    "    llm_cots.append(llm_cot)\n",
    "\n",
    "val['controversy_llm1'] = llm_results\n",
    "val['controversy_llm_cot1'] = llm_cots"
   ]
  },
  {
   "cell_type": "code",
   "execution_count": 18,
   "id": "8d7d6a3a",
   "metadata": {},
   "outputs": [
    {
     "name": "stderr",
     "output_type": "stream",
     "text": [
      "Classifying Tweets: 100%|██████████| 81/81 [02:42<00:00,  2.00s/it]\n"
     ]
    }
   ],
   "source": [
    "llm_results = []\n",
    "llm_cots = []\n",
    "\n",
    "for index, row in tqdm(val.iterrows(), total=len(val), desc=\"Classifying Tweets\"):\n",
    "    tweet = row['rep_doc']\n",
    "    llm_classification, llm_cot = classify_tweet_with_ollama(text=tweet, model=\"llama3.1\", message=MESSAGE)\n",
    "    llm_results.append(llm_classification)\n",
    "    llm_cots.append(llm_cot)\n",
    "\n",
    "val['controversy_llm2'] = llm_results\n",
    "val['controversy_llm_cot2'] = llm_cots"
   ]
  },
  {
   "cell_type": "code",
   "execution_count": 19,
   "id": "f60b42e2",
   "metadata": {},
   "outputs": [
    {
     "data": {
      "text/plain": [
       "controversy_llm1  controversy_llm2\n",
       "0                 0                   73\n",
       "1                 1                    8\n",
       "Name: topic, dtype: int64"
      ]
     },
     "execution_count": 19,
     "metadata": {},
     "output_type": "execute_result"
    }
   ],
   "source": [
    "val.groupby(['controversy_llm1','controversy_llm2'])['topic'].count()"
   ]
  },
  {
   "cell_type": "code",
   "execution_count": 20,
   "id": "2d6ba69b",
   "metadata": {},
   "outputs": [
    {
     "data": {
      "text/plain": [
       "np.float64(1.0)"
      ]
     },
     "execution_count": 20,
     "metadata": {},
     "output_type": "execute_result"
    }
   ],
   "source": [
    "krippendorff.alpha((val['controversy_llm1'].values.tolist(), \n",
    "                    val['controversy_llm2'].values.tolist()), level_of_measurement=\"nominal\")"
   ]
  },
  {
   "cell_type": "code",
   "execution_count": 21,
   "id": "3ceb85e0",
   "metadata": {},
   "outputs": [
    {
     "data": {
      "text/plain": [
       "controversy  controversy_llm1\n",
       "0            0                   72\n",
       "             1                    2\n",
       "1            0                    1\n",
       "             1                    6\n",
       "Name: topic, dtype: int64"
      ]
     },
     "execution_count": 21,
     "metadata": {},
     "output_type": "execute_result"
    }
   ],
   "source": [
    "val.groupby(['controversy','controversy_llm1'])['topic'].count()"
   ]
  },
  {
   "cell_type": "code",
   "execution_count": 22,
   "id": "ae4dffdb",
   "metadata": {},
   "outputs": [
    {
     "name": "stdout",
     "output_type": "stream",
     "text": [
      "Precision: 0.75\n",
      "Recall: 0.86\n",
      "F1-score: 0.80\n"
     ]
    }
   ],
   "source": [
    "precision = precision_score(val['controversy'], val['controversy_llm1'])\n",
    "recall = recall_score(val['controversy'], val['controversy_llm1'])\n",
    "f1 = f1_score(val['controversy'], val['controversy_llm1'])\n",
    "\n",
    "# Print individual scores\n",
    "print(f'Precision: {precision:.2f}')\n",
    "print(f'Recall: {recall:.2f}')\n",
    "print(f'F1-score: {f1:.2f}')"
   ]
  },
  {
   "cell_type": "code",
   "execution_count": 23,
   "id": "37334497",
   "metadata": {},
   "outputs": [],
   "source": [
    "val.to_csv('val.csv')"
   ]
  },
  {
   "cell_type": "markdown",
   "id": "6eb8eac6",
   "metadata": {},
   "source": [
    "#### Test the final prompt"
   ]
  },
  {
   "cell_type": "code",
   "execution_count": 24,
   "id": "257a0b6c",
   "metadata": {},
   "outputs": [],
   "source": [
    "MESSAGE = \"\"\"Given a tweet, classify whether the controversy of an issue or event is presented in the tweet.\n",
    "\n",
    "Note that:\n",
    "*   Only explicit mentions of opposing opinions, debates, or disputes are considered. E.g., a debate about a lawsuit, disagreement with a policy.\n",
    "*   Do not infer, imply, or assume controversy if not explicitly stated.\n",
    "*   Do not introduce information that is not present in the text.\n",
    "\n",
    "Definition:\n",
    "Controversy: Explicit presentation of opposing opinions, debates, or disputes. E.g., a debate about a lawsuit, disagreement with a policy.\n",
    "\n",
    "Examples:\n",
    "a) president jair bolsonaro of brazil wants the international community to pledge billions of dollars to pay for conservation efforts but donors are skeptical under his watch deforestation in the amazon has risen to the highest level in over a decade\n",
    "Answer: 1 - controversy is present.\n",
    "Reasoning: The tweet explicitly mentioned opposing opinions between the president's request and the donors' skepticism.\n",
    "\n",
    "b) hundreds of netflix employees and supporters are expected to take part in a demonstration on wednesday to protest the streaming giant's handling of the controversy surrounding dave chappelle's recent comedy special\n",
    "Answer: 1 - controversy is present.\n",
    "Reasoning: The tweet explicitly mentioned opposing opinions between Netflix and its employees/ supporters with the demonstration and protest.\n",
    "\n",
    "c) the online trading app robinhood promised to wrest the stock market away from wall street’s gatekeepers — making it as easy to put millions at risk as it is to summon an uber it turns out robinhood was at the mercy of the industry it had vowed to upend\n",
    "Answer: 1 - controversy is present.\n",
    "Reasoning: The tweet highlights Robinhood’s promise to challenge Wall Street's dominance but reveals its dependence on the very system it aimed to disrupt, showing conflicts between Robinhood's mission and reality.\n",
    "\n",
    "d) learn about two different withdrawal strategies that can be used to efficiently manage your taxes in retirement\n",
    "Answer: 0 - controversy is not present.\n",
    "Reasoning: No explicit mention of opposing opinions and disputes.\n",
    "\n",
    "THE ONLY OUTPUT should be a JSON object with two keys:\n",
    "1. `classification`: an integer (0 or 1) representing the classification result.\n",
    "2. `cot`: a string containing the brief chain of thought/reasoning for the classification.\n",
    "\n",
    "Do NOT include any other text, explanations, or Markdown code block fences (like ```json or ```) in your response. Output ONLY the JSON object.\n",
    "\n",
    "Input tweet:\n",
    "'{tweet_text}'\n",
    "\"\"\""
   ]
  },
  {
   "cell_type": "code",
   "execution_count": 25,
   "id": "70f4ae2c",
   "metadata": {},
   "outputs": [],
   "source": [
    "test = pd.read_csv(\"test.csv\")\n",
    "test.drop(labels = [\"Unnamed: 0\"], axis = 1, inplace = True)"
   ]
  },
  {
   "cell_type": "code",
   "execution_count": null,
   "id": "f8815bcc",
   "metadata": {},
   "outputs": [],
   "source": [
    "llm_results = []\n",
    "llm_cots = []\n",
    "\n",
    "for index, row in tqdm(test.iterrows(), total=len(test), desc=\"Classifying Tweets\"):\n",
    "    tweet = row['rep_doc']\n",
    "    llm_classification, llm_cot = classify_tweet_with_ollama(text=tweet, model=\"llama3.1\", message=MESSAGE)\n",
    "    llm_results.append(llm_classification)\n",
    "    llm_cots.append(llm_cot)\n",
    "\n",
    "test['controversy_llm1'] = llm_results\n",
    "test['controversy_llm_cot1'] = llm_cots"
   ]
  },
  {
   "cell_type": "code",
   "execution_count": null,
   "id": "e0494dda",
   "metadata": {},
   "outputs": [],
   "source": [
    "llm_results = []\n",
    "llm_cots = []\n",
    "\n",
    "for index, row in tqdm(test.iterrows(), total=len(test), desc=\"Classifying Tweets\"):\n",
    "    tweet = row['rep_doc']\n",
    "    llm_classification, llm_cot = classify_tweet_with_ollama(text=tweet, model=\"llama3.1\", message=MESSAGE)\n",
    "    llm_results.append(llm_classification)\n",
    "    llm_cots.append(llm_cot)\n",
    "\n",
    "test['controversy_llm2'] = llm_results\n",
    "test['controversy_llm_cot2'] = llm_cots"
   ]
  },
  {
   "cell_type": "code",
   "execution_count": 26,
   "id": "342636d1",
   "metadata": {},
   "outputs": [
    {
     "data": {
      "text/plain": [
       "controversy_llm1  controversy_llm2\n",
       "0                 0                   365\n",
       "1                 1                    34\n",
       "Name: topic, dtype: int64"
      ]
     },
     "execution_count": 26,
     "metadata": {},
     "output_type": "execute_result"
    }
   ],
   "source": [
    "test.groupby(['controversy_llm1','controversy_llm2'])['topic'].count()"
   ]
  },
  {
   "cell_type": "code",
   "execution_count": 27,
   "id": "0a44eddd",
   "metadata": {},
   "outputs": [
    {
     "data": {
      "text/plain": [
       "np.float64(1.0)"
      ]
     },
     "execution_count": 27,
     "metadata": {},
     "output_type": "execute_result"
    }
   ],
   "source": [
    "krippendorff.alpha((test['controversy_llm1'].values.tolist(), \n",
    "                    test['controversy_llm2'].values.tolist()), level_of_measurement=\"nominal\")"
   ]
  },
  {
   "cell_type": "code",
   "execution_count": 28,
   "id": "1c966933",
   "metadata": {},
   "outputs": [
    {
     "data": {
      "text/plain": [
       "controversy  controversy_llm1\n",
       "0            0                   365\n",
       "             1                    10\n",
       "1            1                    24\n",
       "Name: topic, dtype: int64"
      ]
     },
     "execution_count": 28,
     "metadata": {},
     "output_type": "execute_result"
    }
   ],
   "source": [
    "test.groupby(['controversy','controversy_llm1'])['topic'].count()"
   ]
  },
  {
   "cell_type": "code",
   "execution_count": 29,
   "id": "7272082c",
   "metadata": {},
   "outputs": [
    {
     "name": "stdout",
     "output_type": "stream",
     "text": [
      "Precision: 0.71\n",
      "Recall: 1.00\n",
      "F1-score: 0.83\n"
     ]
    }
   ],
   "source": [
    "precision = precision_score(test['controversy'], test['controversy_llm1'])\n",
    "recall = recall_score(test['controversy'], test['controversy_llm1'])\n",
    "f1 = f1_score(test['controversy'], test['controversy_llm1'])\n",
    "\n",
    "# Print individual scores\n",
    "print(f'Precision: {precision:.2f}')\n",
    "print(f'Recall: {recall:.2f}')\n",
    "print(f'F1-score: {f1:.2f}')"
   ]
  },
  {
   "cell_type": "code",
   "execution_count": 30,
   "id": "60bd0c18",
   "metadata": {},
   "outputs": [],
   "source": [
    "test.to_csv('test.csv')"
   ]
  },
  {
   "cell_type": "markdown",
   "id": "ac20f044",
   "metadata": {},
   "source": [
    "#### Make predictions for the full dataset"
   ]
  },
  {
   "cell_type": "code",
   "execution_count": 55,
   "id": "7738b036",
   "metadata": {},
   "outputs": [],
   "source": [
    "nf = pd.read_csv(\"newsfactor.csv\")\n",
    "nf.drop(labels = [\"Unnamed: 0\"], axis = 1, inplace = True)"
   ]
  },
  {
   "cell_type": "code",
   "execution_count": 56,
   "id": "6cb8d9f5",
   "metadata": {},
   "outputs": [],
   "source": [
    "MESSAGE = \"\"\"Given a tweet, classify whether the controversy of an issue or event is presented in the tweet.\n",
    "\n",
    "Note that:\n",
    "*   Only explicit mentions of opposing opinions, debates, or disputes are considered. E.g., a debate about a lawsuit, disagreement with a policy.\n",
    "*   Do not infer, imply, or assume controversy if not explicitly stated.\n",
    "*   Do not introduce information that is not present in the text.\n",
    "\n",
    "Definition:\n",
    "Controversy: Explicit presentation of opposing opinions, debates, or disputes. E.g., a debate about a lawsuit, disagreement with a policy.\n",
    "\n",
    "Examples:\n",
    "a) president jair bolsonaro of brazil wants the international community to pledge billions of dollars to pay for conservation efforts but donors are skeptical under his watch deforestation in the amazon has risen to the highest level in over a decade\n",
    "Answer: 1 - controversy is present.\n",
    "Reasoning: The tweet explicitly mentioned opposing opinions between the president's request and the donors' skepticism.\n",
    "\n",
    "b) hundreds of netflix employees and supporters are expected to take part in a demonstration on wednesday to protest the streaming giant's handling of the controversy surrounding dave chappelle's recent comedy special\n",
    "Answer: 1 - controversy is present.\n",
    "Reasoning: The tweet explicitly mentioned opposing opinions between Netflix and its employees/ supporters with the demonstration and protest.\n",
    "\n",
    "c) the online trading app robinhood promised to wrest the stock market away from wall street’s gatekeepers — making it as easy to put millions at risk as it is to summon an uber it turns out robinhood was at the mercy of the industry it had vowed to upend\n",
    "Answer: 1 - controversy is present.\n",
    "Reasoning: The tweet highlights Robinhood’s promise to challenge Wall Street's dominance but reveals its dependence on the very system it aimed to disrupt, showing conflicts between Robinhood's mission and reality.\n",
    "\n",
    "d) learn about two different withdrawal strategies that can be used to efficiently manage your taxes in retirement\n",
    "Answer: 0 - controversy is not present.\n",
    "Reasoning: No explicit mention of opposing opinions and disputes.\n",
    "\n",
    "THE ONLY OUTPUT should be a JSON object with two keys:\n",
    "1. `classification`: an integer (0 or 1) representing the classification result.\n",
    "2. `cot`: a string containing the brief chain of thought/reasoning for the classification.\n",
    "\n",
    "Do NOT include any other text, explanations, or Markdown code block fences (like ```json or ```) in your response. Output ONLY the JSON object.\n",
    "\n",
    "Input tweet:\n",
    "'{tweet_text}'\n",
    "\"\"\""
   ]
  },
  {
   "cell_type": "code",
   "execution_count": 57,
   "id": "50e8e20a",
   "metadata": {},
   "outputs": [
    {
     "name": "stderr",
     "output_type": "stream",
     "text": [
      "Classifying Tweets: 100%|██████████| 9610/9610 [4:55:42<00:00,  1.85s/it]  \n"
     ]
    }
   ],
   "source": [
    "llm_results = []\n",
    "llm_cots = []\n",
    "\n",
    "for index, row in tqdm(nf.iterrows(), total=len(nf), desc=\"Classifying Tweets\"):\n",
    "    tweet = row['text_clean']\n",
    "    llm_classification, llm_cot = classify_tweet_with_ollama(text=tweet, model=\"llama3.1\", message=MESSAGE)\n",
    "    llm_results.append(llm_classification)\n",
    "    llm_cots.append(llm_cot)\n",
    "\n",
    "nf['controversy_llm'] = llm_results\n",
    "nf['controversy_llm_cot'] = llm_cots"
   ]
  },
  {
   "cell_type": "code",
   "execution_count": 58,
   "id": "c73ed7e3",
   "metadata": {},
   "outputs": [],
   "source": [
    "nf.to_csv('newsfactor.csv')"
   ]
  },
  {
   "cell_type": "markdown",
   "id": "c087f231",
   "metadata": {},
   "source": [
    "### Surprise"
   ]
  },
  {
   "cell_type": "markdown",
   "id": "bf7a6088",
   "metadata": {},
   "source": [
    "#### Prompt instruction model"
   ]
  },
  {
   "cell_type": "code",
   "execution_count": 32,
   "id": "7eabe8b5",
   "metadata": {},
   "outputs": [
    {
     "name": "stdout",
     "output_type": "stream",
     "text": [
      "Locally available Ollama models:\n",
      "models=[Model(model='llama3.1:latest', modified_at=datetime.datetime(2025, 7, 22, 16, 29, 12, 748502, tzinfo=TzInfo(+02:00)), digest='46e0c10c039e019119339687c3c1757cc81b9da49709a3b3924863ba87ca666e', size=4920753328, details=ModelDetails(parent_model='', format='gguf', family='llama', families=['llama'], parameter_size='8.0B', quantization_level='Q4_K_M')), Model(model='deepseek-r1:latest', modified_at=datetime.datetime(2025, 7, 22, 14, 42, 30, 846205, tzinfo=TzInfo(+02:00)), digest='6995872bfe4c521a67b32da386cd21d5c6e819b6e0d62f79f64ec83be99f5763', size=5225376047, details=ModelDetails(parent_model='', format='gguf', family='qwen3', families=['qwen3'], parameter_size='8.2B', quantization_level='Q4_K_M'))]\n"
     ]
    }
   ],
   "source": [
    "print(\"Locally available Ollama models:\")\n",
    "print(ollama.list())"
   ]
  },
  {
   "cell_type": "code",
   "execution_count": null,
   "id": "a15df45b",
   "metadata": {},
   "outputs": [
    {
     "name": "stdout",
     "output_type": "stream",
     "text": [
      "\n",
      "Model Response:\n",
      "Here's the adapted prompt for the variable `surprise`:\n",
      "\n",
      "```\n",
      "Given a tweet, classify whether an issue or situation is presented in the tweet as unexpected or counters expectations.\n",
      "\n",
      "Note that:\n",
      "*   Only explicit mentions of terms like \"sudden\", \"breaking news\", \"a secret\", etc. are considered.\n",
      "*   Do not infer, imply, or assume surprise if not explicitly stated.\n",
      "*   Do not introduce information that is not present in the text.\n",
      "\n",
      "Definition:\n",
      "Surprise: Explicit references to an issue or situation being unexpected or counter to expectations. This includes literal mentions of terms like \"sudden\", \"breaking news\", etc., as well as figurative expressions revealing a surprising aspect.\n",
      "\n",
      "Examples:\n",
      "\n",
      "a) a woman turning a boeing 777 into a home has revealed the secret compament where flight attendants sleep right above passengers heads\n",
      "Answer: 1 - surprise is present.\n",
      "Reasoning: The text explicitly mentions the \"secret compartment,\" which is a hidden or unexpected feature. So surprise is present.\n",
      "\n",
      "b) texas gov abbott’s sudden decision this week to lift the mask mandate and other coronavirus restrictions has undermined the ability of private companies to enforce their own rules for protecting staffers and customers security expes say\n",
      "Answer: 1 - surprise is present.\n",
      "Reasoning: The text explicitly uses the word \"sudden\" to describe the decision as unexpected. So surprise is present.\n",
      "\n",
      "c) lighting systems have a secret super power the ability to turn sites into healthybuildings\n",
      "Answer: 1 - surprise is present.\n",
      "Reasoning: The text explicitly uses the word \"secret\" to describe the superpower of lighting systems, revealing its surprising feature. So surprise is present.\n",
      "\n",
      "d) the european central bank took a step in the federal reserve’s direction with its new inflation target of 2\n",
      "Answer: 0 - surprise is not present.\n",
      "Reasoning: No explicit mention of something unexpected or counter to expectations.\n",
      "\n",
      "THE ONLY OUTPUT should be a JSON object with two keys:\n",
      "1. `classification`: an integer (0 or 1) representing the classification result.\n",
      "2. `cot`: a string containing the brief chain of thought/reasoning for the classification.\n",
      "\n",
      "Do NOT include any other text, explanations, or Markdown code block fences in your response.\n",
      "\n",
      "Input tweet:\n",
      "'{tweet_text}'\n",
      "```\n",
      "\n",
      "Chain of thought: I adapted the original prompt by replacing the definition of \"scope\" with \"surprise\", and updating the examples to reflect the new variable. I also emphasized the importance of explicit mentions of terms like \"sudden\", \"breaking news\", etc. in determining surprise.\n"
     ]
    }
   ],
   "source": [
    "messages = [\n",
    "    {'role': 'user', 'content': \"\"\"You are a highly precise prompt engineer. Trying to automatize part of the manual coding.\n",
    "    Your goal is to generate a prompt that instructs an LLM to classify tweets.\n",
    "    Below is a prompt you wrote for the varialbe scope. Now you need to adapt this prompt for the variable surprise.\n",
    "    \n",
    "     Prompt:   \n",
    "        Given a tweet, classify whether the scope of an issue or event is presented in the tweet.\n",
    "\n",
    "        Note that:\n",
    "        *   Only explicit mentions of relevance or impact on individuals, companies, regions, or countries are considered. The time range of an issue or event, e.g., \"the future of\", \"the month of\", \"a week\", are not scope.\n",
    "        *   Do not infer, imply, or assume scope if not explicitly stated.\n",
    "        *   Do not introduce information that is not present in the text.\n",
    "\n",
    "        Definition:\n",
    "        Scope: Explicit references to the number of people, organizations, or regions involved or affected. This includes literal numbers mentioned with a verifiable source (e.g., “thousands of people”) as well as figurative speeches of a group of people or company (e.g., “all Netflix-viewers”, “Every woman living in Germany”, etc.).\n",
    "\n",
    "        Examples:\n",
    "\n",
    "        a) were calling for food justice in black communities and a hungerfree world for all we worked with wfpusa to suppo this united nations wfp amp samexhibition zero hunger mural by victor ash learn about our other food justice work at bhem\n",
    "        Answer: 1 - scope is present.\n",
    "        Reasoning: The tweet explicitly mentioned \"black communities\" as a figurative scope of the food justice issue.\n",
    "\n",
    "        b) why the netflix hit squid game is resonating around the world\n",
    "        Answer: 1 - scope is present.\n",
    "        Reasoning: The tweet explicitly mentioned \"resonating around the world\" as a figurative scope of squid game.\n",
    "\n",
    "        c) a recent survey by the brennan center for justice found 1 in 3 election officials nationwide feels unsafe at work nearly 1 in 5 called threats to their lives a jobrelated concern\n",
    "        Answer: 1 - scope is present.\n",
    "        Reasoning: The tweet explicitly mentioned \"1 in 3 election officials nationwide\" and \"1 in 5\", showing scope with literal numbers.\n",
    "\n",
    "        d) learn about two different withdrawal strategies that can be used to efficiently manage your taxes in retirement\n",
    "        Answer: 0 - scope is not present.\n",
    "        Reasoning: No explicit mention of scope. Just mentioning \"you\" without explicitly show how the person is involved or affected by anything\n",
    "\n",
    "        e) watch the livestream of amd’s ceo dr lisa su speak at computex2021 learn what is in store for amd this year and the future of pc ecosystems\n",
    "        Answer: 0 - scope is not present.\n",
    "        Reasoning: Although a person \"ceo dr lisa su\" is mentioned, the tweet did not explicitly show she is involved or affected by anything.\n",
    "\n",
    "        THE ONLY OUTPUT should be a JSON object with two keys:\n",
    "        1. `classification`: an integer (0 or 1) representing the classification result.\n",
    "        2. `cot`: a string containing the brief chain of thought/reasoning for the classification.\n",
    "\n",
    "        Do NOT include any other text, explanations, or Markdown code block fences (like ```json or ```) in your response. Output ONLY the JSON object.\n",
    "\n",
    "        Input tweet:\n",
    "        '{tweet_text}'\n",
    "    \n",
    "    Here's the definiation of the variable surprise: surprise refers an issue or situation that is unexpected or counters expectations.\n",
    "    Note. Code if the text explicitly mentions terms like “sudden”, “breaking news”, “a secret”, etc\n",
    "    Here're the examples for few shot learning:\n",
    "        a) a woman turning a boeing 777 into a home has revealed the secret compament where flight attendants sleep right above passengers heads\n",
    "        Answer: 1 - surprise is present.\n",
    "        Reasoning: The text explicitly mentions the “secret compartment,” which is a hidden or unexpected feature. So surprise is present.\n",
    "        b) texas gov abbott’s sudden decision this week to lift the mask mandate and other coronavirus restrictions has undermined the ability of private companies to enforce their own rules for protecting staffers and customers security expes say\n",
    "        Answer: 1 - surprise is present.\n",
    "        Reasoning: The text explicitly uses the word “sudden” to describe the decision as unexpected. So surprise is present.\n",
    "        c) lighting systems have a secret super power the ability to turn sites into healthybuildings\n",
    "        Answer: 1 - surprise is present.\n",
    "        Reasoning: The text explicitly uses the word “secret” to describe the superpower of lighting systems, revealing its surprising feature. So surprise is present.\n",
    "        d) the european central bank took a step in the federal reserve’s direction with its new inflation target of 2\n",
    "        Answer: 0 - surprise is not present.\n",
    "        Reasoning: No explicit mention of something unexpected or counter to expectations.\n",
    "        e) former fed vice chairman donald kohn voiced concern on tuesday that the us central bank is not wellpositioned to deal with a rising threat of faster inflation\n",
    "        Answer: 0 - surprise is not present.\n",
    "        Reasoning: No explicit mention of something unexpected or counter to expectations.\n",
    "        f) president jair bolsonaro of brazil wants the international community to pledge billions of dollars to pay for conservation effos but donors are skeptical under his watch deforestation in the amazon has risen to the highest level in over a decade\n",
    "        Answer: 0 - surprise is not present.\n",
    "        Reasoning: No explicit mention of something unexpected or counter to expectations. The situation is presented as factual rather than surprising.\n",
    "    \n",
    "    Always provide your chain of thought for generating the prompts but keep it short.\n",
    "\"\"\"},\n",
    "]\n",
    "\n",
    "response = ollama.chat(model='llama3.1:latest', messages=messages)\n",
    "print(\"\\nModel Response:\")\n",
    "print(response['message']['content'])"
   ]
  },
  {
   "cell_type": "markdown",
   "id": "705fce26",
   "metadata": {},
   "source": [
    "#### Try the prompt"
   ]
  },
  {
   "cell_type": "code",
   "execution_count": null,
   "id": "a115d7b1",
   "metadata": {},
   "outputs": [
    {
     "name": "stdout",
     "output_type": "stream",
     "text": [
      "\n",
      "Model Response (Chat):\n",
      "{\n",
      "  \"classification\": 0,\n",
      "  \"cot\": \"No explicit mention of something unexpected or counter to expectations.\"\n",
      "}\n"
     ]
    }
   ],
   "source": [
    "messages = [\n",
    "    {'role': 'user', 'content': \"\"\"Given a tweet, classify whether an issue or situation is presented in the tweet as surprising, unexpected, or counters expectations.\n",
    "\n",
    "Note that:\n",
    "*   Only explicit mentions of terms showing unexpectedness like \"sudden\", \"breaking news\", \"a secret\", etc. are considered.\n",
    "*   Do not infer, imply, or assume surprise if not explicitly stated.\n",
    "*   Do not introduce information that is not present in the text.\n",
    "\n",
    "Definition:\n",
    "Surprise: Explicit references to an issue or situation being unexpected or counter to expectations.\n",
    "\n",
    "Examples:\n",
    "a) a woman turning a boeing 777 into a home has revealed the secret compament where flight attendants sleep right above passengers heads\n",
    "Answer: 1 - surprise is present.\n",
    "Reasoning: The text explicitly mentions the \"secret compartment,\" which is a hidden or unexpected feature. So surprise is present.\n",
    "\n",
    "b) texas gov abbott’s sudden decision this week to lift the mask mandate and other coronavirus restrictions has undermined the ability of private companies to enforce their own rules for protecting staffers and customers security expes say\n",
    "Answer: 1 - surprise is present.\n",
    "Reasoning: The text explicitly uses the word \"sudden\" to describe the decision as unexpected. So surprise is present.\n",
    "\n",
    "c) lighting systems have a secret super power the ability to turn sites into healthybuildings\n",
    "Answer: 1 - surprise is present.\n",
    "Reasoning: The text explicitly uses the word \"secret\" to describe the superpower of lighting systems, revealing its surprising feature. So surprise is present.\n",
    "\n",
    "d) the european central bank took a step in the federal reserve’s direction with its new inflation target of 2\n",
    "Answer: 0 - surprise is not present.\n",
    "Reasoning: No explicit mention of something unexpected or counter to expectations.\n",
    "\n",
    "THE ONLY OUTPUT should be a JSON object with two keys:\n",
    "1. `classification`: an integer (0 or 1) representing the classification result.\n",
    "2. `cot`: a string containing the brief chain of thought/reasoning for the classification.\n",
    "\n",
    "DO NOT include any other text, explanations, or Markdown code block fences (like ```json or ```) in your response. Output ONLY the JSON object.\n",
    "\n",
    "Input tweet:\n",
    "we’re in the customer economy a great cx is essential for growth when you have consistent values both internally and externally you can quickly adjust to satisfy your evermore sophisticated clients learn how\n",
    "\"\"\"},\n",
    "]\n",
    "response = ollama.chat(model='llama3.1:latest', messages=messages)\n",
    "print(\"\\nModel Response (Chat):\")\n",
    "print(response['message']['content'])"
   ]
  },
  {
   "cell_type": "code",
   "execution_count": null,
   "id": "78a69eaa",
   "metadata": {},
   "outputs": [
    {
     "name": "stdout",
     "output_type": "stream",
     "text": [
      "\n",
      "Model Response (Chat):\n",
      "{\n",
      "  \"classification\": 1,\n",
      "  \"cot\": \"The text explicitly mentions 'no one expected' which is an explicit reference to unexpectedness.\"\n",
      "}\n"
     ]
    }
   ],
   "source": [
    "messages = [\n",
    "    {'role': 'user', 'content': \"\"\"Given a tweet, classify whether an issue or situation is presented in the tweet as surprising, unexpected, or counters expectations.\n",
    "\n",
    "Note that:\n",
    "*   Only explicit mentions of terms showing unexpectedness like \"sudden\", \"breaking news\", \"a secret\", etc. are considered.\n",
    "*   Do not infer, imply, or assume surprise if not explicitly stated.\n",
    "*   Do not introduce information that is not present in the text.\n",
    "\n",
    "Definition:\n",
    "Surprise: Explicit references to an issue or situation being unexpected or counter to expectations.\n",
    "\n",
    "Examples:\n",
    "a) a woman turning a boeing 777 into a home has revealed the secret compament where flight attendants sleep right above passengers heads\n",
    "Answer: 1 - surprise is present.\n",
    "Reasoning: The text explicitly mentions the \"secret compartment,\" which is a hidden or unexpected feature. So surprise is present.\n",
    "\n",
    "b) texas gov abbott’s sudden decision this week to lift the mask mandate and other coronavirus restrictions has undermined the ability of private companies to enforce their own rules for protecting staffers and customers security expes say\n",
    "Answer: 1 - surprise is present.\n",
    "Reasoning: The text explicitly uses the word \"sudden\" to describe the decision as unexpected. So surprise is present.\n",
    "\n",
    "c) lighting systems have a secret super power the ability to turn sites into healthybuildings\n",
    "Answer: 1 - surprise is present.\n",
    "Reasoning: The text explicitly uses the word \"secret\" to describe the superpower of lighting systems, revealing its surprising feature. So surprise is present.\n",
    "\n",
    "d) the european central bank took a step in the federal reserve’s direction with its new inflation target of 2\n",
    "Answer: 0 - surprise is not present.\n",
    "Reasoning: No explicit mention of something unexpected or counter to expectations.\n",
    "\n",
    "THE ONLY OUTPUT should be a JSON object with two keys:\n",
    "1. `classification`: an integer (0 or 1) representing the classification result.\n",
    "2. `cot`: a string containing the brief chain of thought/reasoning for the classification.\n",
    "\n",
    "DO NOT include any other text, explanations, or Markdown code block fences (like ```json or ```) in your response. Output ONLY the JSON object.\n",
    "\n",
    "Input tweet:\n",
    "no one expected olympian chauntelowe to get breastcancer but she followed her intuition and got medical help be proactive and ask your doctor about hereditary cancer screenings breastcancerawareness breastcancersurvivor\n",
    "\"\"\"},\n",
    "]\n",
    "response = ollama.chat(model='llama3.1:latest', messages=messages)\n",
    "print(\"\\nModel Response (Chat):\")\n",
    "print(response['message']['content'])"
   ]
  },
  {
   "cell_type": "markdown",
   "id": "22caffc3",
   "metadata": {},
   "source": [
    "#### Validate the performance"
   ]
  },
  {
   "cell_type": "code",
   "execution_count": 35,
   "id": "622ccdee",
   "metadata": {},
   "outputs": [],
   "source": [
    "from ollama_classification import classify_tweet_with_ollama"
   ]
  },
  {
   "cell_type": "code",
   "execution_count": 72,
   "id": "009bc936",
   "metadata": {},
   "outputs": [],
   "source": [
    "MESSAGE = \"\"\"Given a tweet, classify whether an issue or situation is presented in the tweet as surprising, unexpected, or counters expectations.\n",
    "\n",
    "Note that:\n",
    "*   Only explicit use of terms showing unexpectedness like \"sudden\" or \"a secret\", etc. are considered.\n",
    "*   Just stating something or a situation is changed without framing the change clearly as unexpected in the text should not be classified as surprise.\n",
    "*   Do not infer, imply, or assume something can be seen as surprising.\n",
    "*   Do not introduce information that is not present in the text.\n",
    "\n",
    "Definition:\n",
    "Surprise: Explicit references to an issue or situation being unexpected or counter to expectations.\n",
    "\n",
    "Examples:\n",
    "a) a woman turning a boeing 777 into a home has revealed the secret compament where flight attendants sleep right above passengers heads\n",
    "Answer: 1 - surprise is present.\n",
    "Reasoning: The text explicitly mentions the \"secret compartment,\" which is a hidden or unexpected feature. So surprise is present.\n",
    "\n",
    "b) texas gov abbott’s sudden decision this week to lift the mask mandate and other coronavirus restrictions has undermined the ability of private companies to enforce their own rules for protecting staffers and customers security expes say\n",
    "Answer: 1 - surprise is present.\n",
    "Reasoning: The text explicitly uses the word \"sudden\" to describe the decision as unexpected. So surprise is present.\n",
    "\n",
    "c) lighting systems have a secret super power the ability to turn sites into healthybuildings\n",
    "Answer: 1 - surprise is present.\n",
    "Reasoning: The text explicitly uses the word \"secret\" to describe the superpower of lighting systems, revealing its surprising feature. So surprise is present.\n",
    "\n",
    "d) the european central bank took a step in the federal reserve’s direction with its new inflation target of 2\n",
    "Answer: 0 - surprise is not present.\n",
    "Reasoning: No explicit mention of something unexpected or counter to expectations. Although the european central bank changed the inflation target, it is not presented as surprising or unexpected.\n",
    "\n",
    "e) president jair bolsonaro of brazil wants the international community to pledge billions of dollars to pay for conservation effos but donors are skeptical under his watch deforestation in the amazon has risen to the highest level in over a decade\n",
    "Answer: 0 - surprise is not present.\n",
    "Reasoning: No explicit mention of something unexpected or counter to expectations. The situation is presented as factual rather than surprising.\n",
    "\n",
    "\n",
    "THE ONLY OUTPUT should be a JSON object with two keys:\n",
    "1. `cot`: a string containing the brief chain of thought/reasoning for the classification.\n",
    "2. `classification`: an integer (0 or 1) representing the classification result.\n",
    "\n",
    "\n",
    "Do NOT include any other text, explanations, or Markdown code block fences (like ```json or ```) in your response. Output ONLY the JSON object.\n",
    "\n",
    "Input tweet:\n",
    "'{tweet_text}'\n",
    "\"\"\""
   ]
  },
  {
   "cell_type": "code",
   "execution_count": 60,
   "id": "f2552481",
   "metadata": {},
   "outputs": [],
   "source": [
    "val = pd.read_csv(\"val.csv\")\n",
    "val.drop(labels = [\"Unnamed: 0\"], axis = 1, inplace = True)"
   ]
  },
  {
   "cell_type": "code",
   "execution_count": 73,
   "id": "2918cdc0",
   "metadata": {},
   "outputs": [
    {
     "name": "stderr",
     "output_type": "stream",
     "text": [
      "Classifying Tweets: 100%|██████████| 81/81 [02:56<00:00,  2.18s/it]\n"
     ]
    }
   ],
   "source": [
    "llm_results = []\n",
    "llm_cots = []\n",
    "\n",
    "for index, row in tqdm(val.iterrows(), total=len(val), desc=\"Classifying Tweets\"):\n",
    "    tweet = row['rep_doc']\n",
    "    llm_classification, llm_cot = classify_tweet_with_ollama(text=tweet, model=\"llama3.1\", message=MESSAGE)\n",
    "    llm_results.append(llm_classification)\n",
    "    llm_cots.append(llm_cot)\n",
    "\n",
    "val['surprise_llm1'] = llm_results\n",
    "val['surprise_llm_cot1'] = llm_cots"
   ]
  },
  {
   "cell_type": "code",
   "execution_count": 68,
   "id": "bd717f91",
   "metadata": {},
   "outputs": [
    {
     "name": "stderr",
     "output_type": "stream",
     "text": [
      "Classifying Tweets: 100%|██████████| 81/81 [02:47<00:00,  2.07s/it]\n"
     ]
    }
   ],
   "source": [
    "llm_results = []\n",
    "llm_cots = []\n",
    "\n",
    "for index, row in tqdm(val.iterrows(), total=len(val), desc=\"Classifying Tweets\"):\n",
    "    tweet = row['rep_doc']\n",
    "    llm_classification, llm_cot = classify_tweet_with_ollama(text=tweet, model=\"llama3.1\", message=MESSAGE)\n",
    "    llm_results.append(llm_classification)\n",
    "    llm_cots.append(llm_cot)\n",
    "\n",
    "val['surprise_llm2'] = llm_results\n",
    "val['surprise_llm_cot2'] = llm_cots"
   ]
  },
  {
   "cell_type": "code",
   "execution_count": 69,
   "id": "2c52cfaf",
   "metadata": {},
   "outputs": [
    {
     "data": {
      "text/plain": [
       "surprise_llm1  surprise_llm2\n",
       "0              0                78\n",
       "1              1                 3\n",
       "Name: topic, dtype: int64"
      ]
     },
     "execution_count": 69,
     "metadata": {},
     "output_type": "execute_result"
    }
   ],
   "source": [
    "val.groupby(['surprise_llm1','surprise_llm2'])['topic'].count()"
   ]
  },
  {
   "cell_type": "code",
   "execution_count": 70,
   "id": "cb6e6354",
   "metadata": {},
   "outputs": [
    {
     "data": {
      "text/plain": [
       "np.float64(1.0)"
      ]
     },
     "execution_count": 70,
     "metadata": {},
     "output_type": "execute_result"
    }
   ],
   "source": [
    "krippendorff.alpha((val['surprise_llm1'].values.tolist(), \n",
    "                    val['surprise_llm2'].values.tolist()), level_of_measurement=\"nominal\")"
   ]
  },
  {
   "cell_type": "code",
   "execution_count": 74,
   "id": "46272818",
   "metadata": {},
   "outputs": [
    {
     "data": {
      "text/plain": [
       "surprise  surprise_llm1\n",
       "0         0                78\n",
       "          1                 1\n",
       "1         1                 2\n",
       "Name: topic, dtype: int64"
      ]
     },
     "execution_count": 74,
     "metadata": {},
     "output_type": "execute_result"
    }
   ],
   "source": [
    "val.groupby(['surprise','surprise_llm1'])['topic'].count()"
   ]
  },
  {
   "cell_type": "code",
   "execution_count": 75,
   "id": "223d7eb9",
   "metadata": {},
   "outputs": [
    {
     "name": "stdout",
     "output_type": "stream",
     "text": [
      "Precision: 0.67\n",
      "Recall: 1.00\n",
      "F1-score: 0.80\n"
     ]
    }
   ],
   "source": [
    "precision = precision_score(val['surprise'], val['surprise_llm1'])\n",
    "recall = recall_score(val['surprise'], val['surprise_llm1'])\n",
    "f1 = f1_score(val['surprise'], val['surprise_llm1'])\n",
    "\n",
    "# Print individual scores\n",
    "print(f'Precision: {precision:.2f}')\n",
    "print(f'Recall: {recall:.2f}')\n",
    "print(f'F1-score: {f1:.2f}')"
   ]
  },
  {
   "cell_type": "code",
   "execution_count": 71,
   "id": "79df3b19",
   "metadata": {},
   "outputs": [],
   "source": [
    "val.to_csv('val.csv')"
   ]
  },
  {
   "cell_type": "markdown",
   "id": "eee0b95c",
   "metadata": {},
   "source": [
    "#### Test the final prompt"
   ]
  },
  {
   "cell_type": "code",
   "execution_count": null,
   "id": "f7092185",
   "metadata": {},
   "outputs": [],
   "source": [
    "MESSAGE = \"\"\"Given a tweet, classify whether an issue or situation is presented in the tweet as surprising, unexpected, or counters expectations.\n",
    "\n",
    "Note that:\n",
    "*   Only explicit use of terms showing unexpectedness like \"sudden\" or \"a secret\", etc. are considered.\n",
    "*   Just stating something or a situation is changed without framing the change clearly as unexpected in the text should not be classified as surprise.\n",
    "*   Do not infer, imply, or assume something can be seen as surprising.\n",
    "*   Do not introduce information that is not present in the text.\n",
    "\n",
    "Definition:\n",
    "Surprise: Explicit references to an issue or situation being unexpected or counter to expectations.\n",
    "\n",
    "Examples:\n",
    "a) a woman turning a boeing 777 into a home has revealed the secret compament where flight attendants sleep right above passengers heads\n",
    "Answer: 1 - surprise is present.\n",
    "Reasoning: The text explicitly mentions the \"secret compartment,\" which is a hidden or unexpected feature. So surprise is present.\n",
    "\n",
    "b) texas gov abbott’s sudden decision this week to lift the mask mandate and other coronavirus restrictions has undermined the ability of private companies to enforce their own rules for protecting staffers and customers security expes say\n",
    "Answer: 1 - surprise is present.\n",
    "Reasoning: The text explicitly uses the word \"sudden\" to describe the decision as unexpected. So surprise is present.\n",
    "\n",
    "c) lighting systems have a secret super power the ability to turn sites into healthybuildings\n",
    "Answer: 1 - surprise is present.\n",
    "Reasoning: The text explicitly uses the word \"secret\" to describe the superpower of lighting systems, revealing its surprising feature. So surprise is present.\n",
    "\n",
    "d) the european central bank took a step in the federal reserve’s direction with its new inflation target of 2\n",
    "Answer: 0 - surprise is not present.\n",
    "Reasoning: No explicit mention of something unexpected or counter to expectations. Although the european central bank changed the inflation target, it is not presented as surprising or unexpected.\n",
    "\n",
    "e) president jair bolsonaro of brazil wants the international community to pledge billions of dollars to pay for conservation effos but donors are skeptical under his watch deforestation in the amazon has risen to the highest level in over a decade\n",
    "Answer: 0 - surprise is not present.\n",
    "Reasoning: No explicit mention of something unexpected or counter to expectations. The situation is presented as factual rather than surprising.\n",
    "\n",
    "\n",
    "THE ONLY OUTPUT should be a JSON object with two keys:\n",
    "1. `cot`: a string containing the brief chain of thought/reasoning for the classification.\n",
    "2. `classification`: an integer (0 or 1) representing the classification result.\n",
    "\n",
    "\n",
    "Do NOT include any other text, explanations, or Markdown code block fences (like ```json or ```) in your response. Output ONLY the JSON object.\n",
    "\n",
    "Input tweet:\n",
    "'{tweet_text}'\n",
    "\"\"\""
   ]
  },
  {
   "cell_type": "code",
   "execution_count": 76,
   "id": "78c88e28",
   "metadata": {},
   "outputs": [],
   "source": [
    "test = pd.read_csv(\"test.csv\")\n",
    "test.drop(labels = [\"Unnamed: 0\"], axis = 1, inplace = True)"
   ]
  },
  {
   "cell_type": "code",
   "execution_count": null,
   "id": "49124322",
   "metadata": {},
   "outputs": [],
   "source": [
    "llm_results = []\n",
    "llm_cots = []\n",
    "\n",
    "for index, row in tqdm(test.iterrows(), total=len(test), desc=\"Classifying Tweets\"):\n",
    "    tweet = row['rep_doc']\n",
    "    llm_classification, llm_cot = classify_tweet_with_ollama(text=tweet, model=\"llama3.1\", message=MESSAGE)\n",
    "    llm_results.append(llm_classification)\n",
    "    llm_cots.append(llm_cot)\n",
    "\n",
    "test['surprise_llm1'] = llm_results\n",
    "test['surprise_llm_cot1'] = llm_cots"
   ]
  },
  {
   "cell_type": "code",
   "execution_count": null,
   "id": "b995b4bc",
   "metadata": {},
   "outputs": [],
   "source": [
    "llm_results = []\n",
    "llm_cots = []\n",
    "\n",
    "for index, row in tqdm(test.iterrows(), total=len(test), desc=\"Classifying Tweets\"):\n",
    "    tweet = row['rep_doc']\n",
    "    llm_classification, llm_cot = classify_tweet_with_ollama(text=tweet, model=\"llama3.1\", message=MESSAGE)\n",
    "    llm_results.append(llm_classification)\n",
    "    llm_cots.append(llm_cot)\n",
    "\n",
    "test['surprise_llm2'] = llm_results\n",
    "test['surprise_llm_cot2'] = llm_cots"
   ]
  },
  {
   "cell_type": "code",
   "execution_count": 77,
   "id": "eadaf9c5",
   "metadata": {},
   "outputs": [
    {
     "data": {
      "text/plain": [
       "surprise_llm1  surprise_llm2\n",
       "0              0                395\n",
       "1              1                  4\n",
       "Name: topic, dtype: int64"
      ]
     },
     "execution_count": 77,
     "metadata": {},
     "output_type": "execute_result"
    }
   ],
   "source": [
    "test.groupby(['surprise_llm1','surprise_llm2'])['topic'].count()"
   ]
  },
  {
   "cell_type": "code",
   "execution_count": 78,
   "id": "d092d58d",
   "metadata": {},
   "outputs": [
    {
     "data": {
      "text/plain": [
       "np.float64(1.0)"
      ]
     },
     "execution_count": 78,
     "metadata": {},
     "output_type": "execute_result"
    }
   ],
   "source": [
    "krippendorff.alpha((test['surprise_llm1'].values.tolist(), \n",
    "                    test['surprise_llm2'].values.tolist()), level_of_measurement=\"nominal\")"
   ]
  },
  {
   "cell_type": "code",
   "execution_count": 79,
   "id": "4f7fa2e0",
   "metadata": {},
   "outputs": [
    {
     "data": {
      "text/plain": [
       "surprise  surprise_llm1\n",
       "0         0                395\n",
       "          1                  2\n",
       "1         1                  2\n",
       "Name: topic, dtype: int64"
      ]
     },
     "execution_count": 79,
     "metadata": {},
     "output_type": "execute_result"
    }
   ],
   "source": [
    "test.groupby(['surprise','surprise_llm1'])['topic'].count()"
   ]
  },
  {
   "cell_type": "code",
   "execution_count": 80,
   "id": "22e83617",
   "metadata": {},
   "outputs": [
    {
     "name": "stdout",
     "output_type": "stream",
     "text": [
      "Precision: 0.50\n",
      "Recall: 1.00\n",
      "F1-score: 0.67\n"
     ]
    }
   ],
   "source": [
    "precision = precision_score(test['surprise'], test['surprise_llm1'])\n",
    "recall = recall_score(test['surprise'], test['surprise_llm1'])\n",
    "f1 = f1_score(test['surprise'], test['surprise_llm1'])\n",
    "\n",
    "# Print individual scores\n",
    "print(f'Precision: {precision:.2f}')\n",
    "print(f'Recall: {recall:.2f}')\n",
    "print(f'F1-score: {f1:.2f}')"
   ]
  },
  {
   "cell_type": "code",
   "execution_count": null,
   "id": "ca76c1cd",
   "metadata": {},
   "outputs": [],
   "source": [
    "test.to_csv('test.csv')"
   ]
  },
  {
   "cell_type": "markdown",
   "id": "6dbd8def",
   "metadata": {},
   "source": [
    "#### Make predictions for the full dataset"
   ]
  },
  {
   "cell_type": "code",
   "execution_count": 81,
   "id": "fa4b62f3",
   "metadata": {},
   "outputs": [],
   "source": [
    "nf = pd.read_csv(\"newsfactor.csv\")\n",
    "nf.drop(labels = [\"Unnamed: 0\"], axis = 1, inplace = True)"
   ]
  },
  {
   "cell_type": "code",
   "execution_count": 82,
   "id": "30e32273",
   "metadata": {},
   "outputs": [],
   "source": [
    "MESSAGE = \"\"\"Given a tweet, classify whether an issue or situation is presented in the tweet as surprising, unexpected, or counters expectations.\n",
    "\n",
    "Note that:\n",
    "*   Only explicit use of terms showing unexpectedness like \"sudden\" or \"a secret\", etc. are considered.\n",
    "*   Just stating something or a situation is changed without framing the change clearly as unexpected in the text should not be classified as surprise.\n",
    "*   Do not infer, imply, or assume something can be seen as surprising.\n",
    "*   Do not introduce information that is not present in the text.\n",
    "\n",
    "Definition:\n",
    "Surprise: Explicit references to an issue or situation being unexpected or counter to expectations.\n",
    "\n",
    "Examples:\n",
    "a) a woman turning a boeing 777 into a home has revealed the secret compament where flight attendants sleep right above passengers heads\n",
    "Answer: 1 - surprise is present.\n",
    "Reasoning: The text explicitly mentions the \"secret compartment,\" which is a hidden or unexpected feature. So surprise is present.\n",
    "\n",
    "b) texas gov abbott’s sudden decision this week to lift the mask mandate and other coronavirus restrictions has undermined the ability of private companies to enforce their own rules for protecting staffers and customers security expes say\n",
    "Answer: 1 - surprise is present.\n",
    "Reasoning: The text explicitly uses the word \"sudden\" to describe the decision as unexpected. So surprise is present.\n",
    "\n",
    "c) lighting systems have a secret super power the ability to turn sites into healthybuildings\n",
    "Answer: 1 - surprise is present.\n",
    "Reasoning: The text explicitly uses the word \"secret\" to describe the superpower of lighting systems, revealing its surprising feature. So surprise is present.\n",
    "\n",
    "d) the european central bank took a step in the federal reserve’s direction with its new inflation target of 2\n",
    "Answer: 0 - surprise is not present.\n",
    "Reasoning: No explicit mention of something unexpected or counter to expectations. Although the european central bank changed the inflation target, it is not presented as surprising or unexpected.\n",
    "\n",
    "e) president jair bolsonaro of brazil wants the international community to pledge billions of dollars to pay for conservation effos but donors are skeptical under his watch deforestation in the amazon has risen to the highest level in over a decade\n",
    "Answer: 0 - surprise is not present.\n",
    "Reasoning: No explicit mention of something unexpected or counter to expectations. The situation is presented as factual rather than surprising.\n",
    "\n",
    "\n",
    "THE ONLY OUTPUT should be a JSON object with two keys:\n",
    "1. `cot`: a string containing the brief chain of thought/reasoning for the classification.\n",
    "2. `classification`: an integer (0 or 1) representing the classification result.\n",
    "\n",
    "\n",
    "Do NOT include any other text, explanations, or Markdown code block fences (like ```json or ```) in your response. Output ONLY the JSON object.\n",
    "\n",
    "Input tweet:\n",
    "'{tweet_text}'\n",
    "\"\"\""
   ]
  },
  {
   "cell_type": "code",
   "execution_count": 83,
   "id": "2a61f3b8",
   "metadata": {},
   "outputs": [
    {
     "name": "stderr",
     "output_type": "stream",
     "text": [
      "Classifying Tweets: 100%|██████████| 9610/9610 [5:21:00<00:00,  2.00s/it]  \n"
     ]
    }
   ],
   "source": [
    "llm_results = []\n",
    "llm_cots = []\n",
    "\n",
    "for index, row in tqdm(nf.iterrows(), total=len(nf), desc=\"Classifying Tweets\"):\n",
    "    tweet = row['text_clean']\n",
    "    llm_classification, llm_cot = classify_tweet_with_ollama(text=tweet, model=\"llama3.1\", message=MESSAGE)\n",
    "    llm_results.append(llm_classification)\n",
    "    llm_cots.append(llm_cot)\n",
    "\n",
    "nf['surprise_llm'] = llm_results\n",
    "nf['surprise_llm_cot'] = llm_cots"
   ]
  },
  {
   "cell_type": "code",
   "execution_count": 84,
   "id": "34556b64",
   "metadata": {},
   "outputs": [],
   "source": [
    "nf.to_csv('newsfactor.csv')"
   ]
  }
 ],
 "metadata": {
  "kernelspec": {
   "display_name": "Python 3 (ipykernel)",
   "language": "python",
   "name": "python3"
  },
  "language_info": {
   "codemirror_mode": {
    "name": "ipython",
    "version": 3
   },
   "file_extension": ".py",
   "mimetype": "text/x-python",
   "name": "python",
   "nbconvert_exporter": "python",
   "pygments_lexer": "ipython3",
   "version": "3.9.18"
  }
 },
 "nbformat": 4,
 "nbformat_minor": 5
}
